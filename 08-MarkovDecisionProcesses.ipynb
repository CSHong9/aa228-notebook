{
 "metadata": {
  "language": "Julia",
  "name": "",
  "signature": "sha256:5e1f02ec4cadd610cebd9c40476b1d9d73fe69ae8b8e8125c62834deef4f7388"
 },
 "nbformat": 3,
 "nbformat_minor": 0,
 "worksheets": [
  {
   "cells": [
    {
     "cell_type": "heading",
     "level": 1,
     "metadata": {},
     "source": [
      "Markov Decision Processes"
     ]
    },
    {
     "cell_type": "code",
     "collapsed": false,
     "input": [
      "include(\"mdp.jl\")"
     ],
     "language": "python",
     "metadata": {},
     "outputs": [
      {
       "metadata": {},
       "output_type": "pyout",
       "prompt_number": 174,
       "text": [
        "backup (generic function with 1 method)"
       ]
      }
     ],
     "prompt_number": 174
    },
    {
     "cell_type": "code",
     "collapsed": false,
     "input": [
      "g = GridWorld();"
     ],
     "language": "python",
     "metadata": {},
     "outputs": [],
     "prompt_number": 175
    },
    {
     "cell_type": "code",
     "collapsed": false,
     "input": [
      "plot(g)"
     ],
     "language": "python",
     "metadata": {},
     "outputs": [
      {
       "metadata": {},
       "output_type": "pyout",
       "prompt_number": 176,
       "svg": [
        "<?xml version=\"1.0\" encoding=\"UTF-8\"?>\n",
        "<svg xmlns=\"http://www.w3.org/2000/svg\" xmlns:xlink=\"http://www.w3.org/1999/xlink\" width=\"425.595pt\" height=\"425.595pt\" viewBox=\"0 0 425.595 425.595\" version=\"1.1\">\n",
        "<defs>\n",
        "<g>\n",
        "<symbol overflow=\"visible\" id=\"glyph-1207134168-0-0\">\n",
        "<path style=\"stroke:none;\" d=\"\"/>\n",
        "</symbol>\n",
        "<symbol overflow=\"visible\" id=\"glyph-1207134168-0-1\">\n",
        "<path style=\"stroke:none;\" d=\"M 4.578125 -3.1875 C 4.578125 -3.984375 4.53125 -4.78125 4.1875 -5.515625 C 3.734375 -6.484375 2.90625 -6.640625 2.5 -6.640625 C 1.890625 -6.640625 1.171875 -6.375 0.75 -5.453125 C 0.4375 -4.765625 0.390625 -3.984375 0.390625 -3.1875 C 0.390625 -2.4375 0.421875 -1.546875 0.84375 -0.78125 C 1.265625 0.015625 2 0.21875 2.484375 0.21875 C 3.015625 0.21875 3.78125 0.015625 4.21875 -0.9375 C 4.53125 -1.625 4.578125 -2.40625 4.578125 -3.1875 Z M 2.484375 0 C 2.09375 0 1.5 -0.25 1.328125 -1.203125 C 1.21875 -1.796875 1.21875 -2.71875 1.21875 -3.3125 C 1.21875 -3.953125 1.21875 -4.609375 1.296875 -5.140625 C 1.484375 -6.328125 2.234375 -6.421875 2.484375 -6.421875 C 2.8125 -6.421875 3.46875 -6.234375 3.65625 -5.25 C 3.765625 -4.6875 3.765625 -3.9375 3.765625 -3.3125 C 3.765625 -2.5625 3.765625 -1.890625 3.65625 -1.25 C 3.5 -0.296875 2.9375 0 2.484375 0 Z \"/>\n",
        "</symbol>\n",
        "<symbol overflow=\"visible\" id=\"glyph-1207134168-1-0\">\n",
        "<path style=\"stroke:none;\" d=\"\"/>\n",
        "</symbol>\n",
        "<symbol overflow=\"visible\" id=\"glyph-1207134168-1-1\">\n",
        "<path style=\"stroke:none;\" d=\"M 1.90625 -0.53125 C 1.90625 -0.8125 1.671875 -1.0625 1.390625 -1.0625 C 1.09375 -1.0625 0.859375 -0.8125 0.859375 -0.53125 C 0.859375 -0.234375 1.09375 0 1.390625 0 C 1.671875 0 1.90625 -0.234375 1.90625 -0.53125 Z \"/>\n",
        "</symbol>\n",
        "</g>\n",
        "</defs>\n",
        "<g id=\"surface1\">\n",
        "<path style=\" stroke:none;fill-rule:nonzero;fill:rgb(100%,100%,100%);fill-opacity:1;\" d=\"M 0.199219 42.714844 L 0.199219 0.195313 L 42.71875 0.195313 L 42.71875 42.714844 Z \"/>\n",
        "<path style=\" stroke:none;fill-rule:nonzero;fill:rgb(100%,100%,100%);fill-opacity:1;\" d=\"M 0.199219 85.234375 L 0.199219 42.714844 L 42.71875 42.714844 L 42.71875 85.234375 Z \"/>\n",
        "<path style=\" stroke:none;fill-rule:nonzero;fill:rgb(100%,100%,100%);fill-opacity:1;\" d=\"M 0.199219 127.753906 L 0.199219 85.234375 L 42.71875 85.234375 L 42.71875 127.753906 Z \"/>\n",
        "<path style=\" stroke:none;fill-rule:nonzero;fill:rgb(100%,100%,100%);fill-opacity:1;\" d=\"M 0.199219 170.273438 L 0.199219 127.753906 L 42.71875 127.753906 L 42.71875 170.273438 Z \"/>\n",
        "<path style=\" stroke:none;fill-rule:nonzero;fill:rgb(100%,100%,100%);fill-opacity:1;\" d=\"M 0.199219 212.796875 L 0.199219 170.273438 L 42.71875 170.273438 L 42.71875 212.796875 Z \"/>\n",
        "<path style=\" stroke:none;fill-rule:nonzero;fill:rgb(100%,100%,100%);fill-opacity:1;\" d=\"M 0.199219 255.316406 L 0.199219 212.796875 L 42.71875 212.796875 L 42.71875 255.316406 Z \"/>\n",
        "<path style=\" stroke:none;fill-rule:nonzero;fill:rgb(100%,100%,100%);fill-opacity:1;\" d=\"M 0.199219 297.835938 L 0.199219 255.316406 L 42.71875 255.316406 L 42.71875 297.835938 Z \"/>\n",
        "<path style=\" stroke:none;fill-rule:nonzero;fill:rgb(100%,100%,100%);fill-opacity:1;\" d=\"M 0.199219 340.355469 L 0.199219 297.835938 L 42.71875 297.835938 L 42.71875 340.355469 Z \"/>\n",
        "<path style=\" stroke:none;fill-rule:nonzero;fill:rgb(100%,100%,100%);fill-opacity:1;\" d=\"M 0.199219 382.875 L 0.199219 340.355469 L 42.71875 340.355469 L 42.71875 382.875 Z \"/>\n",
        "<path style=\" stroke:none;fill-rule:nonzero;fill:rgb(100%,100%,100%);fill-opacity:1;\" d=\"M 0.199219 425.394531 L 0.199219 382.875 L 42.71875 382.875 L 42.71875 425.394531 Z \"/>\n",
        "<path style=\" stroke:none;fill-rule:nonzero;fill:rgb(100%,100%,100%);fill-opacity:1;\" d=\"M 42.71875 42.714844 L 42.71875 0.195313 L 85.238281 0.195313 L 85.238281 42.714844 Z \"/>\n",
        "<path style=\" stroke:none;fill-rule:nonzero;fill:rgb(100%,100%,100%);fill-opacity:1;\" d=\"M 42.71875 85.234375 L 42.71875 42.714844 L 85.238281 42.714844 L 85.238281 85.234375 Z \"/>\n",
        "<path style=\" stroke:none;fill-rule:nonzero;fill:rgb(100%,100%,100%);fill-opacity:1;\" d=\"M 42.71875 127.753906 L 42.71875 85.234375 L 85.238281 85.234375 L 85.238281 127.753906 Z \"/>\n",
        "<path style=\" stroke:none;fill-rule:nonzero;fill:rgb(100%,100%,100%);fill-opacity:1;\" d=\"M 42.71875 170.273438 L 42.71875 127.753906 L 85.238281 127.753906 L 85.238281 170.273438 Z \"/>\n",
        "<path style=\" stroke:none;fill-rule:nonzero;fill:rgb(100%,100%,100%);fill-opacity:1;\" d=\"M 42.71875 212.796875 L 42.71875 170.273438 L 85.238281 170.273438 L 85.238281 212.796875 Z \"/>\n",
        "<path style=\" stroke:none;fill-rule:nonzero;fill:rgb(100%,100%,100%);fill-opacity:1;\" d=\"M 42.71875 255.316406 L 42.71875 212.796875 L 85.238281 212.796875 L 85.238281 255.316406 Z \"/>\n",
        "<path style=\" stroke:none;fill-rule:nonzero;fill:rgb(100%,100%,100%);fill-opacity:1;\" d=\"M 42.71875 297.835938 L 42.71875 255.316406 L 85.238281 255.316406 L 85.238281 297.835938 Z \"/>\n",
        "<path style=\" stroke:none;fill-rule:nonzero;fill:rgb(100%,100%,100%);fill-opacity:1;\" d=\"M 42.71875 340.355469 L 42.71875 297.835938 L 85.238281 297.835938 L 85.238281 340.355469 Z \"/>\n",
        "<path style=\" stroke:none;fill-rule:nonzero;fill:rgb(100%,100%,100%);fill-opacity:1;\" d=\"M 42.71875 382.875 L 42.71875 340.355469 L 85.238281 340.355469 L 85.238281 382.875 Z \"/>\n",
        "<path style=\" stroke:none;fill-rule:nonzero;fill:rgb(100%,100%,100%);fill-opacity:1;\" d=\"M 42.71875 425.394531 L 42.71875 382.875 L 85.238281 382.875 L 85.238281 425.394531 Z \"/>\n",
        "<path style=\" stroke:none;fill-rule:nonzero;fill:rgb(100%,100%,100%);fill-opacity:1;\" d=\"M 85.238281 42.714844 L 85.238281 0.195313 L 127.757813 0.195313 L 127.757813 42.714844 Z \"/>\n",
        "<path style=\" stroke:none;fill-rule:nonzero;fill:rgb(100%,100%,100%);fill-opacity:1;\" d=\"M 85.238281 85.234375 L 85.238281 42.714844 L 127.757813 42.714844 L 127.757813 85.234375 Z \"/>\n",
        "<path style=\" stroke:none;fill-rule:nonzero;fill:rgb(100%,100%,100%);fill-opacity:1;\" d=\"M 85.238281 127.753906 L 85.238281 85.234375 L 127.757813 85.234375 L 127.757813 127.753906 Z \"/>\n",
        "<path style=\" stroke:none;fill-rule:nonzero;fill:rgb(100%,100%,100%);fill-opacity:1;\" d=\"M 85.238281 170.273438 L 85.238281 127.753906 L 127.757813 127.753906 L 127.757813 170.273438 Z \"/>\n",
        "<path style=\" stroke:none;fill-rule:nonzero;fill:rgb(100%,100%,100%);fill-opacity:1;\" d=\"M 85.238281 212.796875 L 85.238281 170.273438 L 127.757813 170.273438 L 127.757813 212.796875 Z \"/>\n",
        "<path style=\" stroke:none;fill-rule:nonzero;fill:rgb(100%,100%,100%);fill-opacity:1;\" d=\"M 85.238281 255.316406 L 85.238281 212.796875 L 127.757813 212.796875 L 127.757813 255.316406 Z \"/>\n",
        "<path style=\" stroke:none;fill-rule:nonzero;fill:rgb(100%,100%,100%);fill-opacity:1;\" d=\"M 85.238281 297.835938 L 85.238281 255.316406 L 127.757813 255.316406 L 127.757813 297.835938 Z \"/>\n",
        "<path style=\" stroke:none;fill-rule:nonzero;fill:rgb(100%,100%,100%);fill-opacity:1;\" d=\"M 85.238281 340.355469 L 85.238281 297.835938 L 127.757813 297.835938 L 127.757813 340.355469 Z \"/>\n",
        "<path style=\" stroke:none;fill-rule:nonzero;fill:rgb(100%,100%,100%);fill-opacity:1;\" d=\"M 85.238281 382.875 L 85.238281 340.355469 L 127.757813 340.355469 L 127.757813 382.875 Z \"/>\n",
        "<path style=\" stroke:none;fill-rule:nonzero;fill:rgb(100%,100%,100%);fill-opacity:1;\" d=\"M 85.238281 425.394531 L 85.238281 382.875 L 127.757813 382.875 L 127.757813 425.394531 Z \"/>\n",
        "<path style=\" stroke:none;fill-rule:nonzero;fill:rgb(100%,100%,100%);fill-opacity:1;\" d=\"M 127.757813 42.714844 L 127.757813 0.195313 L 170.28125 0.195313 L 170.28125 42.714844 Z \"/>\n",
        "<path style=\" stroke:none;fill-rule:nonzero;fill:rgb(100%,100%,100%);fill-opacity:1;\" d=\"M 127.757813 85.234375 L 127.757813 42.714844 L 170.28125 42.714844 L 170.28125 85.234375 Z \"/>\n",
        "<path style=\" stroke:none;fill-rule:nonzero;fill:rgb(100%,100%,100%);fill-opacity:1;\" d=\"M 127.757813 127.753906 L 127.757813 85.234375 L 170.28125 85.234375 L 170.28125 127.753906 Z \"/>\n",
        "<path style=\" stroke:none;fill-rule:nonzero;fill:rgb(100%,100%,100%);fill-opacity:1;\" d=\"M 127.757813 170.273438 L 127.757813 127.753906 L 170.28125 127.753906 L 170.28125 170.273438 Z \"/>\n",
        "<path style=\" stroke:none;fill-rule:nonzero;fill:rgb(100%,100%,100%);fill-opacity:1;\" d=\"M 127.757813 212.796875 L 127.757813 170.273438 L 170.28125 170.273438 L 170.28125 212.796875 Z \"/>\n",
        "<path style=\" stroke:none;fill-rule:nonzero;fill:rgb(100%,100%,100%);fill-opacity:1;\" d=\"M 127.757813 255.316406 L 127.757813 212.796875 L 170.28125 212.796875 L 170.28125 255.316406 Z \"/>\n",
        "<path style=\" stroke:none;fill-rule:nonzero;fill:rgb(100%,100%,100%);fill-opacity:1;\" d=\"M 127.757813 297.835938 L 127.757813 255.316406 L 170.28125 255.316406 L 170.28125 297.835938 Z \"/>\n",
        "<path style=\" stroke:none;fill-rule:nonzero;fill:rgb(100%,100%,100%);fill-opacity:1;\" d=\"M 127.757813 340.355469 L 127.757813 297.835938 L 170.28125 297.835938 L 170.28125 340.355469 Z \"/>\n",
        "<path style=\" stroke:none;fill-rule:nonzero;fill:rgb(100%,100%,100%);fill-opacity:1;\" d=\"M 127.757813 382.875 L 127.757813 340.355469 L 170.28125 340.355469 L 170.28125 382.875 Z \"/>\n",
        "<path style=\" stroke:none;fill-rule:nonzero;fill:rgb(100%,100%,100%);fill-opacity:1;\" d=\"M 127.757813 425.394531 L 127.757813 382.875 L 170.28125 382.875 L 170.28125 425.394531 Z \"/>\n",
        "<path style=\" stroke:none;fill-rule:nonzero;fill:rgb(100%,100%,100%);fill-opacity:1;\" d=\"M 170.28125 42.714844 L 170.28125 0.195313 L 212.800781 0.195313 L 212.800781 42.714844 Z \"/>\n",
        "<path style=\" stroke:none;fill-rule:nonzero;fill:rgb(100%,100%,100%);fill-opacity:1;\" d=\"M 170.28125 85.234375 L 170.28125 42.714844 L 212.800781 42.714844 L 212.800781 85.234375 Z \"/>\n",
        "<path style=\" stroke:none;fill-rule:nonzero;fill:rgb(100%,100%,100%);fill-opacity:1;\" d=\"M 170.28125 127.753906 L 170.28125 85.234375 L 212.800781 85.234375 L 212.800781 127.753906 Z \"/>\n",
        "<path style=\" stroke:none;fill-rule:nonzero;fill:rgb(100%,100%,100%);fill-opacity:1;\" d=\"M 170.28125 170.273438 L 170.28125 127.753906 L 212.800781 127.753906 L 212.800781 170.273438 Z \"/>\n",
        "<path style=\" stroke:none;fill-rule:nonzero;fill:rgb(100%,100%,100%);fill-opacity:1;\" d=\"M 170.28125 212.796875 L 170.28125 170.273438 L 212.800781 170.273438 L 212.800781 212.796875 Z \"/>\n",
        "<path style=\" stroke:none;fill-rule:nonzero;fill:rgb(100%,100%,100%);fill-opacity:1;\" d=\"M 170.28125 255.316406 L 170.28125 212.796875 L 212.800781 212.796875 L 212.800781 255.316406 Z \"/>\n",
        "<path style=\" stroke:none;fill-rule:nonzero;fill:rgb(100%,100%,100%);fill-opacity:1;\" d=\"M 170.28125 297.835938 L 170.28125 255.316406 L 212.800781 255.316406 L 212.800781 297.835938 Z \"/>\n",
        "<path style=\" stroke:none;fill-rule:nonzero;fill:rgb(100%,100%,100%);fill-opacity:1;\" d=\"M 170.28125 340.355469 L 170.28125 297.835938 L 212.800781 297.835938 L 212.800781 340.355469 Z \"/>\n",
        "<path style=\" stroke:none;fill-rule:nonzero;fill:rgb(100%,100%,100%);fill-opacity:1;\" d=\"M 170.28125 382.875 L 170.28125 340.355469 L 212.800781 340.355469 L 212.800781 382.875 Z \"/>\n",
        "<path style=\" stroke:none;fill-rule:nonzero;fill:rgb(100%,100%,100%);fill-opacity:1;\" d=\"M 170.28125 425.394531 L 170.28125 382.875 L 212.800781 382.875 L 212.800781 425.394531 Z \"/>\n",
        "<path style=\" stroke:none;fill-rule:nonzero;fill:rgb(100%,100%,100%);fill-opacity:1;\" d=\"M 212.800781 42.714844 L 212.800781 0.195313 L 255.320313 0.195313 L 255.320313 42.714844 Z \"/>\n",
        "<path style=\" stroke:none;fill-rule:nonzero;fill:rgb(100%,100%,100%);fill-opacity:1;\" d=\"M 212.800781 85.234375 L 212.800781 42.714844 L 255.320313 42.714844 L 255.320313 85.234375 Z \"/>\n",
        "<path style=\" stroke:none;fill-rule:nonzero;fill:rgb(100%,100%,100%);fill-opacity:1;\" d=\"M 212.800781 127.753906 L 212.800781 85.234375 L 255.320313 85.234375 L 255.320313 127.753906 Z \"/>\n",
        "<path style=\" stroke:none;fill-rule:nonzero;fill:rgb(100%,100%,100%);fill-opacity:1;\" d=\"M 212.800781 170.273438 L 212.800781 127.753906 L 255.320313 127.753906 L 255.320313 170.273438 Z \"/>\n",
        "<path style=\" stroke:none;fill-rule:nonzero;fill:rgb(100%,100%,100%);fill-opacity:1;\" d=\"M 212.800781 212.796875 L 212.800781 170.273438 L 255.320313 170.273438 L 255.320313 212.796875 Z \"/>\n",
        "<path style=\" stroke:none;fill-rule:nonzero;fill:rgb(100%,100%,100%);fill-opacity:1;\" d=\"M 212.800781 255.316406 L 212.800781 212.796875 L 255.320313 212.796875 L 255.320313 255.316406 Z \"/>\n",
        "<path style=\" stroke:none;fill-rule:nonzero;fill:rgb(100%,100%,100%);fill-opacity:1;\" d=\"M 212.800781 297.835938 L 212.800781 255.316406 L 255.320313 255.316406 L 255.320313 297.835938 Z \"/>\n",
        "<path style=\" stroke:none;fill-rule:nonzero;fill:rgb(100%,100%,100%);fill-opacity:1;\" d=\"M 212.800781 340.355469 L 212.800781 297.835938 L 255.320313 297.835938 L 255.320313 340.355469 Z \"/>\n",
        "<path style=\" stroke:none;fill-rule:nonzero;fill:rgb(100%,100%,100%);fill-opacity:1;\" d=\"M 212.800781 382.875 L 212.800781 340.355469 L 255.320313 340.355469 L 255.320313 382.875 Z \"/>\n",
        "<path style=\" stroke:none;fill-rule:nonzero;fill:rgb(100%,100%,100%);fill-opacity:1;\" d=\"M 212.800781 425.394531 L 212.800781 382.875 L 255.320313 382.875 L 255.320313 425.394531 Z \"/>\n",
        "<path style=\" stroke:none;fill-rule:nonzero;fill:rgb(100%,100%,100%);fill-opacity:1;\" d=\"M 255.320313 42.714844 L 255.320313 0.195313 L 297.839844 0.195313 L 297.839844 42.714844 Z \"/>\n",
        "<path style=\" stroke:none;fill-rule:nonzero;fill:rgb(100%,100%,100%);fill-opacity:1;\" d=\"M 255.320313 85.234375 L 255.320313 42.714844 L 297.839844 42.714844 L 297.839844 85.234375 Z \"/>\n",
        "<path style=\" stroke:none;fill-rule:nonzero;fill:rgb(100%,100%,100%);fill-opacity:1;\" d=\"M 255.320313 127.753906 L 255.320313 85.234375 L 297.839844 85.234375 L 297.839844 127.753906 Z \"/>\n",
        "<path style=\" stroke:none;fill-rule:nonzero;fill:rgb(100%,100%,100%);fill-opacity:1;\" d=\"M 255.320313 170.273438 L 255.320313 127.753906 L 297.839844 127.753906 L 297.839844 170.273438 Z \"/>\n",
        "<path style=\" stroke:none;fill-rule:nonzero;fill:rgb(100%,100%,100%);fill-opacity:1;\" d=\"M 255.320313 212.796875 L 255.320313 170.273438 L 297.839844 170.273438 L 297.839844 212.796875 Z \"/>\n",
        "<path style=\" stroke:none;fill-rule:nonzero;fill:rgb(100%,100%,100%);fill-opacity:1;\" d=\"M 255.320313 255.316406 L 255.320313 212.796875 L 297.839844 212.796875 L 297.839844 255.316406 Z \"/>\n",
        "<path style=\" stroke:none;fill-rule:nonzero;fill:rgb(100%,100%,100%);fill-opacity:1;\" d=\"M 255.320313 297.835938 L 255.320313 255.316406 L 297.839844 255.316406 L 297.839844 297.835938 Z \"/>\n",
        "<path style=\" stroke:none;fill-rule:nonzero;fill:rgb(100%,100%,100%);fill-opacity:1;\" d=\"M 255.320313 340.355469 L 255.320313 297.835938 L 297.839844 297.835938 L 297.839844 340.355469 Z \"/>\n",
        "<path style=\" stroke:none;fill-rule:nonzero;fill:rgb(100%,100%,100%);fill-opacity:1;\" d=\"M 255.320313 382.875 L 255.320313 340.355469 L 297.839844 340.355469 L 297.839844 382.875 Z \"/>\n",
        "<path style=\" stroke:none;fill-rule:nonzero;fill:rgb(100%,100%,100%);fill-opacity:1;\" d=\"M 255.320313 425.394531 L 255.320313 382.875 L 297.839844 382.875 L 297.839844 425.394531 Z \"/>\n",
        "<path style=\" stroke:none;fill-rule:nonzero;fill:rgb(100%,100%,100%);fill-opacity:1;\" d=\"M 297.839844 42.714844 L 297.839844 0.195313 L 340.359375 0.195313 L 340.359375 42.714844 Z \"/>\n",
        "<path style=\" stroke:none;fill-rule:nonzero;fill:rgb(100%,100%,100%);fill-opacity:1;\" d=\"M 297.839844 85.234375 L 297.839844 42.714844 L 340.359375 42.714844 L 340.359375 85.234375 Z \"/>\n",
        "<path style=\" stroke:none;fill-rule:nonzero;fill:rgb(100%,100%,100%);fill-opacity:1;\" d=\"M 297.839844 127.753906 L 297.839844 85.234375 L 340.359375 85.234375 L 340.359375 127.753906 Z \"/>\n",
        "<path style=\" stroke:none;fill-rule:nonzero;fill:rgb(100%,100%,100%);fill-opacity:1;\" d=\"M 297.839844 170.273438 L 297.839844 127.753906 L 340.359375 127.753906 L 340.359375 170.273438 Z \"/>\n",
        "<path style=\" stroke:none;fill-rule:nonzero;fill:rgb(100%,100%,100%);fill-opacity:1;\" d=\"M 297.839844 212.796875 L 297.839844 170.273438 L 340.359375 170.273438 L 340.359375 212.796875 Z \"/>\n",
        "<path style=\" stroke:none;fill-rule:nonzero;fill:rgb(100%,100%,100%);fill-opacity:1;\" d=\"M 297.839844 255.316406 L 297.839844 212.796875 L 340.359375 212.796875 L 340.359375 255.316406 Z \"/>\n",
        "<path style=\" stroke:none;fill-rule:nonzero;fill:rgb(100%,100%,100%);fill-opacity:1;\" d=\"M 297.839844 297.835938 L 297.839844 255.316406 L 340.359375 255.316406 L 340.359375 297.835938 Z \"/>\n",
        "<path style=\" stroke:none;fill-rule:nonzero;fill:rgb(100%,100%,100%);fill-opacity:1;\" d=\"M 297.839844 340.355469 L 297.839844 297.835938 L 340.359375 297.835938 L 340.359375 340.355469 Z \"/>\n",
        "<path style=\" stroke:none;fill-rule:nonzero;fill:rgb(100%,100%,100%);fill-opacity:1;\" d=\"M 297.839844 382.875 L 297.839844 340.355469 L 340.359375 340.355469 L 340.359375 382.875 Z \"/>\n",
        "<path style=\" stroke:none;fill-rule:nonzero;fill:rgb(100%,100%,100%);fill-opacity:1;\" d=\"M 297.839844 425.394531 L 297.839844 382.875 L 340.359375 382.875 L 340.359375 425.394531 Z \"/>\n",
        "<path style=\" stroke:none;fill-rule:nonzero;fill:rgb(100%,100%,100%);fill-opacity:1;\" d=\"M 340.359375 42.714844 L 340.359375 0.195313 L 382.882813 0.195313 L 382.882813 42.714844 Z \"/>\n",
        "<path style=\" stroke:none;fill-rule:nonzero;fill:rgb(100%,100%,100%);fill-opacity:1;\" d=\"M 340.359375 85.234375 L 340.359375 42.714844 L 382.882813 42.714844 L 382.882813 85.234375 Z \"/>\n",
        "<path style=\" stroke:none;fill-rule:nonzero;fill:rgb(100%,100%,100%);fill-opacity:1;\" d=\"M 340.359375 127.753906 L 340.359375 85.234375 L 382.882813 85.234375 L 382.882813 127.753906 Z \"/>\n",
        "<path style=\" stroke:none;fill-rule:nonzero;fill:rgb(100%,100%,100%);fill-opacity:1;\" d=\"M 340.359375 170.273438 L 340.359375 127.753906 L 382.882813 127.753906 L 382.882813 170.273438 Z \"/>\n",
        "<path style=\" stroke:none;fill-rule:nonzero;fill:rgb(100%,100%,100%);fill-opacity:1;\" d=\"M 340.359375 212.796875 L 340.359375 170.273438 L 382.882813 170.273438 L 382.882813 212.796875 Z \"/>\n",
        "<path style=\" stroke:none;fill-rule:nonzero;fill:rgb(100%,100%,100%);fill-opacity:1;\" d=\"M 340.359375 255.316406 L 340.359375 212.796875 L 382.882813 212.796875 L 382.882813 255.316406 Z \"/>\n",
        "<path style=\" stroke:none;fill-rule:nonzero;fill:rgb(100%,100%,100%);fill-opacity:1;\" d=\"M 340.359375 297.835938 L 340.359375 255.316406 L 382.882813 255.316406 L 382.882813 297.835938 Z \"/>\n",
        "<path style=\" stroke:none;fill-rule:nonzero;fill:rgb(100%,100%,100%);fill-opacity:1;\" d=\"M 340.359375 340.355469 L 340.359375 297.835938 L 382.882813 297.835938 L 382.882813 340.355469 Z \"/>\n",
        "<path style=\" stroke:none;fill-rule:nonzero;fill:rgb(100%,100%,100%);fill-opacity:1;\" d=\"M 340.359375 382.875 L 340.359375 340.355469 L 382.882813 340.355469 L 382.882813 382.875 Z \"/>\n",
        "<path style=\" stroke:none;fill-rule:nonzero;fill:rgb(100%,100%,100%);fill-opacity:1;\" d=\"M 340.359375 425.394531 L 340.359375 382.875 L 382.882813 382.875 L 382.882813 425.394531 Z \"/>\n",
        "<path style=\" stroke:none;fill-rule:nonzero;fill:rgb(100%,100%,100%);fill-opacity:1;\" d=\"M 382.882813 42.714844 L 382.882813 0.195313 L 425.402344 0.195313 L 425.402344 42.714844 Z \"/>\n",
        "<path style=\" stroke:none;fill-rule:nonzero;fill:rgb(100%,100%,100%);fill-opacity:1;\" d=\"M 382.882813 85.234375 L 382.882813 42.714844 L 425.402344 42.714844 L 425.402344 85.234375 Z \"/>\n",
        "<path style=\" stroke:none;fill-rule:nonzero;fill:rgb(100%,100%,100%);fill-opacity:1;\" d=\"M 382.882813 127.753906 L 382.882813 85.234375 L 425.402344 85.234375 L 425.402344 127.753906 Z \"/>\n",
        "<path style=\" stroke:none;fill-rule:nonzero;fill:rgb(100%,100%,100%);fill-opacity:1;\" d=\"M 382.882813 170.273438 L 382.882813 127.753906 L 425.402344 127.753906 L 425.402344 170.273438 Z \"/>\n",
        "<path style=\" stroke:none;fill-rule:nonzero;fill:rgb(100%,100%,100%);fill-opacity:1;\" d=\"M 382.882813 212.796875 L 382.882813 170.273438 L 425.402344 170.273438 L 425.402344 212.796875 Z \"/>\n",
        "<path style=\" stroke:none;fill-rule:nonzero;fill:rgb(100%,100%,100%);fill-opacity:1;\" d=\"M 382.882813 255.316406 L 382.882813 212.796875 L 425.402344 212.796875 L 425.402344 255.316406 Z \"/>\n",
        "<path style=\" stroke:none;fill-rule:nonzero;fill:rgb(100%,100%,100%);fill-opacity:1;\" d=\"M 382.882813 297.835938 L 382.882813 255.316406 L 425.402344 255.316406 L 425.402344 297.835938 Z \"/>\n",
        "<path style=\" stroke:none;fill-rule:nonzero;fill:rgb(100%,100%,100%);fill-opacity:1;\" d=\"M 382.882813 340.355469 L 382.882813 297.835938 L 425.402344 297.835938 L 425.402344 340.355469 Z \"/>\n",
        "<path style=\" stroke:none;fill-rule:nonzero;fill:rgb(100%,100%,100%);fill-opacity:1;\" d=\"M 382.882813 382.875 L 382.882813 340.355469 L 425.402344 340.355469 L 425.402344 382.875 Z \"/>\n",
        "<path style=\" stroke:none;fill-rule:nonzero;fill:rgb(100%,100%,100%);fill-opacity:1;\" d=\"M 382.882813 425.394531 L 382.882813 382.875 L 425.402344 382.875 L 425.402344 425.394531 Z \"/>\n",
        "<path style=\" stroke:none;fill-rule:nonzero;fill:rgb(50%,50%,50%);fill-opacity:1;\" d=\"M 21.460938 23.582031 L 21.460938 19.328125 L 0.199219 21.453125 Z \"/>\n",
        "<path style=\" stroke:none;fill-rule:nonzero;fill:rgb(50%,50%,50%);fill-opacity:1;\" d=\"M 21.460938 19.328125 L 21.460938 23.582031 L 42.71875 21.453125 Z \"/>\n",
        "<path style=\" stroke:none;fill-rule:nonzero;fill:rgb(50%,50%,50%);fill-opacity:1;\" d=\"M 23.585938 21.453125 L 19.332031 21.453125 L 21.460938 0.195313 Z \"/>\n",
        "<path style=\" stroke:none;fill-rule:nonzero;fill:rgb(50%,50%,50%);fill-opacity:1;\" d=\"M 19.332031 21.453125 L 23.585938 21.453125 L 21.460938 42.714844 Z \"/>\n",
        "<g style=\"fill:rgb(0%,0%,0%);fill-opacity:1;\">\n",
        "  <use xlink:href=\"#glyph-1207134168-0-1\" x=\"3.719\" y=\"39.199\"/>\n",
        "</g>\n",
        "<g style=\"fill:rgb(0%,0%,0%);fill-opacity:1;\">\n",
        "  <use xlink:href=\"#glyph-1207134168-1-1\" x=\"8.7\" y=\"39.199\"/>\n",
        "</g>\n",
        "<g style=\"fill:rgb(0%,0%,0%);fill-opacity:1;\">\n",
        "  <use xlink:href=\"#glyph-1207134168-0-1\" x=\"11.468\" y=\"39.199\"/>\n",
        "  <use xlink:href=\"#glyph-1207134168-0-1\" x=\"16.44932\" y=\"39.199\"/>\n",
        "</g>\n",
        "<path style=\"fill:none;stroke-width:0.3985;stroke-linecap:butt;stroke-linejoin:miter;stroke:rgb(0%,0%,0%);stroke-opacity:1;stroke-miterlimit:10;\" d=\"M 0.00021875 0.00146875 L 425.203344 0.00146875 M 0.00021875 42.521 L 425.203344 42.521 M 0.00021875 85.040531 L 425.203344 85.040531 M 0.00021875 127.560062 L 425.203344 127.560062 M 0.00021875 170.079594 L 425.203344 170.079594 M 0.00021875 212.599125 L 425.203344 212.599125 M 0.00021875 255.122562 L 425.203344 255.122562 M 0.00021875 297.642094 L 425.203344 297.642094 M 0.00021875 340.161625 L 425.203344 340.161625 M 0.00021875 382.681156 L 425.203344 382.681156 M 0.00021875 425.188969 L 425.203344 425.188969 M 0.00021875 0.00146875 L 0.00021875 425.200687 M 42.51975 0.00146875 L 42.51975 425.200687 M 85.039281 0.00146875 L 85.039281 425.200687 M 127.558813 0.00146875 L 127.558813 425.200687 M 170.08225 0.00146875 L 170.08225 425.200687 M 212.601781 0.00146875 L 212.601781 425.200687 M 255.121312 0.00146875 L 255.121312 425.200687 M 297.640844 0.00146875 L 297.640844 425.200687 M 340.160375 0.00146875 L 340.160375 425.200687 M 382.683812 0.00146875 L 382.683812 425.200687 M 425.187719 0.00146875 L 425.187719 425.200687 \" transform=\"matrix(1,0,0,-1,0.199,425.396)\"/>\n",
        "</g>\n",
        "</svg>\n",
        "\n"
       ],
       "text": [
        "TikzPicture(\"\\\\definecolor{currentcolor}{RGB}{255.0,255.0,255.0}\\n\\\\fill[currentcolor] (0.0,9.0) rectangle +(1.0,1.0);\\n\\\\definecolor{currentcolor}{RGB}{255.0,255.0,255.0}\\n\\\\fill[currentcolor] (0.0,8.0) rectangle +(1.0,1.0);\\n\\\\definecolor{currentcolor}{RGB}{255.0,255.0,255.0}\\n\\\\fill[currentcolor] (0.0,7.0) rectangle +(1.0,1.0);\\n\\\\definecolor{currentcolor}{RGB}{255.0,255.0,255.0}\\n\\\\fill[currentcolor] (0.0,6.0) rectangle +(1.0,1.0);\\n\\\\definecolor{currentcolor}{RGB}{255.0,255.0,255.0}\\n\\\\fill[currentcolor] (0.0,5.0) rectangle +(1.0,1.0);\\n\\\\definecolor{currentcolor}{RGB}{255.0,255.0,255.0}\\n\\\\fill[currentcolor] (0.0,4.0) rectangle +(1.0,1.0);\\n\\\\definecolor{currentcolor}{RGB}{255.0,255.0,255.0}\\n\\\\fill[currentcolor] (0.0,3.0) rectangle +(1.0,1.0);\\n\\\\definecolor{currentcolor}{RGB}{255.0,255.0,255.0}\\n\\\\fill[currentcolor] (0.0,2.0) rectangle +(1.0,1.0);\\n\\\\definecolor{currentcolor}{RGB}{255.0,255.0,255.0}\\n\\\\fill[currentcolor] (0.0,1.0) rectangle +(1.0,1.0);\\n\\\\definecolor{currentcolor}{RGB}{255.0,255.0,255.0}\\n\\\\fill[currentcolor] (0.0,0.0) rectangle +(1.0,1.0);\\n\\\\definecolor{currentcolor}{RGB}{255.0,255.0,255.0}\\n\\\\fill[currentcolor] (1.0,9.0) rectangle +(1.0,1.0);\\n\\\\definecolor{currentcolor}{RGB}{255.0,255.0,255.0}\\n\\\\fill[currentcolor] (1.0,8.0) rectangle +(1.0,1.0);\\n\\\\definecolor{currentcolor}{RGB}{255.0,255.0,255.0}\\n\\\\fill[currentcolor] (1.0,7.0) rectangle +(1.0,1.0);\\n\\\\definecolor{currentcolor}{RGB}{255.0,255.0,255.0}\\n\\\\fill[currentcolor] (1.0,6.0) rectangle +(1.0,1.0);\\n\\\\definecolor{currentcolor}{RGB}{255.0,255.0,255.0}\\n\\\\fill[currentcolor] (1.0,5.0) rectangle +(1.0,1.0);\\n\\\\definecolor{currentcolor}{RGB}{255.0,255.0,255.0}\\n\\\\fill[currentcolor] (1.0,4.0) rectangle +(1.0,1.0);\\n\\\\definecolor{currentcolor}{RGB}{255.0,255.0,255.0}\\n\\\\fill[currentcolor] (1.0,3.0) rectangle +(1.0,1.0);\\n\\\\definecolor{currentcolor}{RGB}{255.0,255.0,255.0}\\n\\\\fill[currentcolor] (1.0,2.0) rectangle +(1.0,1.0);\\n\\\\definecolor{currentcolor}{RGB}{255.0,255.0,255.0}\\n\\\\fill[currentcolor] (1.0,1.0) rectangle +(1.0,1.0);\\n\\\\definecolor{currentcolor}{RGB}{255.0,255.0,255.0}\\n\\\\fill[currentcolor] (1.0,0.0) rectangle +(1.0,1.0);\\n\\\\definecolor{currentcolor}{RGB}{255.0,255.0,255.0}\\n\\\\fill[currentcolor] (2.0,9.0) rectangle +(1.0,1.0);\\n\\\\definecolor{currentcolor}{RGB}{255.0,255.0,255.0}\\n\\\\fill[currentcolor] (2.0,8.0) rectangle +(1.0,1.0);\\n\\\\definecolor{currentcolor}{RGB}{255.0,255.0,255.0}\\n\\\\fill[currentcolor] (2.0,7.0) rectangle +(1.0,1.0);\\n\\\\definecolor{currentcolor}{RGB}{255.0,255.0,255.0}\\n\\\\fill[currentcolor] (2.0,6.0) rectangle +(1.0,1.0);\\n\\\\definecolor{currentcolor}{RGB}{255.0,255.0,255.0}\\n\\\\fill[currentcolor] (2.0,5.0) rectangle +(1.0,1.0);\\n\\\\definecolor{currentcolor}{RGB}{255.0,255.0,255.0}\\n\\\\fill[currentcolor] (2.0,4.0) rectangle +(1.0,1.0);\\n\\\\definecolor{currentcolor}{RGB}{255.0,255.0,255.0}\\n\\\\fill[currentcolor] (2.0,3.0) rectangle +(1.0,1.0);\\n\\\\definecolor{currentcolor}{RGB}{255.0,255.0,255.0}\\n\\\\fill[currentcolor] (2.0,2.0) rectangle +(1.0,1.0);\\n\\\\definecolor{currentcolor}{RGB}{255.0,255.0,255.0}\\n\\\\fill[currentcolor] (2.0,1.0) rectangle +(1.0,1.0);\\n\\\\definecolor{currentcolor}{RGB}{255.0,255.0,255.0}\\n\\\\fill[currentcolor] (2.0,0.0) rectangle +(1.0,1.0);\\n\\\\definecolor{currentcolor}{RGB}{255.0,255.0,255.0}\\n\\\\fill[currentcolor] (3.0,9.0) rectangle +(1.0,1.0);\\n\\\\definecolor{currentcolor}{RGB}{255.0,255.0,255.0}\\n\\\\fill[currentcolor] (3.0,8.0) rectangle +(1.0,1.0);\\n\\\\definecolor{currentcolor}{RGB}{255.0,255.0,255.0}\\n\\\\fill[currentcolor] (3.0,7.0) rectangle +(1.0,1.0);\\n\\\\definecolor{currentcolor}{RGB}{255.0,255.0,255.0}\\n\\\\fill[currentcolor] (3.0,6.0) rectangle +(1.0,1.0);\\n\\\\definecolor{currentcolor}{RGB}{255.0,255.0,255.0}\\n\\\\fill[currentcolor] (3.0,5.0) rectangle +(1.0,1.0);\\n\\\\definecolor{currentcolor}{RGB}{255.0,255.0,255.0}\\n\\\\fill[currentcolor] (3.0,4.0) rectangle +(1.0,1.0);\\n\\\\definecolor{currentcolor}{RGB}{255.0,255.0,255.0}\\n\\\\fill[currentcolor] (3.0,3.0) rectangle +(1.0,1.0);\\n\\\\definecolor{currentcolor}{RGB}{255.0,255.0,255.0}\\n\\\\fill[currentcolor] (3.0,2.0) rectangle +(1.0,1.0);\\n\\\\definecolor{currentcolor}{RGB}{255.0,255.0,255.0}\\n\\\\fill[currentcolor] (3.0,1.0) rectangle +(1.0,1.0);\\n\\\\definecolor{currentcolor}{RGB}{255.0,255.0,255.0}\\n\\\\fill[currentcolor] (3.0,0.0) rectangle +(1.0,1.0);\\n\\\\definecolor{currentcolor}{RGB}{255.0,255.0,255.0}\\n\\\\fill[currentcolor] (4.0,9.0) rectangle +(1.0,1.0);\\n\\\\definecolor{currentcolor}{RGB}{255.0,255.0,255.0}\\n\\\\fill[currentcolor] (4.0,8.0) rectangle +(1.0,1.0);\\n\\\\definecolor{currentcolor}{RGB}{255.0,255.0,255.0}\\n\\\\fill[currentcolor] (4.0,7.0) rectangle +(1.0,1.0);\\n\\\\definecolor{currentcolor}{RGB}{255.0,255.0,255.0}\\n\\\\fill[currentcolor] (4.0,6.0) rectangle +(1.0,1.0);\\n\\\\definecolor{currentcolor}{RGB}{255.0,255.0,255.0}\\n\\\\fill[currentcolor] (4.0,5.0) rectangle +(1.0,1.0);\\n\\\\definecolor{currentcolor}{RGB}{255.0,255.0,255.0}\\n\\\\fill[currentcolor] (4.0,4.0) rectangle +(1.0,1.0);\\n\\\\definecolor{currentcolor}{RGB}{255.0,255.0,255.0}\\n\\\\fill[currentcolor] (4.0,3.0) rectangle +(1.0,1.0);\\n\\\\definecolor{currentcolor}{RGB}{255.0,255.0,255.0}\\n\\\\fill[currentcolor] (4.0,2.0) rectangle +(1.0,1.0);\\n\\\\definecolor{currentcolor}{RGB}{255.0,255.0,255.0}\\n\\\\fill[currentcolor] (4.0,1.0) rectangle +(1.0,1.0);\\n\\\\definecolor{currentcolor}{RGB}{255.0,255.0,255.0}\\n\\\\fill[currentcolor] (4.0,0.0) rectangle +(1.0,1.0);\\n\\\\definecolor{currentcolor}{RGB}{255.0,255.0,255.0}\\n\\\\fill[currentcolor] (5.0,9.0) rectangle +(1.0,1.0);\\n\\\\definecolor{currentcolor}{RGB}{255.0,255.0,255.0}\\n\\\\fill[currentcolor] (5.0,8.0) rectangle +(1.0,1.0);\\n\\\\definecolor{currentcolor}{RGB}{255.0,255.0,255.0}\\n\\\\fill[currentcolor] (5.0,7.0) rectangle +(1.0,1.0);\\n\\\\definecolor{currentcolor}{RGB}{255.0,255.0,255.0}\\n\\\\fill[currentcolor] (5.0,6.0) rectangle +(1.0,1.0);\\n\\\\definecolor{currentcolor}{RGB}{255.0,255.0,255.0}\\n\\\\fill[currentcolor] (5.0,5.0) rectangle +(1.0,1.0);\\n\\\\definecolor{currentcolor}{RGB}{255.0,255.0,255.0}\\n\\\\fill[currentcolor] (5.0,4.0) rectangle +(1.0,1.0);\\n\\\\definecolor{currentcolor}{RGB}{255.0,255.0,255.0}\\n\\\\fill[currentcolor] (5.0,3.0) rectangle +(1.0,1.0);\\n\\\\definecolor{currentcolor}{RGB}{255.0,255.0,255.0}\\n\\\\fill[currentcolor] (5.0,2.0) rectangle +(1.0,1.0);\\n\\\\definecolor{currentcolor}{RGB}{255.0,255.0,255.0}\\n\\\\fill[currentcolor] (5.0,1.0) rectangle +(1.0,1.0);\\n\\\\definecolor{currentcolor}{RGB}{255.0,255.0,255.0}\\n\\\\fill[currentcolor] (5.0,0.0) rectangle +(1.0,1.0);\\n\\\\definecolor{currentcolor}{RGB}{255.0,255.0,255.0}\\n\\\\fill[currentcolor] (6.0,9.0) rectangle +(1.0,1.0);\\n\\\\definecolor{currentcolor}{RGB}{255.0,255.0,255.0}\\n\\\\fill[currentcolor] (6.0,8.0) rectangle +(1.0,1.0);\\n\\\\definecolor{currentcolor}{RGB}{255.0,255.0,255.0}\\n\\\\fill[currentcolor] (6.0,7.0) rectangle +(1.0,1.0);\\n\\\\definecolor{currentcolor}{RGB}{255.0,255.0,255.0}\\n\\\\fill[currentcolor] (6.0,6.0) rectangle +(1.0,1.0);\\n\\\\definecolor{currentcolor}{RGB}{255.0,255.0,255.0}\\n\\\\fill[currentcolor] (6.0,5.0) rectangle +(1.0,1.0);\\n\\\\definecolor{currentcolor}{RGB}{255.0,255.0,255.0}\\n\\\\fill[currentcolor] (6.0,4.0) rectangle +(1.0,1.0);\\n\\\\definecolor{currentcolor}{RGB}{255.0,255.0,255.0}\\n\\\\fill[currentcolor] (6.0,3.0) rectangle +(1.0,1.0);\\n\\\\definecolor{currentcolor}{RGB}{255.0,255.0,255.0}\\n\\\\fill[currentcolor] (6.0,2.0) rectangle +(1.0,1.0);\\n\\\\definecolor{currentcolor}{RGB}{255.0,255.0,255.0}\\n\\\\fill[currentcolor] (6.0,1.0) rectangle +(1.0,1.0);\\n\\\\definecolor{currentcolor}{RGB}{255.0,255.0,255.0}\\n\\\\fill[currentcolor] (6.0,0.0) rectangle +(1.0,1.0);\\n\\\\definecolor{currentcolor}{RGB}{255.0,255.0,255.0}\\n\\\\fill[currentcolor] (7.0,9.0) rectangle +(1.0,1.0);\\n\\\\definecolor{currentcolor}{RGB}{255.0,255.0,255.0}\\n\\\\fill[currentcolor] (7.0,8.0) rectangle +(1.0,1.0);\\n\\\\definecolor{currentcolor}{RGB}{255.0,255.0,255.0}\\n\\\\fill[currentcolor] (7.0,7.0) rectangle +(1.0,1.0);\\n\\\\definecolor{currentcolor}{RGB}{255.0,255.0,255.0}\\n\\\\fill[currentcolor] (7.0,6.0) rectangle +(1.0,1.0);\\n\\\\definecolor{currentcolor}{RGB}{255.0,255.0,255.0}\\n\\\\fill[currentcolor] (7.0,5.0) rectangle +(1.0,1.0);\\n\\\\definecolor{currentcolor}{RGB}{255.0,255.0,255.0}\\n\\\\fill[currentcolor] (7.0,4.0) rectangle +(1.0,1.0);\\n\\\\definecolor{currentcolor}{RGB}{255.0,255.0,255.0}\\n\\\\fill[currentcolor] (7.0,3.0) rectangle +(1.0,1.0);\\n\\\\definecolor{currentcolor}{RGB}{255.0,255.0,255.0}\\n\\\\fill[currentcolor] (7.0,2.0) rectangle +(1.0,1.0);\\n\\\\definecolor{currentcolor}{RGB}{255.0,255.0,255.0}\\n\\\\fill[currentcolor] (7.0,1.0) rectangle +(1.0,1.0);\\n\\\\definecolor{currentcolor}{RGB}{255.0,255.0,255.0}\\n\\\\fill[currentcolor] (7.0,0.0) rectangle +(1.0,1.0);\\n\\\\definecolor{currentcolor}{RGB}{255.0,255.0,255.0}\\n\\\\fill[currentcolor] (8.0,9.0) rectangle +(1.0,1.0);\\n\\\\definecolor{currentcolor}{RGB}{255.0,255.0,255.0}\\n\\\\fill[currentcolor] (8.0,8.0) rectangle +(1.0,1.0);\\n\\\\definecolor{currentcolor}{RGB}{255.0,255.0,255.0}\\n\\\\fill[currentcolor] (8.0,7.0) rectangle +(1.0,1.0);\\n\\\\definecolor{currentcolor}{RGB}{255.0,255.0,255.0}\\n\\\\fill[currentcolor] (8.0,6.0) rectangle +(1.0,1.0);\\n\\\\definecolor{currentcolor}{RGB}{255.0,255.0,255.0}\\n\\\\fill[currentcolor] (8.0,5.0) rectangle +(1.0,1.0);\\n\\\\definecolor{currentcolor}{RGB}{255.0,255.0,255.0}\\n\\\\fill[currentcolor] (8.0,4.0) rectangle +(1.0,1.0);\\n\\\\definecolor{currentcolor}{RGB}{255.0,255.0,255.0}\\n\\\\fill[currentcolor] (8.0,3.0) rectangle +(1.0,1.0);\\n\\\\definecolor{currentcolor}{RGB}{255.0,255.0,255.0}\\n\\\\fill[currentcolor] (8.0,2.0) rectangle +(1.0,1.0);\\n\\\\definecolor{currentcolor}{RGB}{255.0,255.0,255.0}\\n\\\\fill[currentcolor] (8.0,1.0) rectangle +(1.0,1.0);\\n\\\\definecolor{currentcolor}{RGB}{255.0,255.0,255.0}\\n\\\\fill[currentcolor] (8.0,0.0) rectangle +(1.0,1.0);\\n\\\\definecolor{currentcolor}{RGB}{255.0,255.0,255.0}\\n\\\\fill[currentcolor] (9.0,9.0) rectangle +(1.0,1.0);\\n\\\\definecolor{currentcolor}{RGB}{255.0,255.0,255.0}\\n\\\\fill[currentcolor] (9.0,8.0) rectangle +(1.0,1.0);\\n\\\\definecolor{currentcolor}{RGB}{255.0,255.0,255.0}\\n\\\\fill[currentcolor] (9.0,7.0) rectangle +(1.0,1.0);\\n\\\\definecolor{currentcolor}{RGB}{255.0,255.0,255.0}\\n\\\\fill[currentcolor] (9.0,6.0) rectangle +(1.0,1.0);\\n\\\\definecolor{currentcolor}{RGB}{255.0,255.0,255.0}\\n\\\\fill[currentcolor] (9.0,5.0) rectangle +(1.0,1.0);\\n\\\\definecolor{currentcolor}{RGB}{255.0,255.0,255.0}\\n\\\\fill[currentcolor] (9.0,4.0) rectangle +(1.0,1.0);\\n\\\\definecolor{currentcolor}{RGB}{255.0,255.0,255.0}\\n\\\\fill[currentcolor] (9.0,3.0) rectangle +(1.0,1.0);\\n\\\\definecolor{currentcolor}{RGB}{255.0,255.0,255.0}\\n\\\\fill[currentcolor] (9.0,2.0) rectangle +(1.0,1.0);\\n\\\\definecolor{currentcolor}{RGB}{255.0,255.0,255.0}\\n\\\\fill[currentcolor] (9.0,1.0) rectangle +(1.0,1.0);\\n\\\\definecolor{currentcolor}{RGB}{255.0,255.0,255.0}\\n\\\\fill[currentcolor] (9.0,0.0) rectangle +(1.0,1.0);\\n\\\\begin{scope}[fill=gray]\\n\\\\fill (0.5, 9.45) -- (0.5, 9.55) -- (0.0, 9.5) -- cycle;\\n\\\\fill (0.5, 9.55) -- (0.5, 9.45) -- (1.0, 9.5) -- cycle;\\n\\\\fill (0.5500000000000007, 9.5) -- (0.4499999999999993, 9.5) -- (0.5, 10.0) -- cycle;\\n\\\\fill (0.44999999999999996, 9.5) -- (0.55, 9.5) -- (0.5, 9.0) -- cycle;\\n\\\\node[above right] at (0.0, 9.0) {\\$0.00\\$};\\n\\\\end{scope}\\n\\\\draw[black] grid(10,10);\\n\",\"scale=1.5\",\"\",true,true)"
       ]
      }
     ],
     "prompt_number": 176
    },
    {
     "cell_type": "code",
     "collapsed": false,
     "input": [
      "backup(g)\n",
      "plot(g)"
     ],
     "language": "python",
     "metadata": {},
     "outputs": [
      {
       "metadata": {},
       "output_type": "pyout",
       "prompt_number": 177,
       "svg": [
        "<?xml version=\"1.0\" encoding=\"UTF-8\"?>\n",
        "<svg xmlns=\"http://www.w3.org/2000/svg\" xmlns:xlink=\"http://www.w3.org/1999/xlink\" width=\"425.595pt\" height=\"425.595pt\" viewBox=\"0 0 425.595 425.595\" version=\"1.1\">\n",
        "<defs>\n",
        "<g>\n",
        "<symbol overflow=\"visible\" id=\"glyph-1207134169-0-0\">\n",
        "<path style=\"stroke:none;\" d=\"\"/>\n",
        "</symbol>\n",
        "<symbol overflow=\"visible\" id=\"glyph-1207134169-0-1\">\n",
        "<path style=\"stroke:none;\" d=\"M 6.5625 -2.296875 C 6.734375 -2.296875 6.921875 -2.296875 6.921875 -2.5 C 6.921875 -2.6875 6.734375 -2.6875 6.5625 -2.6875 L 1.171875 -2.6875 C 1 -2.6875 0.828125 -2.6875 0.828125 -2.5 C 0.828125 -2.296875 1 -2.296875 1.171875 -2.296875 Z \"/>\n",
        "</symbol>\n",
        "<symbol overflow=\"visible\" id=\"glyph-1207134169-1-0\">\n",
        "<path style=\"stroke:none;\" d=\"\"/>\n",
        "</symbol>\n",
        "<symbol overflow=\"visible\" id=\"glyph-1207134169-1-1\">\n",
        "<path style=\"stroke:none;\" d=\"M 4.578125 -3.1875 C 4.578125 -3.984375 4.53125 -4.78125 4.1875 -5.515625 C 3.734375 -6.484375 2.90625 -6.640625 2.5 -6.640625 C 1.890625 -6.640625 1.171875 -6.375 0.75 -5.453125 C 0.4375 -4.765625 0.390625 -3.984375 0.390625 -3.1875 C 0.390625 -2.4375 0.421875 -1.546875 0.84375 -0.78125 C 1.265625 0.015625 2 0.21875 2.484375 0.21875 C 3.015625 0.21875 3.78125 0.015625 4.21875 -0.9375 C 4.53125 -1.625 4.578125 -2.40625 4.578125 -3.1875 Z M 2.484375 0 C 2.09375 0 1.5 -0.25 1.328125 -1.203125 C 1.21875 -1.796875 1.21875 -2.71875 1.21875 -3.3125 C 1.21875 -3.953125 1.21875 -4.609375 1.296875 -5.140625 C 1.484375 -6.328125 2.234375 -6.421875 2.484375 -6.421875 C 2.8125 -6.421875 3.46875 -6.234375 3.65625 -5.25 C 3.765625 -4.6875 3.765625 -3.9375 3.765625 -3.3125 C 3.765625 -2.5625 3.765625 -1.890625 3.65625 -1.25 C 3.5 -0.296875 2.9375 0 2.484375 0 Z \"/>\n",
        "</symbol>\n",
        "<symbol overflow=\"visible\" id=\"glyph-1207134169-1-2\">\n",
        "<path style=\"stroke:none;\" d=\"M 1.265625 -0.765625 L 2.328125 -1.796875 C 3.875 -3.171875 4.46875 -3.703125 4.46875 -4.703125 C 4.46875 -5.84375 3.578125 -6.640625 2.359375 -6.640625 C 1.234375 -6.640625 0.5 -5.71875 0.5 -4.828125 C 0.5 -4.28125 1 -4.28125 1.03125 -4.28125 C 1.203125 -4.28125 1.546875 -4.390625 1.546875 -4.8125 C 1.546875 -5.0625 1.359375 -5.328125 1.015625 -5.328125 C 0.9375 -5.328125 0.921875 -5.328125 0.890625 -5.3125 C 1.109375 -5.96875 1.65625 -6.328125 2.234375 -6.328125 C 3.140625 -6.328125 3.5625 -5.515625 3.5625 -4.703125 C 3.5625 -3.90625 3.078125 -3.125 2.515625 -2.5 L 0.609375 -0.375 C 0.5 -0.265625 0.5 -0.234375 0.5 0 L 4.203125 0 L 4.46875 -1.734375 L 4.234375 -1.734375 C 4.171875 -1.4375 4.109375 -1 4 -0.84375 C 3.9375 -0.765625 3.28125 -0.765625 3.0625 -0.765625 Z \"/>\n",
        "</symbol>\n",
        "<symbol overflow=\"visible\" id=\"glyph-1207134169-2-0\">\n",
        "<path style=\"stroke:none;\" d=\"\"/>\n",
        "</symbol>\n",
        "<symbol overflow=\"visible\" id=\"glyph-1207134169-2-1\">\n",
        "<path style=\"stroke:none;\" d=\"M 1.90625 -0.53125 C 1.90625 -0.8125 1.671875 -1.0625 1.390625 -1.0625 C 1.09375 -1.0625 0.859375 -0.8125 0.859375 -0.53125 C 0.859375 -0.234375 1.09375 0 1.390625 0 C 1.671875 0 1.90625 -0.234375 1.90625 -0.53125 Z \"/>\n",
        "</symbol>\n",
        "</g>\n",
        "</defs>\n",
        "<g id=\"surface1\">\n",
        "<path style=\" stroke:none;fill-rule:nonzero;fill:rgb(100%,97.999573%,97.999573%);fill-opacity:1;\" d=\"M 0.199219 42.714844 L 0.199219 0.195313 L 42.71875 0.195313 L 42.71875 42.714844 Z \"/>\n",
        "<path style=\" stroke:none;fill-rule:nonzero;fill:rgb(100%,98.999023%,98.999023%);fill-opacity:1;\" d=\"M 0.199219 85.234375 L 0.199219 42.714844 L 42.71875 42.714844 L 42.71875 85.234375 Z \"/>\n",
        "<path style=\" stroke:none;fill-rule:nonzero;fill:rgb(100%,98.999023%,98.999023%);fill-opacity:1;\" d=\"M 0.199219 127.753906 L 0.199219 85.234375 L 42.71875 85.234375 L 42.71875 127.753906 Z \"/>\n",
        "<path style=\" stroke:none;fill-rule:nonzero;fill:rgb(100%,98.999023%,98.999023%);fill-opacity:1;\" d=\"M 0.199219 170.273438 L 0.199219 127.753906 L 42.71875 127.753906 L 42.71875 170.273438 Z \"/>\n",
        "<path style=\" stroke:none;fill-rule:nonzero;fill:rgb(100%,98.999023%,98.999023%);fill-opacity:1;\" d=\"M 0.199219 212.796875 L 0.199219 170.273438 L 42.71875 170.273438 L 42.71875 212.796875 Z \"/>\n",
        "<path style=\" stroke:none;fill-rule:nonzero;fill:rgb(100%,98.999023%,98.999023%);fill-opacity:1;\" d=\"M 0.199219 255.316406 L 0.199219 212.796875 L 42.71875 212.796875 L 42.71875 255.316406 Z \"/>\n",
        "<path style=\" stroke:none;fill-rule:nonzero;fill:rgb(100%,98.999023%,98.999023%);fill-opacity:1;\" d=\"M 0.199219 297.835938 L 0.199219 255.316406 L 42.71875 255.316406 L 42.71875 297.835938 Z \"/>\n",
        "<path style=\" stroke:none;fill-rule:nonzero;fill:rgb(100%,98.999023%,98.999023%);fill-opacity:1;\" d=\"M 0.199219 340.355469 L 0.199219 297.835938 L 42.71875 297.835938 L 42.71875 340.355469 Z \"/>\n",
        "<path style=\" stroke:none;fill-rule:nonzero;fill:rgb(100%,98.999023%,98.999023%);fill-opacity:1;\" d=\"M 0.199219 382.875 L 0.199219 340.355469 L 42.71875 340.355469 L 42.71875 382.875 Z \"/>\n",
        "<path style=\" stroke:none;fill-rule:nonzero;fill:rgb(100%,97.999573%,97.999573%);fill-opacity:1;\" d=\"M 0.199219 425.394531 L 0.199219 382.875 L 42.71875 382.875 L 42.71875 425.394531 Z \"/>\n",
        "<path style=\" stroke:none;fill-rule:nonzero;fill:rgb(100%,98.999023%,98.999023%);fill-opacity:1;\" d=\"M 42.71875 42.714844 L 42.71875 0.195313 L 85.238281 0.195313 L 85.238281 42.714844 Z \"/>\n",
        "<path style=\" stroke:none;fill-rule:nonzero;fill:rgb(100%,100%,100%);fill-opacity:1;\" d=\"M 42.71875 85.234375 L 42.71875 42.714844 L 85.238281 42.714844 L 85.238281 85.234375 Z \"/>\n",
        "<path style=\" stroke:none;fill-rule:nonzero;fill:rgb(100%,100%,100%);fill-opacity:1;\" d=\"M 42.71875 127.753906 L 42.71875 85.234375 L 85.238281 85.234375 L 85.238281 127.753906 Z \"/>\n",
        "<path style=\" stroke:none;fill-rule:nonzero;fill:rgb(100%,100%,100%);fill-opacity:1;\" d=\"M 42.71875 170.273438 L 42.71875 127.753906 L 85.238281 127.753906 L 85.238281 170.273438 Z \"/>\n",
        "<path style=\" stroke:none;fill-rule:nonzero;fill:rgb(100%,100%,100%);fill-opacity:1;\" d=\"M 42.71875 212.796875 L 42.71875 170.273438 L 85.238281 170.273438 L 85.238281 212.796875 Z \"/>\n",
        "<path style=\" stroke:none;fill-rule:nonzero;fill:rgb(100%,100%,100%);fill-opacity:1;\" d=\"M 42.71875 255.316406 L 42.71875 212.796875 L 85.238281 212.796875 L 85.238281 255.316406 Z \"/>\n",
        "<path style=\" stroke:none;fill-rule:nonzero;fill:rgb(100%,100%,100%);fill-opacity:1;\" d=\"M 42.71875 297.835938 L 42.71875 255.316406 L 85.238281 255.316406 L 85.238281 297.835938 Z \"/>\n",
        "<path style=\" stroke:none;fill-rule:nonzero;fill:rgb(100%,100%,100%);fill-opacity:1;\" d=\"M 42.71875 340.355469 L 42.71875 297.835938 L 85.238281 297.835938 L 85.238281 340.355469 Z \"/>\n",
        "<path style=\" stroke:none;fill-rule:nonzero;fill:rgb(100%,100%,100%);fill-opacity:1;\" d=\"M 42.71875 382.875 L 42.71875 340.355469 L 85.238281 340.355469 L 85.238281 382.875 Z \"/>\n",
        "<path style=\" stroke:none;fill-rule:nonzero;fill:rgb(100%,98.999023%,98.999023%);fill-opacity:1;\" d=\"M 42.71875 425.394531 L 42.71875 382.875 L 85.238281 382.875 L 85.238281 425.394531 Z \"/>\n",
        "<path style=\" stroke:none;fill-rule:nonzero;fill:rgb(100%,98.999023%,98.999023%);fill-opacity:1;\" d=\"M 85.238281 42.714844 L 85.238281 0.195313 L 127.757813 0.195313 L 127.757813 42.714844 Z \"/>\n",
        "<path style=\" stroke:none;fill-rule:nonzero;fill:rgb(100%,100%,100%);fill-opacity:1;\" d=\"M 85.238281 85.234375 L 85.238281 42.714844 L 127.757813 42.714844 L 127.757813 85.234375 Z \"/>\n",
        "<path style=\" stroke:none;fill-rule:nonzero;fill:rgb(100%,100%,100%);fill-opacity:1;\" d=\"M 85.238281 127.753906 L 85.238281 85.234375 L 127.757813 85.234375 L 127.757813 127.753906 Z \"/>\n",
        "<path style=\" stroke:none;fill-rule:nonzero;fill:rgb(100%,100%,100%);fill-opacity:1;\" d=\"M 85.238281 170.273438 L 85.238281 127.753906 L 127.757813 127.753906 L 127.757813 170.273438 Z \"/>\n",
        "<path style=\" stroke:none;fill-rule:nonzero;fill:rgb(100%,100%,100%);fill-opacity:1;\" d=\"M 85.238281 212.796875 L 85.238281 170.273438 L 127.757813 170.273438 L 127.757813 212.796875 Z \"/>\n",
        "<path style=\" stroke:none;fill-rule:nonzero;fill:rgb(100%,100%,100%);fill-opacity:1;\" d=\"M 85.238281 255.316406 L 85.238281 212.796875 L 127.757813 212.796875 L 127.757813 255.316406 Z \"/>\n",
        "<path style=\" stroke:none;fill-rule:nonzero;fill:rgb(100%,100%,100%);fill-opacity:1;\" d=\"M 85.238281 297.835938 L 85.238281 255.316406 L 127.757813 255.316406 L 127.757813 297.835938 Z \"/>\n",
        "<path style=\" stroke:none;fill-rule:nonzero;fill:rgb(100%,100%,100%);fill-opacity:1;\" d=\"M 85.238281 340.355469 L 85.238281 297.835938 L 127.757813 297.835938 L 127.757813 340.355469 Z \"/>\n",
        "<path style=\" stroke:none;fill-rule:nonzero;fill:rgb(100%,100%,100%);fill-opacity:1;\" d=\"M 85.238281 382.875 L 85.238281 340.355469 L 127.757813 340.355469 L 127.757813 382.875 Z \"/>\n",
        "<path style=\" stroke:none;fill-rule:nonzero;fill:rgb(100%,98.999023%,98.999023%);fill-opacity:1;\" d=\"M 85.238281 425.394531 L 85.238281 382.875 L 127.757813 382.875 L 127.757813 425.394531 Z \"/>\n",
        "<path style=\" stroke:none;fill-rule:nonzero;fill:rgb(100%,98.999023%,98.999023%);fill-opacity:1;\" d=\"M 127.757813 42.714844 L 127.757813 0.195313 L 170.28125 0.195313 L 170.28125 42.714844 Z \"/>\n",
        "<path style=\" stroke:none;fill-rule:nonzero;fill:rgb(100%,100%,100%);fill-opacity:1;\" d=\"M 127.757813 85.234375 L 127.757813 42.714844 L 170.28125 42.714844 L 170.28125 85.234375 Z \"/>\n",
        "<path style=\" stroke:none;fill-rule:nonzero;fill:rgb(100%,100%,100%);fill-opacity:1;\" d=\"M 127.757813 127.753906 L 127.757813 85.234375 L 170.28125 85.234375 L 170.28125 127.753906 Z \"/>\n",
        "<path style=\" stroke:none;fill-rule:nonzero;fill:rgb(100%,100%,100%);fill-opacity:1;\" d=\"M 127.757813 170.273438 L 127.757813 127.753906 L 170.28125 127.753906 L 170.28125 170.273438 Z \"/>\n",
        "<path style=\" stroke:none;fill-rule:nonzero;fill:rgb(100%,50%,50%);fill-opacity:1;\" d=\"M 127.757813 212.796875 L 127.757813 170.273438 L 170.28125 170.273438 L 170.28125 212.796875 Z \"/>\n",
        "<path style=\" stroke:none;fill-rule:nonzero;fill:rgb(100%,100%,100%);fill-opacity:1;\" d=\"M 127.757813 255.316406 L 127.757813 212.796875 L 170.28125 212.796875 L 170.28125 255.316406 Z \"/>\n",
        "<path style=\" stroke:none;fill-rule:nonzero;fill:rgb(100%,100%,100%);fill-opacity:1;\" d=\"M 127.757813 297.835938 L 127.757813 255.316406 L 170.28125 255.316406 L 170.28125 297.835938 Z \"/>\n",
        "<path style=\" stroke:none;fill-rule:nonzero;fill:rgb(100%,0%,0%);fill-opacity:1;\" d=\"M 127.757813 340.355469 L 127.757813 297.835938 L 170.28125 297.835938 L 170.28125 340.355469 Z \"/>\n",
        "<path style=\" stroke:none;fill-rule:nonzero;fill:rgb(100%,100%,100%);fill-opacity:1;\" d=\"M 127.757813 382.875 L 127.757813 340.355469 L 170.28125 340.355469 L 170.28125 382.875 Z \"/>\n",
        "<path style=\" stroke:none;fill-rule:nonzero;fill:rgb(100%,98.999023%,98.999023%);fill-opacity:1;\" d=\"M 127.757813 425.394531 L 127.757813 382.875 L 170.28125 382.875 L 170.28125 425.394531 Z \"/>\n",
        "<path style=\" stroke:none;fill-rule:nonzero;fill:rgb(100%,98.999023%,98.999023%);fill-opacity:1;\" d=\"M 170.28125 42.714844 L 170.28125 0.195313 L 212.800781 0.195313 L 212.800781 42.714844 Z \"/>\n",
        "<path style=\" stroke:none;fill-rule:nonzero;fill:rgb(100%,100%,100%);fill-opacity:1;\" d=\"M 170.28125 85.234375 L 170.28125 42.714844 L 212.800781 42.714844 L 212.800781 85.234375 Z \"/>\n",
        "<path style=\" stroke:none;fill-rule:nonzero;fill:rgb(100%,100%,100%);fill-opacity:1;\" d=\"M 170.28125 127.753906 L 170.28125 85.234375 L 212.800781 85.234375 L 212.800781 127.753906 Z \"/>\n",
        "<path style=\" stroke:none;fill-rule:nonzero;fill:rgb(100%,100%,100%);fill-opacity:1;\" d=\"M 170.28125 170.273438 L 170.28125 127.753906 L 212.800781 127.753906 L 212.800781 170.273438 Z \"/>\n",
        "<path style=\" stroke:none;fill-rule:nonzero;fill:rgb(100%,100%,100%);fill-opacity:1;\" d=\"M 170.28125 212.796875 L 170.28125 170.273438 L 212.800781 170.273438 L 212.800781 212.796875 Z \"/>\n",
        "<path style=\" stroke:none;fill-rule:nonzero;fill:rgb(100%,100%,100%);fill-opacity:1;\" d=\"M 170.28125 255.316406 L 170.28125 212.796875 L 212.800781 212.796875 L 212.800781 255.316406 Z \"/>\n",
        "<path style=\" stroke:none;fill-rule:nonzero;fill:rgb(100%,100%,100%);fill-opacity:1;\" d=\"M 170.28125 297.835938 L 170.28125 255.316406 L 212.800781 255.316406 L 212.800781 297.835938 Z \"/>\n",
        "<path style=\" stroke:none;fill-rule:nonzero;fill:rgb(100%,100%,100%);fill-opacity:1;\" d=\"M 170.28125 340.355469 L 170.28125 297.835938 L 212.800781 297.835938 L 212.800781 340.355469 Z \"/>\n",
        "<path style=\" stroke:none;fill-rule:nonzero;fill:rgb(100%,100%,100%);fill-opacity:1;\" d=\"M 170.28125 382.875 L 170.28125 340.355469 L 212.800781 340.355469 L 212.800781 382.875 Z \"/>\n",
        "<path style=\" stroke:none;fill-rule:nonzero;fill:rgb(100%,98.999023%,98.999023%);fill-opacity:1;\" d=\"M 170.28125 425.394531 L 170.28125 382.875 L 212.800781 382.875 L 212.800781 425.394531 Z \"/>\n",
        "<path style=\" stroke:none;fill-rule:nonzero;fill:rgb(100%,98.999023%,98.999023%);fill-opacity:1;\" d=\"M 212.800781 42.714844 L 212.800781 0.195313 L 255.320313 0.195313 L 255.320313 42.714844 Z \"/>\n",
        "<path style=\" stroke:none;fill-rule:nonzero;fill:rgb(100%,100%,100%);fill-opacity:1;\" d=\"M 212.800781 85.234375 L 212.800781 42.714844 L 255.320313 42.714844 L 255.320313 85.234375 Z \"/>\n",
        "<path style=\" stroke:none;fill-rule:nonzero;fill:rgb(100%,100%,100%);fill-opacity:1;\" d=\"M 212.800781 127.753906 L 212.800781 85.234375 L 255.320313 85.234375 L 255.320313 127.753906 Z \"/>\n",
        "<path style=\" stroke:none;fill-rule:nonzero;fill:rgb(100%,100%,100%);fill-opacity:1;\" d=\"M 212.800781 170.273438 L 212.800781 127.753906 L 255.320313 127.753906 L 255.320313 170.273438 Z \"/>\n",
        "<path style=\" stroke:none;fill-rule:nonzero;fill:rgb(100%,100%,100%);fill-opacity:1;\" d=\"M 212.800781 212.796875 L 212.800781 170.273438 L 255.320313 170.273438 L 255.320313 212.796875 Z \"/>\n",
        "<path style=\" stroke:none;fill-rule:nonzero;fill:rgb(100%,100%,100%);fill-opacity:1;\" d=\"M 212.800781 255.316406 L 212.800781 212.796875 L 255.320313 212.796875 L 255.320313 255.316406 Z \"/>\n",
        "<path style=\" stroke:none;fill-rule:nonzero;fill:rgb(100%,100%,100%);fill-opacity:1;\" d=\"M 212.800781 297.835938 L 212.800781 255.316406 L 255.320313 255.316406 L 255.320313 297.835938 Z \"/>\n",
        "<path style=\" stroke:none;fill-rule:nonzero;fill:rgb(100%,100%,100%);fill-opacity:1;\" d=\"M 212.800781 340.355469 L 212.800781 297.835938 L 255.320313 297.835938 L 255.320313 340.355469 Z \"/>\n",
        "<path style=\" stroke:none;fill-rule:nonzero;fill:rgb(100%,100%,100%);fill-opacity:1;\" d=\"M 212.800781 382.875 L 212.800781 340.355469 L 255.320313 340.355469 L 255.320313 382.875 Z \"/>\n",
        "<path style=\" stroke:none;fill-rule:nonzero;fill:rgb(100%,98.999023%,98.999023%);fill-opacity:1;\" d=\"M 212.800781 425.394531 L 212.800781 382.875 L 255.320313 382.875 L 255.320313 425.394531 Z \"/>\n",
        "<path style=\" stroke:none;fill-rule:nonzero;fill:rgb(100%,98.999023%,98.999023%);fill-opacity:1;\" d=\"M 255.320313 42.714844 L 255.320313 0.195313 L 297.839844 0.195313 L 297.839844 42.714844 Z \"/>\n",
        "<path style=\" stroke:none;fill-rule:nonzero;fill:rgb(100%,100%,100%);fill-opacity:1;\" d=\"M 255.320313 85.234375 L 255.320313 42.714844 L 297.839844 42.714844 L 297.839844 85.234375 Z \"/>\n",
        "<path style=\" stroke:none;fill-rule:nonzero;fill:rgb(100%,100%,100%);fill-opacity:1;\" d=\"M 255.320313 127.753906 L 255.320313 85.234375 L 297.839844 85.234375 L 297.839844 127.753906 Z \"/>\n",
        "<path style=\" stroke:none;fill-rule:nonzero;fill:rgb(100%,100%,100%);fill-opacity:1;\" d=\"M 255.320313 170.273438 L 255.320313 127.753906 L 297.839844 127.753906 L 297.839844 170.273438 Z \"/>\n",
        "<path style=\" stroke:none;fill-rule:nonzero;fill:rgb(100%,100%,100%);fill-opacity:1;\" d=\"M 255.320313 212.796875 L 255.320313 170.273438 L 297.839844 170.273438 L 297.839844 212.796875 Z \"/>\n",
        "<path style=\" stroke:none;fill-rule:nonzero;fill:rgb(100%,100%,100%);fill-opacity:1;\" d=\"M 255.320313 255.316406 L 255.320313 212.796875 L 297.839844 212.796875 L 297.839844 255.316406 Z \"/>\n",
        "<path style=\" stroke:none;fill-rule:nonzero;fill:rgb(100%,100%,100%);fill-opacity:1;\" d=\"M 255.320313 297.835938 L 255.320313 255.316406 L 297.839844 255.316406 L 297.839844 297.835938 Z \"/>\n",
        "<path style=\" stroke:none;fill-rule:nonzero;fill:rgb(100%,100%,100%);fill-opacity:1;\" d=\"M 255.320313 340.355469 L 255.320313 297.835938 L 297.839844 297.835938 L 297.839844 340.355469 Z \"/>\n",
        "<path style=\" stroke:none;fill-rule:nonzero;fill:rgb(100%,100%,100%);fill-opacity:1;\" d=\"M 255.320313 382.875 L 255.320313 340.355469 L 297.839844 340.355469 L 297.839844 382.875 Z \"/>\n",
        "<path style=\" stroke:none;fill-rule:nonzero;fill:rgb(100%,98.999023%,98.999023%);fill-opacity:1;\" d=\"M 255.320313 425.394531 L 255.320313 382.875 L 297.839844 382.875 L 297.839844 425.394531 Z \"/>\n",
        "<path style=\" stroke:none;fill-rule:nonzero;fill:rgb(100%,98.999023%,98.999023%);fill-opacity:1;\" d=\"M 297.839844 42.714844 L 297.839844 0.195313 L 340.359375 0.195313 L 340.359375 42.714844 Z \"/>\n",
        "<path style=\" stroke:none;fill-rule:nonzero;fill:rgb(100%,100%,100%);fill-opacity:1;\" d=\"M 297.839844 85.234375 L 297.839844 42.714844 L 340.359375 42.714844 L 340.359375 85.234375 Z \"/>\n",
        "<path style=\" stroke:none;fill-rule:nonzero;fill:rgb(69.999695%,100%,69.999695%);fill-opacity:1;\" d=\"M 297.839844 127.753906 L 297.839844 85.234375 L 340.359375 85.234375 L 340.359375 127.753906 Z \"/>\n",
        "<path style=\" stroke:none;fill-rule:nonzero;fill:rgb(100%,100%,100%);fill-opacity:1;\" d=\"M 297.839844 170.273438 L 297.839844 127.753906 L 340.359375 127.753906 L 340.359375 170.273438 Z \"/>\n",
        "<path style=\" stroke:none;fill-rule:nonzero;fill:rgb(100%,100%,100%);fill-opacity:1;\" d=\"M 297.839844 212.796875 L 297.839844 170.273438 L 340.359375 170.273438 L 340.359375 212.796875 Z \"/>\n",
        "<path style=\" stroke:none;fill-rule:nonzero;fill:rgb(100%,100%,100%);fill-opacity:1;\" d=\"M 297.839844 255.316406 L 297.839844 212.796875 L 340.359375 212.796875 L 340.359375 255.316406 Z \"/>\n",
        "<path style=\" stroke:none;fill-rule:nonzero;fill:rgb(100%,100%,100%);fill-opacity:1;\" d=\"M 297.839844 297.835938 L 297.839844 255.316406 L 340.359375 255.316406 L 340.359375 297.835938 Z \"/>\n",
        "<path style=\" stroke:none;fill-rule:nonzero;fill:rgb(100%,100%,100%);fill-opacity:1;\" d=\"M 297.839844 340.355469 L 297.839844 297.835938 L 340.359375 297.835938 L 340.359375 340.355469 Z \"/>\n",
        "<path style=\" stroke:none;fill-rule:nonzero;fill:rgb(100%,100%,100%);fill-opacity:1;\" d=\"M 297.839844 382.875 L 297.839844 340.355469 L 340.359375 340.355469 L 340.359375 382.875 Z \"/>\n",
        "<path style=\" stroke:none;fill-rule:nonzero;fill:rgb(100%,98.999023%,98.999023%);fill-opacity:1;\" d=\"M 297.839844 425.394531 L 297.839844 382.875 L 340.359375 382.875 L 340.359375 425.394531 Z \"/>\n",
        "<path style=\" stroke:none;fill-rule:nonzero;fill:rgb(100%,98.999023%,98.999023%);fill-opacity:1;\" d=\"M 340.359375 42.714844 L 340.359375 0.195313 L 382.882813 0.195313 L 382.882813 42.714844 Z \"/>\n",
        "<path style=\" stroke:none;fill-rule:nonzero;fill:rgb(100%,100%,100%);fill-opacity:1;\" d=\"M 340.359375 85.234375 L 340.359375 42.714844 L 382.882813 42.714844 L 382.882813 85.234375 Z \"/>\n",
        "<path style=\" stroke:none;fill-rule:nonzero;fill:rgb(100%,100%,100%);fill-opacity:1;\" d=\"M 340.359375 127.753906 L 340.359375 85.234375 L 382.882813 85.234375 L 382.882813 127.753906 Z \"/>\n",
        "<path style=\" stroke:none;fill-rule:nonzero;fill:rgb(100%,100%,100%);fill-opacity:1;\" d=\"M 340.359375 170.273438 L 340.359375 127.753906 L 382.882813 127.753906 L 382.882813 170.273438 Z \"/>\n",
        "<path style=\" stroke:none;fill-rule:nonzero;fill:rgb(100%,100%,100%);fill-opacity:1;\" d=\"M 340.359375 212.796875 L 340.359375 170.273438 L 382.882813 170.273438 L 382.882813 212.796875 Z \"/>\n",
        "<path style=\" stroke:none;fill-rule:nonzero;fill:rgb(100%,100%,100%);fill-opacity:1;\" d=\"M 340.359375 255.316406 L 340.359375 212.796875 L 382.882813 212.796875 L 382.882813 255.316406 Z \"/>\n",
        "<path style=\" stroke:none;fill-rule:nonzero;fill:rgb(100%,100%,100%);fill-opacity:1;\" d=\"M 340.359375 297.835938 L 340.359375 255.316406 L 382.882813 255.316406 L 382.882813 297.835938 Z \"/>\n",
        "<path style=\" stroke:none;fill-rule:nonzero;fill:rgb(0%,100%,0%);fill-opacity:1;\" d=\"M 340.359375 340.355469 L 340.359375 297.835938 L 382.882813 297.835938 L 382.882813 340.355469 Z \"/>\n",
        "<path style=\" stroke:none;fill-rule:nonzero;fill:rgb(100%,100%,100%);fill-opacity:1;\" d=\"M 340.359375 382.875 L 340.359375 340.355469 L 382.882813 340.355469 L 382.882813 382.875 Z \"/>\n",
        "<path style=\" stroke:none;fill-rule:nonzero;fill:rgb(100%,98.999023%,98.999023%);fill-opacity:1;\" d=\"M 340.359375 425.394531 L 340.359375 382.875 L 382.882813 382.875 L 382.882813 425.394531 Z \"/>\n",
        "<path style=\" stroke:none;fill-rule:nonzero;fill:rgb(100%,97.999573%,97.999573%);fill-opacity:1;\" d=\"M 382.882813 42.714844 L 382.882813 0.195313 L 425.402344 0.195313 L 425.402344 42.714844 Z \"/>\n",
        "<path style=\" stroke:none;fill-rule:nonzero;fill:rgb(100%,98.999023%,98.999023%);fill-opacity:1;\" d=\"M 382.882813 85.234375 L 382.882813 42.714844 L 425.402344 42.714844 L 425.402344 85.234375 Z \"/>\n",
        "<path style=\" stroke:none;fill-rule:nonzero;fill:rgb(100%,98.999023%,98.999023%);fill-opacity:1;\" d=\"M 382.882813 127.753906 L 382.882813 85.234375 L 425.402344 85.234375 L 425.402344 127.753906 Z \"/>\n",
        "<path style=\" stroke:none;fill-rule:nonzero;fill:rgb(100%,98.999023%,98.999023%);fill-opacity:1;\" d=\"M 382.882813 170.273438 L 382.882813 127.753906 L 425.402344 127.753906 L 425.402344 170.273438 Z \"/>\n",
        "<path style=\" stroke:none;fill-rule:nonzero;fill:rgb(100%,98.999023%,98.999023%);fill-opacity:1;\" d=\"M 382.882813 212.796875 L 382.882813 170.273438 L 425.402344 170.273438 L 425.402344 212.796875 Z \"/>\n",
        "<path style=\" stroke:none;fill-rule:nonzero;fill:rgb(100%,98.999023%,98.999023%);fill-opacity:1;\" d=\"M 382.882813 255.316406 L 382.882813 212.796875 L 425.402344 212.796875 L 425.402344 255.316406 Z \"/>\n",
        "<path style=\" stroke:none;fill-rule:nonzero;fill:rgb(100%,98.999023%,98.999023%);fill-opacity:1;\" d=\"M 382.882813 297.835938 L 382.882813 255.316406 L 425.402344 255.316406 L 425.402344 297.835938 Z \"/>\n",
        "<path style=\" stroke:none;fill-rule:nonzero;fill:rgb(100%,98.999023%,98.999023%);fill-opacity:1;\" d=\"M 382.882813 340.355469 L 382.882813 297.835938 L 425.402344 297.835938 L 425.402344 340.355469 Z \"/>\n",
        "<path style=\" stroke:none;fill-rule:nonzero;fill:rgb(100%,98.999023%,98.999023%);fill-opacity:1;\" d=\"M 382.882813 382.875 L 382.882813 340.355469 L 425.402344 340.355469 L 425.402344 382.875 Z \"/>\n",
        "<path style=\" stroke:none;fill-rule:nonzero;fill:rgb(100%,97.999573%,97.999573%);fill-opacity:1;\" d=\"M 382.882813 425.394531 L 382.882813 382.875 L 425.402344 382.875 L 425.402344 425.394531 Z \"/>\n",
        "<path style=\" stroke:none;fill-rule:nonzero;fill:rgb(50%,50%,50%);fill-opacity:1;\" d=\"M 21.460938 23.582031 L 21.460938 19.328125 L 0.199219 21.453125 Z \"/>\n",
        "<path style=\" stroke:none;fill-rule:nonzero;fill:rgb(50%,50%,50%);fill-opacity:1;\" d=\"M 21.460938 19.328125 L 21.460938 23.582031 L 42.71875 21.453125 Z \"/>\n",
        "<path style=\" stroke:none;fill-rule:nonzero;fill:rgb(50%,50%,50%);fill-opacity:1;\" d=\"M 19.332031 21.453125 L 23.585938 21.453125 L 21.460938 42.714844 Z \"/>\n",
        "<g style=\"fill:rgb(0%,0%,0%);fill-opacity:1;\">\n",
        "  <use xlink:href=\"#glyph-1207134169-0-1\" x=\"3.719\" y=\"38.369\"/>\n",
        "</g>\n",
        "<g style=\"fill:rgb(0%,0%,0%);fill-opacity:1;\">\n",
        "  <use xlink:href=\"#glyph-1207134169-1-1\" x=\"11.468\" y=\"38.369\"/>\n",
        "</g>\n",
        "<g style=\"fill:rgb(0%,0%,0%);fill-opacity:1;\">\n",
        "  <use xlink:href=\"#glyph-1207134169-2-1\" x=\"16.449\" y=\"38.369\"/>\n",
        "</g>\n",
        "<g style=\"fill:rgb(0%,0%,0%);fill-opacity:1;\">\n",
        "  <use xlink:href=\"#glyph-1207134169-1-2\" x=\"19.216\" y=\"38.369\"/>\n",
        "  <use xlink:href=\"#glyph-1207134169-1-1\" x=\"24.19732\" y=\"38.369\"/>\n",
        "</g>\n",
        "<path style=\"fill:none;stroke-width:0.3985;stroke-linecap:butt;stroke-linejoin:miter;stroke:rgb(0%,0%,0%);stroke-opacity:1;stroke-miterlimit:10;\" d=\"M 0.00021875 0.00146875 L 425.203344 0.00146875 M 0.00021875 42.521 L 425.203344 42.521 M 0.00021875 85.040531 L 425.203344 85.040531 M 0.00021875 127.560062 L 425.203344 127.560062 M 0.00021875 170.079594 L 425.203344 170.079594 M 0.00021875 212.599125 L 425.203344 212.599125 M 0.00021875 255.122562 L 425.203344 255.122562 M 0.00021875 297.642094 L 425.203344 297.642094 M 0.00021875 340.161625 L 425.203344 340.161625 M 0.00021875 382.681156 L 425.203344 382.681156 M 0.00021875 425.188969 L 425.203344 425.188969 M 0.00021875 0.00146875 L 0.00021875 425.200687 M 42.51975 0.00146875 L 42.51975 425.200687 M 85.039281 0.00146875 L 85.039281 425.200687 M 127.558813 0.00146875 L 127.558813 425.200687 M 170.08225 0.00146875 L 170.08225 425.200687 M 212.601781 0.00146875 L 212.601781 425.200687 M 255.121312 0.00146875 L 255.121312 425.200687 M 297.640844 0.00146875 L 297.640844 425.200687 M 340.160375 0.00146875 L 340.160375 425.200687 M 382.683812 0.00146875 L 382.683812 425.200687 M 425.187719 0.00146875 L 425.187719 425.200687 \" transform=\"matrix(1,0,0,-1,0.199,425.396)\"/>\n",
        "</g>\n",
        "</svg>\n",
        "\n"
       ],
       "text": [
        "TikzPicture(\"\\\\definecolor{currentcolor}{RGB}{255.0,249.9,249.9}\\n\\\\fill[currentcolor] (0.0,9.0) rectangle +(1.0,1.0);\\n\\\\definecolor{currentcolor}{RGB}{255.0,252.45,252.45}\\n\\\\fill[currentcolor] (0.0,8.0) rectangle +(1.0,1.0);\\n\\\\definecolor{currentcolor}{RGB}{255.0,252.45,252.45}\\n\\\\fill[currentcolor] (0.0,7.0) rectangle +(1.0,1.0);\\n\\\\definecolor{currentcolor}{RGB}{255.0,252.45,252.45}\\n\\\\fill[currentcolor] (0.0,6.0) rectangle +(1.0,1.0);\\n\\\\definecolor{currentcolor}{RGB}{255.0,252.45,252.45}\\n\\\\fill[currentcolor] (0.0,5.0) rectangle +(1.0,1.0);\\n\\\\definecolor{currentcolor}{RGB}{255.0,252.45,252.45}\\n\\\\fill[currentcolor] (0.0,4.0) rectangle +(1.0,1.0);\\n\\\\definecolor{currentcolor}{RGB}{255.0,252.45,252.45}\\n\\\\fill[currentcolor] (0.0,3.0) rectangle +(1.0,1.0);\\n\\\\definecolor{currentcolor}{RGB}{255.0,252.45,252.45}\\n\\\\fill[currentcolor] (0.0,2.0) rectangle +(1.0,1.0);\\n\\\\definecolor{currentcolor}{RGB}{255.0,252.45,252.45}\\n\\\\fill[currentcolor] (0.0,1.0) rectangle +(1.0,1.0);\\n\\\\definecolor{currentcolor}{RGB}{255.0,249.9,249.9}\\n\\\\fill[currentcolor] (0.0,0.0) rectangle +(1.0,1.0);\\n\\\\definecolor{currentcolor}{RGB}{255.0,252.45,252.45}\\n\\\\fill[currentcolor] (1.0,9.0) rectangle +(1.0,1.0);\\n\\\\definecolor{currentcolor}{RGB}{255.0,255.0,255.0}\\n\\\\fill[currentcolor] (1.0,8.0) rectangle +(1.0,1.0);\\n\\\\definecolor{currentcolor}{RGB}{255.0,255.0,255.0}\\n\\\\fill[currentcolor] (1.0,7.0) rectangle +(1.0,1.0);\\n\\\\definecolor{currentcolor}{RGB}{255.0,255.0,255.0}\\n\\\\fill[currentcolor] (1.0,6.0) rectangle +(1.0,1.0);\\n\\\\definecolor{currentcolor}{RGB}{255.0,255.0,255.0}\\n\\\\fill[currentcolor] (1.0,5.0) rectangle +(1.0,1.0);\\n\\\\definecolor{currentcolor}{RGB}{255.0,255.0,255.0}\\n\\\\fill[currentcolor] (1.0,4.0) rectangle +(1.0,1.0);\\n\\\\definecolor{currentcolor}{RGB}{255.0,255.0,255.0}\\n\\\\fill[currentcolor] (1.0,3.0) rectangle +(1.0,1.0);\\n\\\\definecolor{currentcolor}{RGB}{255.0,255.0,255.0}\\n\\\\fill[currentcolor] (1.0,2.0) rectangle +(1.0,1.0);\\n\\\\definecolor{currentcolor}{RGB}{255.0,255.0,255.0}\\n\\\\fill[currentcolor] (1.0,1.0) rectangle +(1.0,1.0);\\n\\\\definecolor{currentcolor}{RGB}{255.0,252.45,252.45}\\n\\\\fill[currentcolor] (1.0,0.0) rectangle +(1.0,1.0);\\n\\\\definecolor{currentcolor}{RGB}{255.0,252.45,252.45}\\n\\\\fill[currentcolor] (2.0,9.0) rectangle +(1.0,1.0);\\n\\\\definecolor{currentcolor}{RGB}{255.0,255.0,255.0}\\n\\\\fill[currentcolor] (2.0,8.0) rectangle +(1.0,1.0);\\n\\\\definecolor{currentcolor}{RGB}{255.0,255.0,255.0}\\n\\\\fill[currentcolor] (2.0,7.0) rectangle +(1.0,1.0);\\n\\\\definecolor{currentcolor}{RGB}{255.0,255.0,255.0}\\n\\\\fill[currentcolor] (2.0,6.0) rectangle +(1.0,1.0);\\n\\\\definecolor{currentcolor}{RGB}{255.0,255.0,255.0}\\n\\\\fill[currentcolor] (2.0,5.0) rectangle +(1.0,1.0);\\n\\\\definecolor{currentcolor}{RGB}{255.0,255.0,255.0}\\n\\\\fill[currentcolor] (2.0,4.0) rectangle +(1.0,1.0);\\n\\\\definecolor{currentcolor}{RGB}{255.0,255.0,255.0}\\n\\\\fill[currentcolor] (2.0,3.0) rectangle +(1.0,1.0);\\n\\\\definecolor{currentcolor}{RGB}{255.0,255.0,255.0}\\n\\\\fill[currentcolor] (2.0,2.0) rectangle +(1.0,1.0);\\n\\\\definecolor{currentcolor}{RGB}{255.0,255.0,255.0}\\n\\\\fill[currentcolor] (2.0,1.0) rectangle +(1.0,1.0);\\n\\\\definecolor{currentcolor}{RGB}{255.0,252.45,252.45}\\n\\\\fill[currentcolor] (2.0,0.0) rectangle +(1.0,1.0);\\n\\\\definecolor{currentcolor}{RGB}{255.0,252.45,252.45}\\n\\\\fill[currentcolor] (3.0,9.0) rectangle +(1.0,1.0);\\n\\\\definecolor{currentcolor}{RGB}{255.0,255.0,255.0}\\n\\\\fill[currentcolor] (3.0,8.0) rectangle +(1.0,1.0);\\n\\\\definecolor{currentcolor}{RGB}{255.0,255.0,255.0}\\n\\\\fill[currentcolor] (3.0,7.0) rectangle +(1.0,1.0);\\n\\\\definecolor{currentcolor}{RGB}{255.0,255.0,255.0}\\n\\\\fill[currentcolor] (3.0,6.0) rectangle +(1.0,1.0);\\n\\\\definecolor{currentcolor}{RGB}{255.0,127.5,127.5}\\n\\\\fill[currentcolor] (3.0,5.0) rectangle +(1.0,1.0);\\n\\\\definecolor{currentcolor}{RGB}{255.0,255.0,255.0}\\n\\\\fill[currentcolor] (3.0,4.0) rectangle +(1.0,1.0);\\n\\\\definecolor{currentcolor}{RGB}{255.0,255.0,255.0}\\n\\\\fill[currentcolor] (3.0,3.0) rectangle +(1.0,1.0);\\n\\\\definecolor{currentcolor}{RGB}{255.0,0.0,0.0}\\n\\\\fill[currentcolor] (3.0,2.0) rectangle +(1.0,1.0);\\n\\\\definecolor{currentcolor}{RGB}{255.0,255.0,255.0}\\n\\\\fill[currentcolor] (3.0,1.0) rectangle +(1.0,1.0);\\n\\\\definecolor{currentcolor}{RGB}{255.0,252.45,252.45}\\n\\\\fill[currentcolor] (3.0,0.0) rectangle +(1.0,1.0);\\n\\\\definecolor{currentcolor}{RGB}{255.0,252.45,252.45}\\n\\\\fill[currentcolor] (4.0,9.0) rectangle +(1.0,1.0);\\n\\\\definecolor{currentcolor}{RGB}{255.0,255.0,255.0}\\n\\\\fill[currentcolor] (4.0,8.0) rectangle +(1.0,1.0);\\n\\\\definecolor{currentcolor}{RGB}{255.0,255.0,255.0}\\n\\\\fill[currentcolor] (4.0,7.0) rectangle +(1.0,1.0);\\n\\\\definecolor{currentcolor}{RGB}{255.0,255.0,255.0}\\n\\\\fill[currentcolor] (4.0,6.0) rectangle +(1.0,1.0);\\n\\\\definecolor{currentcolor}{RGB}{255.0,255.0,255.0}\\n\\\\fill[currentcolor] (4.0,5.0) rectangle +(1.0,1.0);\\n\\\\definecolor{currentcolor}{RGB}{255.0,255.0,255.0}\\n\\\\fill[currentcolor] (4.0,4.0) rectangle +(1.0,1.0);\\n\\\\definecolor{currentcolor}{RGB}{255.0,255.0,255.0}\\n\\\\fill[currentcolor] (4.0,3.0) rectangle +(1.0,1.0);\\n\\\\definecolor{currentcolor}{RGB}{255.0,255.0,255.0}\\n\\\\fill[currentcolor] (4.0,2.0) rectangle +(1.0,1.0);\\n\\\\definecolor{currentcolor}{RGB}{255.0,255.0,255.0}\\n\\\\fill[currentcolor] (4.0,1.0) rectangle +(1.0,1.0);\\n\\\\definecolor{currentcolor}{RGB}{255.0,252.45,252.45}\\n\\\\fill[currentcolor] (4.0,0.0) rectangle +(1.0,1.0);\\n\\\\definecolor{currentcolor}{RGB}{255.0,252.45,252.45}\\n\\\\fill[currentcolor] (5.0,9.0) rectangle +(1.0,1.0);\\n\\\\definecolor{currentcolor}{RGB}{255.0,255.0,255.0}\\n\\\\fill[currentcolor] (5.0,8.0) rectangle +(1.0,1.0);\\n\\\\definecolor{currentcolor}{RGB}{255.0,255.0,255.0}\\n\\\\fill[currentcolor] (5.0,7.0) rectangle +(1.0,1.0);\\n\\\\definecolor{currentcolor}{RGB}{255.0,255.0,255.0}\\n\\\\fill[currentcolor] (5.0,6.0) rectangle +(1.0,1.0);\\n\\\\definecolor{currentcolor}{RGB}{255.0,255.0,255.0}\\n\\\\fill[currentcolor] (5.0,5.0) rectangle +(1.0,1.0);\\n\\\\definecolor{currentcolor}{RGB}{255.0,255.0,255.0}\\n\\\\fill[currentcolor] (5.0,4.0) rectangle +(1.0,1.0);\\n\\\\definecolor{currentcolor}{RGB}{255.0,255.0,255.0}\\n\\\\fill[currentcolor] (5.0,3.0) rectangle +(1.0,1.0);\\n\\\\definecolor{currentcolor}{RGB}{255.0,255.0,255.0}\\n\\\\fill[currentcolor] (5.0,2.0) rectangle +(1.0,1.0);\\n\\\\definecolor{currentcolor}{RGB}{255.0,255.0,255.0}\\n\\\\fill[currentcolor] (5.0,1.0) rectangle +(1.0,1.0);\\n\\\\definecolor{currentcolor}{RGB}{255.0,252.45,252.45}\\n\\\\fill[currentcolor] (5.0,0.0) rectangle +(1.0,1.0);\\n\\\\definecolor{currentcolor}{RGB}{255.0,252.45,252.45}\\n\\\\fill[currentcolor] (6.0,9.0) rectangle +(1.0,1.0);\\n\\\\definecolor{currentcolor}{RGB}{255.0,255.0,255.0}\\n\\\\fill[currentcolor] (6.0,8.0) rectangle +(1.0,1.0);\\n\\\\definecolor{currentcolor}{RGB}{255.0,255.0,255.0}\\n\\\\fill[currentcolor] (6.0,7.0) rectangle +(1.0,1.0);\\n\\\\definecolor{currentcolor}{RGB}{255.0,255.0,255.0}\\n\\\\fill[currentcolor] (6.0,6.0) rectangle +(1.0,1.0);\\n\\\\definecolor{currentcolor}{RGB}{255.0,255.0,255.0}\\n\\\\fill[currentcolor] (6.0,5.0) rectangle +(1.0,1.0);\\n\\\\definecolor{currentcolor}{RGB}{255.0,255.0,255.0}\\n\\\\fill[currentcolor] (6.0,4.0) rectangle +(1.0,1.0);\\n\\\\definecolor{currentcolor}{RGB}{255.0,255.0,255.0}\\n\\\\fill[currentcolor] (6.0,3.0) rectangle +(1.0,1.0);\\n\\\\definecolor{currentcolor}{RGB}{255.0,255.0,255.0}\\n\\\\fill[currentcolor] (6.0,2.0) rectangle +(1.0,1.0);\\n\\\\definecolor{currentcolor}{RGB}{255.0,255.0,255.0}\\n\\\\fill[currentcolor] (6.0,1.0) rectangle +(1.0,1.0);\\n\\\\definecolor{currentcolor}{RGB}{255.0,252.45,252.45}\\n\\\\fill[currentcolor] (6.0,0.0) rectangle +(1.0,1.0);\\n\\\\definecolor{currentcolor}{RGB}{255.0,252.45,252.45}\\n\\\\fill[currentcolor] (7.0,9.0) rectangle +(1.0,1.0);\\n\\\\definecolor{currentcolor}{RGB}{255.0,255.0,255.0}\\n\\\\fill[currentcolor] (7.0,8.0) rectangle +(1.0,1.0);\\n\\\\definecolor{currentcolor}{RGB}{178.5,255.0,178.5}\\n\\\\fill[currentcolor] (7.0,7.0) rectangle +(1.0,1.0);\\n\\\\definecolor{currentcolor}{RGB}{255.0,255.0,255.0}\\n\\\\fill[currentcolor] (7.0,6.0) rectangle +(1.0,1.0);\\n\\\\definecolor{currentcolor}{RGB}{255.0,255.0,255.0}\\n\\\\fill[currentcolor] (7.0,5.0) rectangle +(1.0,1.0);\\n\\\\definecolor{currentcolor}{RGB}{255.0,255.0,255.0}\\n\\\\fill[currentcolor] (7.0,4.0) rectangle +(1.0,1.0);\\n\\\\definecolor{currentcolor}{RGB}{255.0,255.0,255.0}\\n\\\\fill[currentcolor] (7.0,3.0) rectangle +(1.0,1.0);\\n\\\\definecolor{currentcolor}{RGB}{255.0,255.0,255.0}\\n\\\\fill[currentcolor] (7.0,2.0) rectangle +(1.0,1.0);\\n\\\\definecolor{currentcolor}{RGB}{255.0,255.0,255.0}\\n\\\\fill[currentcolor] (7.0,1.0) rectangle +(1.0,1.0);\\n\\\\definecolor{currentcolor}{RGB}{255.0,252.45,252.45}\\n\\\\fill[currentcolor] (7.0,0.0) rectangle +(1.0,1.0);\\n\\\\definecolor{currentcolor}{RGB}{255.0,252.45,252.45}\\n\\\\fill[currentcolor] (8.0,9.0) rectangle +(1.0,1.0);\\n\\\\definecolor{currentcolor}{RGB}{255.0,255.0,255.0}\\n\\\\fill[currentcolor] (8.0,8.0) rectangle +(1.0,1.0);\\n\\\\definecolor{currentcolor}{RGB}{255.0,255.0,255.0}\\n\\\\fill[currentcolor] (8.0,7.0) rectangle +(1.0,1.0);\\n\\\\definecolor{currentcolor}{RGB}{255.0,255.0,255.0}\\n\\\\fill[currentcolor] (8.0,6.0) rectangle +(1.0,1.0);\\n\\\\definecolor{currentcolor}{RGB}{255.0,255.0,255.0}\\n\\\\fill[currentcolor] (8.0,5.0) rectangle +(1.0,1.0);\\n\\\\definecolor{currentcolor}{RGB}{255.0,255.0,255.0}\\n\\\\fill[currentcolor] (8.0,4.0) rectangle +(1.0,1.0);\\n\\\\definecolor{currentcolor}{RGB}{255.0,255.0,255.0}\\n\\\\fill[currentcolor] (8.0,3.0) rectangle +(1.0,1.0);\\n\\\\definecolor{currentcolor}{RGB}{0.0,255.0,0.0}\\n\\\\fill[currentcolor] (8.0,2.0) rectangle +(1.0,1.0);\\n\\\\definecolor{currentcolor}{RGB}{255.0,255.0,255.0}\\n\\\\fill[currentcolor] (8.0,1.0) rectangle +(1.0,1.0);\\n\\\\definecolor{currentcolor}{RGB}{255.0,252.45,252.45}\\n\\\\fill[currentcolor] (8.0,0.0) rectangle +(1.0,1.0);\\n\\\\definecolor{currentcolor}{RGB}{255.0,249.9,249.9}\\n\\\\fill[currentcolor] (9.0,9.0) rectangle +(1.0,1.0);\\n\\\\definecolor{currentcolor}{RGB}{255.0,252.45,252.45}\\n\\\\fill[currentcolor] (9.0,8.0) rectangle +(1.0,1.0);\\n\\\\definecolor{currentcolor}{RGB}{255.0,252.45,252.45}\\n\\\\fill[currentcolor] (9.0,7.0) rectangle +(1.0,1.0);\\n\\\\definecolor{currentcolor}{RGB}{255.0,252.45,252.45}\\n\\\\fill[currentcolor] (9.0,6.0) rectangle +(1.0,1.0);\\n\\\\definecolor{currentcolor}{RGB}{255.0,252.45,252.45}\\n\\\\fill[currentcolor] (9.0,5.0) rectangle +(1.0,1.0);\\n\\\\definecolor{currentcolor}{RGB}{255.0,252.45,252.45}\\n\\\\fill[currentcolor] (9.0,4.0) rectangle +(1.0,1.0);\\n\\\\definecolor{currentcolor}{RGB}{255.0,252.45,252.45}\\n\\\\fill[currentcolor] (9.0,3.0) rectangle +(1.0,1.0);\\n\\\\definecolor{currentcolor}{RGB}{255.0,252.45,252.45}\\n\\\\fill[currentcolor] (9.0,2.0) rectangle +(1.0,1.0);\\n\\\\definecolor{currentcolor}{RGB}{255.0,252.45,252.45}\\n\\\\fill[currentcolor] (9.0,1.0) rectangle +(1.0,1.0);\\n\\\\definecolor{currentcolor}{RGB}{255.0,249.9,249.9}\\n\\\\fill[currentcolor] (9.0,0.0) rectangle +(1.0,1.0);\\n\\\\begin{scope}[fill=gray]\\n\\\\fill (0.5, 9.45) -- (0.5, 9.55) -- (0.0, 9.5) -- cycle;\\n\\\\fill (0.5, 9.55) -- (0.5, 9.45) -- (1.0, 9.5) -- cycle;\\n\\\\fill (0.44999999999999996, 9.5) -- (0.55, 9.5) -- (0.5, 9.0) -- cycle;\\n\\\\node[above right] at (0.0, 9.0) {\\$-0.20\\$};\\n\\\\end{scope}\\n\\\\draw[black] grid(10,10);\\n\",\"scale=1.5\",\"\",true,true)"
       ]
      }
     ],
     "prompt_number": 177
    },
    {
     "cell_type": "code",
     "collapsed": false,
     "input": [
      "xy2s(1,1)"
     ],
     "language": "python",
     "metadata": {},
     "outputs": [
      {
       "metadata": {},
       "output_type": "pyout",
       "prompt_number": 11,
       "text": [
        "1"
       ]
      }
     ],
     "prompt_number": 11
    },
    {
     "cell_type": "code",
     "collapsed": false,
     "input": [
      "s2xy(1)"
     ],
     "language": "python",
     "metadata": {},
     "outputs": [
      {
       "metadata": {},
       "output_type": "pyout",
       "prompt_number": 183,
       "text": [
        "(1,1)"
       ]
      }
     ],
     "prompt_number": 183
    },
    {
     "cell_type": "code",
     "collapsed": false,
     "input": [
      "g.R[1,:]"
     ],
     "language": "python",
     "metadata": {},
     "outputs": [
      {
       "metadata": {},
       "output_type": "pyout",
       "prompt_number": 182,
       "text": [
        "1x4 Array{Float64,2}:\n",
        " -0.2  -0.2  -1.0  -0.2"
       ]
      }
     ],
     "prompt_number": 182
    },
    {
     "cell_type": "code",
     "collapsed": false,
     "input": [
      "g.V[1]"
     ],
     "language": "python",
     "metadata": {},
     "outputs": [
      {
       "metadata": {},
       "output_type": "pyout",
       "prompt_number": 179,
       "text": [
        "-0.2"
       ]
      }
     ],
     "prompt_number": 179
    },
    {
     "cell_type": "code",
     "collapsed": false,
     "input": [
      "s2xy(2)"
     ],
     "language": "python",
     "metadata": {},
     "outputs": [
      {
       "metadata": {},
       "output_type": "pyout",
       "prompt_number": 59,
       "text": [
        "(2,1)"
       ]
      }
     ],
     "prompt_number": 59
    },
    {
     "cell_type": "code",
     "collapsed": false,
     "input": [],
     "language": "python",
     "metadata": {},
     "outputs": []
    }
   ],
   "metadata": {}
  }
 ]
}