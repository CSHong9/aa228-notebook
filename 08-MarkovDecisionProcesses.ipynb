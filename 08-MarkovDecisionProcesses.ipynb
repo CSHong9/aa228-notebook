{
 "metadata": {
  "language": "Julia",
  "name": "",
  "signature": "sha256:e69449b64f71443b4aa33a35cd41496055bf57819d51080ffc3ea6e8fdd1c2e3"
 },
 "nbformat": 3,
 "nbformat_minor": 0,
 "worksheets": [
  {
   "cells": [
    {
     "cell_type": "heading",
     "level": 1,
     "metadata": {},
     "source": [
      "Markov Decision Processes"
     ]
    },
    {
     "cell_type": "code",
     "collapsed": false,
     "input": [
      "include(\"mdp.jl\")"
     ],
     "language": "python",
     "metadata": {},
     "outputs": [
      {
       "ename": "LoadError",
       "evalue": "syntax: invalid assignment location\nwhile loading C:\\doc\\aa228-notebook\\mdp.jl, in expression starting on line 140\nwhile loading In[10], in expression starting on line 1",
       "output_type": "pyerr",
       "traceback": [
        "syntax: invalid assignment location\nwhile loading C:\\doc\\aa228-notebook\\mdp.jl, in expression starting on line 140\nwhile loading In[10], in expression starting on line 1",
        "",
        " in include at boot.jl:245",
        " in include_from_node1 at loading.jl:128"
       ]
      }
     ],
     "prompt_number": 10
    },
    {
     "cell_type": "code",
     "collapsed": false,
     "input": [],
     "language": "python",
     "metadata": {},
     "outputs": []
    }
   ],
   "metadata": {}
  }
 ]
}