{
 "metadata": {
  "language": "Julia",
  "name": "",
  "signature": "sha256:e74e8e5355d7461882dfdd3735c4d6cc6a521d63dd198db8e9b93683e59f6fa9"
 },
 "nbformat": 3,
 "nbformat_minor": 0,
 "worksheets": [
  {
   "cells": [
    {
     "cell_type": "heading",
     "level": 1,
     "metadata": {},
     "source": [
      "Exploration and Exploitation"
     ]
    },
    {
     "cell_type": "code",
     "collapsed": false,
     "input": [
      "using Interact\n",
      "using Reactive"
     ],
     "language": "python",
     "metadata": {},
     "outputs": [],
     "prompt_number": 14
    },
    {
     "cell_type": "code",
     "collapsed": false,
     "input": [
      "type Bandit\n",
      "    \u03b8::Vector{Float64}\n",
      "end\n",
      "Bandit(k::Integer) = Bandit(rand(k))\n",
      "pull(b::Bandit, i::Integer) = rand() < b.\u03b8"
     ],
     "language": "python",
     "metadata": {},
     "outputs": [
      {
       "metadata": {},
       "output_type": "pyout",
       "prompt_number": 10,
       "text": [
        "pull (generic function with 1 method)"
       ]
      }
     ],
     "prompt_number": 10
    },
    {
     "cell_type": "code",
     "collapsed": false,
     "input": [],
     "language": "python",
     "metadata": {},
     "outputs": []
    }
   ],
   "metadata": {}
  }
 ]
}