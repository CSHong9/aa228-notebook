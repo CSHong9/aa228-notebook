{
 "cells": [
  {
   "cell_type": "code",
   "execution_count": 1,
   "metadata": {
    "collapsed": false
   },
   "outputs": [
    {
     "name": "stderr",
     "output_type": "stream",
     "text": [
      "INFO: Nothing to be done\n",
      "INFO: METADATA is out-of-date — you may not have the latest version of POMDPs\n",
      "INFO: Use `Pkg.update()` to get the latest versions of your packages\n"
     ]
    },
    {
     "name": "stdout",
     "output_type": "stream",
     "text": [
      "Package already installed\n"
     ]
    },
    {
     "name": "stderr",
     "output_type": "stream",
     "text": [
      "INFO: Cloning POMDPToolbox from https://github.com/JuliaPOMDP/POMDPToolbox.jl\n"
     ]
    }
   ],
   "source": [
    "Pkg.add(\"POMDPs\")\n",
    "using POMDPs\n",
    "POMDPs.add(\"POMDPToolbox\")\n",
    "using POMDPToolbox # for WeightVec, HistoryRecorder, etc"
   ]
  },
  {
   "cell_type": "code",
   "execution_count": 2,
   "metadata": {
    "collapsed": false
   },
   "outputs": [],
   "source": [
    "importall POMDPs\n",
    "include(\"helpers.jl\");"
   ]
  },
  {
   "cell_type": "code",
   "execution_count": 3,
   "metadata": {
    "collapsed": false,
    "scrolled": true
   },
   "outputs": [
    {
     "data": {
      "image/svg+xml": [
       "<?xml version=\"1.0\" encoding=\"UTF-8\"?>\n",
       "<svg xmlns=\"http://www.w3.org/2000/svg\" xmlns:xlink=\"http://www.w3.org/1999/xlink\" width=\"102.853pt\" height=\"17.814pt\" viewBox=\"0 0 102.853 17.814\" version=\"1.1\">\n",
       "<defs>\n",
       "<g>\n",
       "<symbol overflow=\"visible\" id=\"glyph-1474920245121061-0-0\">\n",
       "<path style=\"stroke:none;\" d=\"\"/>\n",
       "</symbol>\n",
       "<symbol overflow=\"visible\" id=\"glyph-1474920245121061-0-1\">\n",
       "<path style=\"stroke:none;\" d=\"M 2.9375 -6.375 C 2.9375 -6.625 2.9375 -6.640625 2.703125 -6.640625 C 2.078125 -6 1.203125 -6 0.890625 -6 L 0.890625 -5.6875 C 1.09375 -5.6875 1.671875 -5.6875 2.1875 -5.953125 L 2.1875 -0.78125 C 2.1875 -0.421875 2.15625 -0.3125 1.265625 -0.3125 L 0.953125 -0.3125 L 0.953125 0 C 1.296875 -0.03125 2.15625 -0.03125 2.5625 -0.03125 C 2.953125 -0.03125 3.828125 -0.03125 4.171875 0 L 4.171875 -0.3125 L 3.859375 -0.3125 C 2.953125 -0.3125 2.9375 -0.421875 2.9375 -0.78125 Z M 2.9375 -6.375 \"/>\n",
       "</symbol>\n",
       "<symbol overflow=\"visible\" id=\"glyph-1474920245121061-0-2\">\n",
       "<path style=\"stroke:none;\" d=\"M 1.265625 -0.765625 L 2.328125 -1.796875 C 3.875 -3.171875 4.46875 -3.703125 4.46875 -4.703125 C 4.46875 -5.84375 3.578125 -6.640625 2.359375 -6.640625 C 1.234375 -6.640625 0.5 -5.71875 0.5 -4.828125 C 0.5 -4.28125 1 -4.28125 1.03125 -4.28125 C 1.203125 -4.28125 1.546875 -4.390625 1.546875 -4.8125 C 1.546875 -5.0625 1.359375 -5.328125 1.015625 -5.328125 C 0.9375 -5.328125 0.921875 -5.328125 0.890625 -5.3125 C 1.109375 -5.96875 1.65625 -6.328125 2.234375 -6.328125 C 3.140625 -6.328125 3.5625 -5.515625 3.5625 -4.703125 C 3.5625 -3.90625 3.078125 -3.125 2.515625 -2.5 L 0.609375 -0.375 C 0.5 -0.265625 0.5 -0.234375 0.5 0 L 4.203125 0 L 4.46875 -1.734375 L 4.234375 -1.734375 C 4.171875 -1.4375 4.109375 -1 4 -0.84375 C 3.9375 -0.765625 3.28125 -0.765625 3.0625 -0.765625 Z M 1.265625 -0.765625 \"/>\n",
       "</symbol>\n",
       "<symbol overflow=\"visible\" id=\"glyph-1474920245121061-0-3\">\n",
       "<path style=\"stroke:none;\" d=\"M 2.890625 -3.515625 C 3.703125 -3.78125 4.28125 -4.46875 4.28125 -5.265625 C 4.28125 -6.078125 3.40625 -6.640625 2.453125 -6.640625 C 1.453125 -6.640625 0.6875 -6.046875 0.6875 -5.28125 C 0.6875 -4.953125 0.90625 -4.765625 1.203125 -4.765625 C 1.5 -4.765625 1.703125 -4.984375 1.703125 -5.28125 C 1.703125 -5.765625 1.234375 -5.765625 1.09375 -5.765625 C 1.390625 -6.265625 2.046875 -6.390625 2.40625 -6.390625 C 2.828125 -6.390625 3.375 -6.171875 3.375 -5.28125 C 3.375 -5.15625 3.34375 -4.578125 3.09375 -4.140625 C 2.796875 -3.65625 2.453125 -3.625 2.203125 -3.625 C 2.125 -3.609375 1.890625 -3.59375 1.8125 -3.59375 C 1.734375 -3.578125 1.671875 -3.5625 1.671875 -3.46875 C 1.671875 -3.359375 1.734375 -3.359375 1.90625 -3.359375 L 2.34375 -3.359375 C 3.15625 -3.359375 3.53125 -2.6875 3.53125 -1.703125 C 3.53125 -0.34375 2.84375 -0.0625 2.40625 -0.0625 C 1.96875 -0.0625 1.21875 -0.234375 0.875 -0.8125 C 1.21875 -0.765625 1.53125 -0.984375 1.53125 -1.359375 C 1.53125 -1.71875 1.265625 -1.921875 0.984375 -1.921875 C 0.734375 -1.921875 0.421875 -1.78125 0.421875 -1.34375 C 0.421875 -0.4375 1.34375 0.21875 2.4375 0.21875 C 3.65625 0.21875 4.5625 -0.6875 4.5625 -1.703125 C 4.5625 -2.515625 3.921875 -3.296875 2.890625 -3.515625 Z M 2.890625 -3.515625 \"/>\n",
       "</symbol>\n",
       "<symbol overflow=\"visible\" id=\"glyph-1474920245121061-0-4\">\n",
       "<path style=\"stroke:none;\" d=\"M 2.9375 -1.640625 L 2.9375 -0.78125 C 2.9375 -0.421875 2.90625 -0.3125 2.171875 -0.3125 L 1.96875 -0.3125 L 1.96875 0 C 2.375 -0.03125 2.890625 -0.03125 3.3125 -0.03125 C 3.734375 -0.03125 4.25 -0.03125 4.671875 0 L 4.671875 -0.3125 L 4.453125 -0.3125 C 3.71875 -0.3125 3.703125 -0.421875 3.703125 -0.78125 L 3.703125 -1.640625 L 4.6875 -1.640625 L 4.6875 -1.953125 L 3.703125 -1.953125 L 3.703125 -6.484375 C 3.703125 -6.6875 3.703125 -6.75 3.53125 -6.75 C 3.453125 -6.75 3.421875 -6.75 3.34375 -6.625 L 0.28125 -1.953125 L 0.28125 -1.640625 Z M 2.984375 -1.953125 L 0.5625 -1.953125 L 2.984375 -5.671875 Z M 2.984375 -1.953125 \"/>\n",
       "</symbol>\n",
       "</g>\n",
       "<clipPath id=\"clip-1474920245121061-1\">\n",
       "  <path d=\"M 0 0 L 18 0 L 18 17.8125 L 0 17.8125 Z M 0 0 \"/>\n",
       "</clipPath>\n",
       "<clipPath id=\"clip-1474920245121061-2\">\n",
       "  <path d=\"M 0 0 L 24 0 L 24 17.8125 L 0 17.8125 Z M 0 0 \"/>\n",
       "</clipPath>\n",
       "<clipPath id=\"clip-1474920245121061-3\">\n",
       "  <path d=\"M 28 0 L 46 0 L 46 17.8125 L 28 17.8125 Z M 28 0 \"/>\n",
       "</clipPath>\n",
       "<clipPath id=\"clip-1474920245121061-4\">\n",
       "  <path d=\"M 22 0 L 52 0 L 52 17.8125 L 22 17.8125 Z M 22 0 \"/>\n",
       "</clipPath>\n",
       "<clipPath id=\"clip-1474920245121061-5\">\n",
       "  <path d=\"M 56 0 L 75 0 L 75 17.8125 L 56 17.8125 Z M 56 0 \"/>\n",
       "</clipPath>\n",
       "<clipPath id=\"clip-1474920245121061-6\">\n",
       "  <path d=\"M 51 0 L 80 0 L 80 17.8125 L 51 17.8125 Z M 51 0 \"/>\n",
       "</clipPath>\n",
       "<clipPath id=\"clip-1474920245121061-7\">\n",
       "  <path d=\"M 85 0 L 102.851562 0 L 102.851562 17.8125 L 85 17.8125 Z M 85 0 \"/>\n",
       "</clipPath>\n",
       "<clipPath id=\"clip-1474920245121061-8\">\n",
       "  <path d=\"M 79 0 L 102.851562 0 L 102.851562 17.8125 L 79 17.8125 Z M 79 0 \"/>\n",
       "</clipPath>\n",
       "</defs>\n",
       "<g id=\"surface1\">\n",
       "<path style=\"fill:none;stroke-width:0.3985;stroke-linecap:butt;stroke-linejoin:miter;stroke:rgb(0%,0%,0%);stroke-opacity:1;stroke-miterlimit:10;\" d=\"M 28.34625 0.00075 L 113.389219 0.00075 \" transform=\"matrix(1,0,0,-1,-19.44,8.907)\"/>\n",
       "<g clip-path=\"url(#clip-1474920245121061-1)\" clip-rule=\"nonzero\">\n",
       "<path style=\" stroke:none;fill-rule:nonzero;fill:rgb(100%,100%,100%);fill-opacity:1;\" d=\"M 17.613281 8.90625 C 17.613281 4.097656 13.714844 0.199219 8.90625 0.199219 C 4.097656 0.199219 0.199219 4.097656 0.199219 8.90625 C 0.199219 13.714844 4.097656 17.613281 8.90625 17.613281 C 13.714844 17.613281 17.613281 13.714844 17.613281 8.90625 Z M 17.613281 8.90625 \"/>\n",
       "</g>\n",
       "<g clip-path=\"url(#clip-1474920245121061-2)\" clip-rule=\"nonzero\">\n",
       "<path style=\"fill:none;stroke-width:0.3985;stroke-linecap:butt;stroke-linejoin:miter;stroke:rgb(0%,0%,0%);stroke-opacity:1;stroke-miterlimit:10;\" d=\"M 37.053281 0.00075 C 37.053281 4.809344 33.154844 8.707781 28.34625 8.707781 C 23.537656 8.707781 19.639219 4.809344 19.639219 0.00075 C 19.639219 -4.807844 23.537656 -8.706281 28.34625 -8.706281 C 33.154844 -8.706281 37.053281 -4.807844 37.053281 0.00075 Z M 37.053281 0.00075 \" transform=\"matrix(1,0,0,-1,-19.44,8.907)\"/>\n",
       "</g>\n",
       "<g style=\"fill:rgb(0%,0%,0%);fill-opacity:1;\">\n",
       "  <use xlink:href=\"#glyph-1474920245121061-0-1\" x=\"6.416\" y=\"12.117\"/>\n",
       "</g>\n",
       "<g clip-path=\"url(#clip-1474920245121061-3)\" clip-rule=\"nonzero\">\n",
       "<path style=\" stroke:none;fill-rule:nonzero;fill:rgb(100%,100%,100%);fill-opacity:1;\" d=\"M 45.960938 8.90625 C 45.960938 4.097656 42.0625 0.199219 37.253906 0.199219 C 32.445312 0.199219 28.546875 4.097656 28.546875 8.90625 C 28.546875 13.714844 32.445312 17.613281 37.253906 17.613281 C 42.0625 17.613281 45.960938 13.714844 45.960938 8.90625 Z M 45.960938 8.90625 \"/>\n",
       "</g>\n",
       "<g clip-path=\"url(#clip-1474920245121061-4)\" clip-rule=\"nonzero\">\n",
       "<path style=\"fill:none;stroke-width:0.3985;stroke-linecap:butt;stroke-linejoin:miter;stroke:rgb(0%,0%,0%);stroke-opacity:1;stroke-miterlimit:10;\" d=\"M 65.400937 0.00075 C 65.400937 4.809344 61.5025 8.707781 56.693906 8.707781 C 51.885312 8.707781 47.986875 4.809344 47.986875 0.00075 C 47.986875 -4.807844 51.885312 -8.706281 56.693906 -8.706281 C 61.5025 -8.706281 65.400937 -4.807844 65.400937 0.00075 Z M 65.400937 0.00075 \" transform=\"matrix(1,0,0,-1,-19.44,8.907)\"/>\n",
       "</g>\n",
       "<g style=\"fill:rgb(0%,0%,0%);fill-opacity:1;\">\n",
       "  <use xlink:href=\"#glyph-1474920245121061-0-2\" x=\"34.763\" y=\"12.117\"/>\n",
       "</g>\n",
       "<g clip-path=\"url(#clip-1474920245121061-5)\" clip-rule=\"nonzero\">\n",
       "<path style=\" stroke:none;fill-rule:nonzero;fill:rgb(100%,100%,100%);fill-opacity:1;\" d=\"M 74.308594 8.90625 C 74.308594 4.097656 70.410156 0.199219 65.601562 0.199219 C 60.792969 0.199219 56.894531 4.097656 56.894531 8.90625 C 56.894531 13.714844 60.792969 17.613281 65.601562 17.613281 C 70.410156 17.613281 74.308594 13.714844 74.308594 8.90625 Z M 74.308594 8.90625 \"/>\n",
       "</g>\n",
       "<g clip-path=\"url(#clip-1474920245121061-6)\" clip-rule=\"nonzero\">\n",
       "<path style=\"fill:none;stroke-width:0.3985;stroke-linecap:butt;stroke-linejoin:miter;stroke:rgb(0%,0%,0%);stroke-opacity:1;stroke-miterlimit:10;\" d=\"M 93.748594 0.00075 C 93.748594 4.809344 89.850156 8.707781 85.041562 8.707781 C 80.232969 8.707781 76.334531 4.809344 76.334531 0.00075 C 76.334531 -4.807844 80.232969 -8.706281 85.041562 -8.706281 C 89.850156 -8.706281 93.748594 -4.807844 93.748594 0.00075 Z M 93.748594 0.00075 \" transform=\"matrix(1,0,0,-1,-19.44,8.907)\"/>\n",
       "</g>\n",
       "<g style=\"fill:rgb(0%,0%,0%);fill-opacity:1;\">\n",
       "  <use xlink:href=\"#glyph-1474920245121061-0-3\" x=\"63.109\" y=\"12.117\"/>\n",
       "</g>\n",
       "<g clip-path=\"url(#clip-1474920245121061-7)\" clip-rule=\"nonzero\">\n",
       "<path style=\" stroke:none;fill-rule:nonzero;fill:rgb(0%,100%,0%);fill-opacity:1;\" d=\"M 102.65625 8.90625 C 102.65625 4.097656 98.757812 0.199219 93.949219 0.199219 C 89.136719 0.199219 85.238281 4.097656 85.238281 8.90625 C 85.238281 13.714844 89.136719 17.613281 93.949219 17.613281 C 98.757812 17.613281 102.65625 13.714844 102.65625 8.90625 Z M 102.65625 8.90625 \"/>\n",
       "</g>\n",
       "<g clip-path=\"url(#clip-1474920245121061-8)\" clip-rule=\"nonzero\">\n",
       "<path style=\"fill:none;stroke-width:0.3985;stroke-linecap:butt;stroke-linejoin:miter;stroke:rgb(0%,0%,0%);stroke-opacity:1;stroke-miterlimit:10;\" d=\"M 122.09625 0.00075 C 122.09625 4.809344 118.197812 8.707781 113.389219 8.707781 C 108.576719 8.707781 104.678281 4.809344 104.678281 0.00075 C 104.678281 -4.807844 108.576719 -8.706281 113.389219 -8.706281 C 118.197812 -8.706281 122.09625 -4.807844 122.09625 0.00075 Z M 122.09625 0.00075 \" transform=\"matrix(1,0,0,-1,-19.44,8.907)\"/>\n",
       "</g>\n",
       "<g style=\"fill:rgb(0%,0%,0%);fill-opacity:1;\">\n",
       "  <use xlink:href=\"#glyph-1474920245121061-0-4\" x=\"91.456\" y=\"12.117\"/>\n",
       "</g>\n",
       "</g>\n",
       "</svg>\n",
       "\n"
      ],
      "text/plain": [
       "TikzPictures.TikzPicture(\"\\\\draw (1cm, 0cm) node[draw=black,circle,fill=white]{1} -- (2cm, 0cm) node[draw=black,circle,fill=white]{2} -- (3cm, 0cm) node[draw=black,circle,fill=white]{3} -- (4cm, 0cm) node[draw=black,circle,fill=green]{4};\",\"\",\"\",true,true)"
      ]
     },
     "execution_count": 3,
     "metadata": {},
     "output_type": "execute_result"
    }
   ],
   "source": [
    "plot_chain(4, fill=Dict(4=>\"green\"))"
   ]
  },
  {
   "cell_type": "code",
   "execution_count": 4,
   "metadata": {
    "collapsed": false
   },
   "outputs": [
    {
     "data": {
      "text/plain": [
       "discount (generic function with 2 methods)"
      ]
     },
     "execution_count": 4,
     "metadata": {},
     "output_type": "execute_result"
    }
   ],
   "source": [
    "type ChainMDP <: MDP{Int, Bool}\n",
    "    len::Int\n",
    "    p_success::Float64\n",
    "    discount::Float64\n",
    "end\n",
    "discount(mdp::ChainMDP) = mdp.discount\n",
    "# left is false, right is true"
   ]
  },
  {
   "cell_type": "code",
   "execution_count": 5,
   "metadata": {
    "collapsed": false
   },
   "outputs": [
    {
     "data": {
      "text/plain": [
       "rand (generic function with 123 methods)"
      ]
     },
     "execution_count": 5,
     "metadata": {},
     "output_type": "execute_result"
    }
   ],
   "source": [
    "create_transition_distribution(mdp::ChainMDP) = Array(Float64, mdp.len)\n",
    "pdf(d::Vector{Float64}, s::Int) = d[s]\n",
    "rand(rng::AbstractRNG, d::Vector{Float64}) = sample(rng, WeightVec(d))\n",
    "rand(rng::AbstractRNG, d::Vector{Float64}, s::Int) = sample(rng, WeightVec(d))"
   ]
  },
  {
   "cell_type": "code",
   "execution_count": 6,
   "metadata": {
    "collapsed": false
   },
   "outputs": [
    {
     "data": {
      "text/plain": [
       "transition (generic function with 4 methods)"
      ]
     },
     "execution_count": 6,
     "metadata": {},
     "output_type": "execute_result"
    }
   ],
   "source": [
    "function transition(mdp::ChainMDP, s::Int, a::Bool, d::Vector{Float64}=create_transition_distribution(mdp))\n",
    "    fill!(d, 0.0)\n",
    "    if a == true\n",
    "        forward = s+1\n",
    "        back = s-1\n",
    "    else\n",
    "        forward = s-1\n",
    "        back = s+1\n",
    "    end\n",
    "    forward = clamp(forward, 1, mdp.len)\n",
    "    back = clamp(forward, 1, mdp.len)\n",
    "    d[forward] = mdp.p_success\n",
    "    d[back] = 1.0 - mdp.p_success\n",
    "    return d\n",
    "end"
   ]
  },
  {
   "cell_type": "code",
   "execution_count": 7,
   "metadata": {
    "collapsed": false
   },
   "outputs": [
    {
     "data": {
      "text/plain": [
       "reward (generic function with 3 methods)"
      ]
     },
     "execution_count": 7,
     "metadata": {},
     "output_type": "execute_result"
    }
   ],
   "source": [
    "function reward(mdp::ChainMDP, s::Int, a::Bool)\n",
    "    if s == mdp.len\n",
    "        return 1.0\n",
    "    else\n",
    "        return 0.0\n",
    "    end \n",
    "end"
   ]
  },
  {
   "cell_type": "code",
   "execution_count": 8,
   "metadata": {
    "collapsed": false
   },
   "outputs": [
    {
     "data": {
      "text/plain": [
       "POMDPToolbox.HistoryRecorder(MersenneTwister(UInt32[0x856e6eb3],Base.dSFMT.DSFMT_state(Int32[197681839,1073390329,385345437,1072970257,1538990630,1073587903,-1556803565,1072775732,2037099528,1073618531  …  -1764165109,1073392391,-65317283,1073351731,-1878779743,-1776100276,-1498850280,1308151426,382,0]),[0.0,0.0,0.0,0.0,0.0,0.0,0.0,0.0,0.0,0.0  …  0.0,0.0,0.0,0.0,0.0,0.0,0.0,0.0,0.0,0.0],382),Any[],Any[],Any[],Any[],Nullable{Exception}(),Nullable{Any}(),false,Nullable{Any}(),Nullable{Any}(0.01),Nullable{Any}(),Nullable{Integer}())"
      ]
     },
     "execution_count": 8,
     "metadata": {},
     "output_type": "execute_result"
    }
   ],
   "source": [
    "rec = HistoryRecorder(eps = 0.01)"
   ]
  },
  {
   "cell_type": "code",
   "execution_count": 9,
   "metadata": {
    "collapsed": false
   },
   "outputs": [
    {
     "data": {
      "text/plain": [
       "ChainMDP(4,0.7,0.9)"
      ]
     },
     "execution_count": 9,
     "metadata": {},
     "output_type": "execute_result"
    }
   ],
   "source": [
    "mdp = ChainMDP(4, 0.7, 0.9)"
   ]
  },
  {
   "cell_type": "code",
   "execution_count": 14,
   "metadata": {
    "collapsed": false
   },
   "outputs": [
    {
     "data": {
      "text/plain": [
       "POMDPToolbox.VectorPolicy{Int64,Bool}(ChainMDP(4,0.7,0.9),Bool[true,true,true,true])"
      ]
     },
     "execution_count": 14,
     "metadata": {},
     "output_type": "execute_result"
    }
   ],
   "source": [
    "policy = VectorPolicy(mdp, fill(true, 4))"
   ]
  },
  {
   "cell_type": "code",
   "execution_count": 15,
   "metadata": {
    "collapsed": false
   },
   "outputs": [
    {
     "data": {
      "text/plain": [
       "7.193022627021248"
      ]
     },
     "execution_count": 15,
     "metadata": {},
     "output_type": "execute_result"
    }
   ],
   "source": [
    "simulate(rec, mdp, policy, 1)"
   ]
  },
  {
   "cell_type": "code",
   "execution_count": 16,
   "metadata": {
    "collapsed": false
   },
   "outputs": [
    {
     "data": {
      "text/plain": [
       "45-element Array{Int64,1}:\n",
       " 1\n",
       " 2\n",
       " 3\n",
       " 4\n",
       " 4\n",
       " 4\n",
       " 4\n",
       " 4\n",
       " 4\n",
       " 4\n",
       " 4\n",
       " 4\n",
       " 4\n",
       " ⋮\n",
       " 4\n",
       " 4\n",
       " 4\n",
       " 4\n",
       " 4\n",
       " 4\n",
       " 4\n",
       " 4\n",
       " 4\n",
       " 4\n",
       " 4\n",
       " 4"
      ]
     },
     "execution_count": 16,
     "metadata": {},
     "output_type": "execute_result"
    }
   ],
   "source": [
    "rec.state_hist"
   ]
  },
  {
   "cell_type": "code",
   "execution_count": null,
   "metadata": {
    "collapsed": true
   },
   "outputs": [],
   "source": []
  }
 ],
 "metadata": {
  "anaconda-cloud": {},
  "kernelspec": {
   "display_name": "Julia 0.5.0",
   "language": "julia",
   "name": "julia-0.5"
  },
  "language_info": {
   "file_extension": ".jl",
   "mimetype": "application/julia",
   "name": "julia",
   "version": "0.5.0"
  }
 },
 "nbformat": 4,
 "nbformat_minor": 1
}
