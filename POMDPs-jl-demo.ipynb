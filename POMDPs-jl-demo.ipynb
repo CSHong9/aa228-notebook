{
 "cells": [
  {
   "cell_type": "code",
   "execution_count": null,
   "metadata": {
    "collapsed": true
   },
   "outputs": [],
   "source": [
    "Pkg.add(\"POMDPs\")\n",
    "Pkg.add(\"POMDPToolbox\")"
   ]
  },
  {
   "cell_type": "code",
   "execution_count": 1,
   "metadata": {
    "collapsed": false
   },
   "outputs": [],
   "source": [
    "using POMDPs\n",
    "using POMDPToolbox"
   ]
  },
  {
   "cell_type": "code",
   "execution_count": 2,
   "metadata": {
    "collapsed": false
   },
   "outputs": [],
   "source": [
    "importall POMDPs\n",
    "include(\"helpers.jl\");"
   ]
  },
  {
   "cell_type": "markdown",
   "metadata": {},
   "source": [
    "# Chain MDP\n",
    "\n",
    "State space: Integer representing which node we are in.\n",
    "\n",
    "Action space: Try to move left or right (represented by symbols `:left` and `:right`.\n",
    "\n",
    "Transitions: Move in action direction with probability `p_success`, otherwise move in the opposite direction.\n",
    "\n",
    "Reward: +1 for being in rightmost state"
   ]
  },
  {
   "cell_type": "code",
   "execution_count": 3,
   "metadata": {
    "collapsed": false,
    "scrolled": true
   },
   "outputs": [
    {
     "data": {
      "image/svg+xml": [
       "<?xml version=\"1.0\" encoding=\"UTF-8\"?>\n",
       "<svg xmlns=\"http://www.w3.org/2000/svg\" xmlns:xlink=\"http://www.w3.org/1999/xlink\" width=\"102.853pt\" height=\"17.814pt\" viewBox=\"0 0 102.853 17.814\" version=\"1.1\">\n",
       "<defs>\n",
       "<g>\n",
       "<symbol overflow=\"visible\" id=\"glyph-1509070005248971-0-0\">\n",
       "<path style=\"stroke:none;\" d=\"\"/>\n",
       "</symbol>\n",
       "<symbol overflow=\"visible\" id=\"glyph-1509070005248971-0-1\">\n",
       "<path style=\"stroke:none;\" d=\"M 2.9375 -6.375 C 2.9375 -6.625 2.9375 -6.640625 2.703125 -6.640625 C 2.078125 -6 1.203125 -6 0.890625 -6 L 0.890625 -5.6875 C 1.09375 -5.6875 1.671875 -5.6875 2.1875 -5.953125 L 2.1875 -0.78125 C 2.1875 -0.421875 2.15625 -0.3125 1.265625 -0.3125 L 0.953125 -0.3125 L 0.953125 0 C 1.296875 -0.03125 2.15625 -0.03125 2.5625 -0.03125 C 2.953125 -0.03125 3.828125 -0.03125 4.171875 0 L 4.171875 -0.3125 L 3.859375 -0.3125 C 2.953125 -0.3125 2.9375 -0.421875 2.9375 -0.78125 Z M 2.9375 -6.375 \"/>\n",
       "</symbol>\n",
       "<symbol overflow=\"visible\" id=\"glyph-1509070005248971-0-2\">\n",
       "<path style=\"stroke:none;\" d=\"M 1.265625 -0.765625 L 2.328125 -1.796875 C 3.875 -3.171875 4.46875 -3.703125 4.46875 -4.703125 C 4.46875 -5.84375 3.578125 -6.640625 2.359375 -6.640625 C 1.234375 -6.640625 0.5 -5.71875 0.5 -4.828125 C 0.5 -4.28125 1 -4.28125 1.03125 -4.28125 C 1.203125 -4.28125 1.546875 -4.390625 1.546875 -4.8125 C 1.546875 -5.0625 1.359375 -5.328125 1.015625 -5.328125 C 0.9375 -5.328125 0.921875 -5.328125 0.890625 -5.3125 C 1.109375 -5.96875 1.65625 -6.328125 2.234375 -6.328125 C 3.140625 -6.328125 3.5625 -5.515625 3.5625 -4.703125 C 3.5625 -3.90625 3.078125 -3.125 2.515625 -2.5 L 0.609375 -0.375 C 0.5 -0.265625 0.5 -0.234375 0.5 0 L 4.203125 0 L 4.46875 -1.734375 L 4.234375 -1.734375 C 4.171875 -1.4375 4.109375 -1 4 -0.84375 C 3.9375 -0.765625 3.28125 -0.765625 3.0625 -0.765625 Z M 1.265625 -0.765625 \"/>\n",
       "</symbol>\n",
       "<symbol overflow=\"visible\" id=\"glyph-1509070005248971-0-3\">\n",
       "<path style=\"stroke:none;\" d=\"M 2.890625 -3.515625 C 3.703125 -3.78125 4.28125 -4.46875 4.28125 -5.265625 C 4.28125 -6.078125 3.40625 -6.640625 2.453125 -6.640625 C 1.453125 -6.640625 0.6875 -6.046875 0.6875 -5.28125 C 0.6875 -4.953125 0.90625 -4.765625 1.203125 -4.765625 C 1.5 -4.765625 1.703125 -4.984375 1.703125 -5.28125 C 1.703125 -5.765625 1.234375 -5.765625 1.09375 -5.765625 C 1.390625 -6.265625 2.046875 -6.390625 2.40625 -6.390625 C 2.828125 -6.390625 3.375 -6.171875 3.375 -5.28125 C 3.375 -5.15625 3.34375 -4.578125 3.09375 -4.140625 C 2.796875 -3.65625 2.453125 -3.625 2.203125 -3.625 C 2.125 -3.609375 1.890625 -3.59375 1.8125 -3.59375 C 1.734375 -3.578125 1.671875 -3.5625 1.671875 -3.46875 C 1.671875 -3.359375 1.734375 -3.359375 1.90625 -3.359375 L 2.34375 -3.359375 C 3.15625 -3.359375 3.53125 -2.6875 3.53125 -1.703125 C 3.53125 -0.34375 2.84375 -0.0625 2.40625 -0.0625 C 1.96875 -0.0625 1.21875 -0.234375 0.875 -0.8125 C 1.21875 -0.765625 1.53125 -0.984375 1.53125 -1.359375 C 1.53125 -1.71875 1.265625 -1.921875 0.984375 -1.921875 C 0.734375 -1.921875 0.421875 -1.78125 0.421875 -1.34375 C 0.421875 -0.4375 1.34375 0.21875 2.4375 0.21875 C 3.65625 0.21875 4.5625 -0.6875 4.5625 -1.703125 C 4.5625 -2.515625 3.921875 -3.296875 2.890625 -3.515625 Z M 2.890625 -3.515625 \"/>\n",
       "</symbol>\n",
       "<symbol overflow=\"visible\" id=\"glyph-1509070005248971-0-4\">\n",
       "<path style=\"stroke:none;\" d=\"M 2.9375 -1.640625 L 2.9375 -0.78125 C 2.9375 -0.421875 2.90625 -0.3125 2.171875 -0.3125 L 1.96875 -0.3125 L 1.96875 0 C 2.375 -0.03125 2.890625 -0.03125 3.3125 -0.03125 C 3.734375 -0.03125 4.25 -0.03125 4.671875 0 L 4.671875 -0.3125 L 4.453125 -0.3125 C 3.71875 -0.3125 3.703125 -0.421875 3.703125 -0.78125 L 3.703125 -1.640625 L 4.6875 -1.640625 L 4.6875 -1.953125 L 3.703125 -1.953125 L 3.703125 -6.484375 C 3.703125 -6.6875 3.703125 -6.75 3.53125 -6.75 C 3.453125 -6.75 3.421875 -6.75 3.34375 -6.625 L 0.28125 -1.953125 L 0.28125 -1.640625 Z M 2.984375 -1.953125 L 0.5625 -1.953125 L 2.984375 -5.671875 Z M 2.984375 -1.953125 \"/>\n",
       "</symbol>\n",
       "</g>\n",
       "<clipPath id=\"clip-1509070005248971-1\">\n",
       "  <path d=\"M 0 0 L 18 0 L 18 17.8125 L 0 17.8125 Z M 0 0 \"/>\n",
       "</clipPath>\n",
       "<clipPath id=\"clip-1509070005248971-2\">\n",
       "  <path d=\"M 0 0 L 24 0 L 24 17.8125 L 0 17.8125 Z M 0 0 \"/>\n",
       "</clipPath>\n",
       "<clipPath id=\"clip-1509070005248971-3\">\n",
       "  <path d=\"M 28 0 L 46 0 L 46 17.8125 L 28 17.8125 Z M 28 0 \"/>\n",
       "</clipPath>\n",
       "<clipPath id=\"clip-1509070005248971-4\">\n",
       "  <path d=\"M 22 0 L 52 0 L 52 17.8125 L 22 17.8125 Z M 22 0 \"/>\n",
       "</clipPath>\n",
       "<clipPath id=\"clip-1509070005248971-5\">\n",
       "  <path d=\"M 56 0 L 75 0 L 75 17.8125 L 56 17.8125 Z M 56 0 \"/>\n",
       "</clipPath>\n",
       "<clipPath id=\"clip-1509070005248971-6\">\n",
       "  <path d=\"M 51 0 L 80 0 L 80 17.8125 L 51 17.8125 Z M 51 0 \"/>\n",
       "</clipPath>\n",
       "<clipPath id=\"clip-1509070005248971-7\">\n",
       "  <path d=\"M 85 0 L 102.851562 0 L 102.851562 17.8125 L 85 17.8125 Z M 85 0 \"/>\n",
       "</clipPath>\n",
       "<clipPath id=\"clip-1509070005248971-8\">\n",
       "  <path d=\"M 79 0 L 102.851562 0 L 102.851562 17.8125 L 79 17.8125 Z M 79 0 \"/>\n",
       "</clipPath>\n",
       "</defs>\n",
       "<g id=\"surface1\">\n",
       "<path style=\"fill:none;stroke-width:0.3985;stroke-linecap:butt;stroke-linejoin:miter;stroke:rgb(0%,0%,0%);stroke-opacity:1;stroke-miterlimit:10;\" d=\"M 28.34625 0.00075 L 113.389219 0.00075 \" transform=\"matrix(1,0,0,-1,-19.44,8.907)\"/>\n",
       "<g clip-path=\"url(#clip-1509070005248971-1)\" clip-rule=\"nonzero\">\n",
       "<path style=\" stroke:none;fill-rule:nonzero;fill:rgb(100%,100%,100%);fill-opacity:1;\" d=\"M 17.613281 8.90625 C 17.613281 4.097656 13.714844 0.199219 8.90625 0.199219 C 4.097656 0.199219 0.199219 4.097656 0.199219 8.90625 C 0.199219 13.714844 4.097656 17.613281 8.90625 17.613281 C 13.714844 17.613281 17.613281 13.714844 17.613281 8.90625 Z M 17.613281 8.90625 \"/>\n",
       "</g>\n",
       "<g clip-path=\"url(#clip-1509070005248971-2)\" clip-rule=\"nonzero\">\n",
       "<path style=\"fill:none;stroke-width:0.3985;stroke-linecap:butt;stroke-linejoin:miter;stroke:rgb(0%,0%,0%);stroke-opacity:1;stroke-miterlimit:10;\" d=\"M 37.053281 0.00075 C 37.053281 4.809344 33.154844 8.707781 28.34625 8.707781 C 23.537656 8.707781 19.639219 4.809344 19.639219 0.00075 C 19.639219 -4.807844 23.537656 -8.706281 28.34625 -8.706281 C 33.154844 -8.706281 37.053281 -4.807844 37.053281 0.00075 Z M 37.053281 0.00075 \" transform=\"matrix(1,0,0,-1,-19.44,8.907)\"/>\n",
       "</g>\n",
       "<g style=\"fill:rgb(0%,0%,0%);fill-opacity:1;\">\n",
       "  <use xlink:href=\"#glyph-1509070005248971-0-1\" x=\"6.416\" y=\"12.117\"/>\n",
       "</g>\n",
       "<g clip-path=\"url(#clip-1509070005248971-3)\" clip-rule=\"nonzero\">\n",
       "<path style=\" stroke:none;fill-rule:nonzero;fill:rgb(100%,100%,100%);fill-opacity:1;\" d=\"M 45.960938 8.90625 C 45.960938 4.097656 42.0625 0.199219 37.253906 0.199219 C 32.445312 0.199219 28.546875 4.097656 28.546875 8.90625 C 28.546875 13.714844 32.445312 17.613281 37.253906 17.613281 C 42.0625 17.613281 45.960938 13.714844 45.960938 8.90625 Z M 45.960938 8.90625 \"/>\n",
       "</g>\n",
       "<g clip-path=\"url(#clip-1509070005248971-4)\" clip-rule=\"nonzero\">\n",
       "<path style=\"fill:none;stroke-width:0.3985;stroke-linecap:butt;stroke-linejoin:miter;stroke:rgb(0%,0%,0%);stroke-opacity:1;stroke-miterlimit:10;\" d=\"M 65.400937 0.00075 C 65.400937 4.809344 61.5025 8.707781 56.693906 8.707781 C 51.885312 8.707781 47.986875 4.809344 47.986875 0.00075 C 47.986875 -4.807844 51.885312 -8.706281 56.693906 -8.706281 C 61.5025 -8.706281 65.400937 -4.807844 65.400937 0.00075 Z M 65.400937 0.00075 \" transform=\"matrix(1,0,0,-1,-19.44,8.907)\"/>\n",
       "</g>\n",
       "<g style=\"fill:rgb(0%,0%,0%);fill-opacity:1;\">\n",
       "  <use xlink:href=\"#glyph-1509070005248971-0-2\" x=\"34.763\" y=\"12.117\"/>\n",
       "</g>\n",
       "<g clip-path=\"url(#clip-1509070005248971-5)\" clip-rule=\"nonzero\">\n",
       "<path style=\" stroke:none;fill-rule:nonzero;fill:rgb(100%,100%,100%);fill-opacity:1;\" d=\"M 74.308594 8.90625 C 74.308594 4.097656 70.410156 0.199219 65.601562 0.199219 C 60.792969 0.199219 56.894531 4.097656 56.894531 8.90625 C 56.894531 13.714844 60.792969 17.613281 65.601562 17.613281 C 70.410156 17.613281 74.308594 13.714844 74.308594 8.90625 Z M 74.308594 8.90625 \"/>\n",
       "</g>\n",
       "<g clip-path=\"url(#clip-1509070005248971-6)\" clip-rule=\"nonzero\">\n",
       "<path style=\"fill:none;stroke-width:0.3985;stroke-linecap:butt;stroke-linejoin:miter;stroke:rgb(0%,0%,0%);stroke-opacity:1;stroke-miterlimit:10;\" d=\"M 93.748594 0.00075 C 93.748594 4.809344 89.850156 8.707781 85.041562 8.707781 C 80.232969 8.707781 76.334531 4.809344 76.334531 0.00075 C 76.334531 -4.807844 80.232969 -8.706281 85.041562 -8.706281 C 89.850156 -8.706281 93.748594 -4.807844 93.748594 0.00075 Z M 93.748594 0.00075 \" transform=\"matrix(1,0,0,-1,-19.44,8.907)\"/>\n",
       "</g>\n",
       "<g style=\"fill:rgb(0%,0%,0%);fill-opacity:1;\">\n",
       "  <use xlink:href=\"#glyph-1509070005248971-0-3\" x=\"63.109\" y=\"12.117\"/>\n",
       "</g>\n",
       "<g clip-path=\"url(#clip-1509070005248971-7)\" clip-rule=\"nonzero\">\n",
       "<path style=\" stroke:none;fill-rule:nonzero;fill:rgb(0%,100%,0%);fill-opacity:1;\" d=\"M 102.65625 8.90625 C 102.65625 4.097656 98.757812 0.199219 93.949219 0.199219 C 89.136719 0.199219 85.238281 4.097656 85.238281 8.90625 C 85.238281 13.714844 89.136719 17.613281 93.949219 17.613281 C 98.757812 17.613281 102.65625 13.714844 102.65625 8.90625 Z M 102.65625 8.90625 \"/>\n",
       "</g>\n",
       "<g clip-path=\"url(#clip-1509070005248971-8)\" clip-rule=\"nonzero\">\n",
       "<path style=\"fill:none;stroke-width:0.3985;stroke-linecap:butt;stroke-linejoin:miter;stroke:rgb(0%,0%,0%);stroke-opacity:1;stroke-miterlimit:10;\" d=\"M 122.09625 0.00075 C 122.09625 4.809344 118.197812 8.707781 113.389219 8.707781 C 108.576719 8.707781 104.678281 4.809344 104.678281 0.00075 C 104.678281 -4.807844 108.576719 -8.706281 113.389219 -8.706281 C 118.197812 -8.706281 122.09625 -4.807844 122.09625 0.00075 Z M 122.09625 0.00075 \" transform=\"matrix(1,0,0,-1,-19.44,8.907)\"/>\n",
       "</g>\n",
       "<g style=\"fill:rgb(0%,0%,0%);fill-opacity:1;\">\n",
       "  <use xlink:href=\"#glyph-1509070005248971-0-4\" x=\"91.456\" y=\"12.117\"/>\n",
       "</g>\n",
       "</g>\n",
       "</svg>\n",
       "\n"
      ],
      "text/plain": [
       "TikzPictures.TikzPicture(\"\\\\draw (1cm, 0cm) node[draw=black,circle,fill=white]{1} -- (2cm, 0cm) node[draw=black,circle,fill=white]{2} -- (3cm, 0cm) node[draw=black,circle,fill=white]{3} -- (4cm, 0cm) node[draw=black,circle,fill=green]{4};\", \"\", \"\", true, true)"
      ]
     },
     "execution_count": 3,
     "metadata": {},
     "output_type": "execute_result"
    }
   ],
   "source": [
    "plot_chain(4, fill=Dict(4=>\"green\"))"
   ]
  },
  {
   "cell_type": "markdown",
   "metadata": {},
   "source": [
    "First, create a new type that represents the MDP"
   ]
  },
  {
   "cell_type": "code",
   "execution_count": 4,
   "metadata": {
    "collapsed": false
   },
   "outputs": [],
   "source": [
    "struct ChainMDP <: MDP{Int, Symbol}\n",
    "    len::Int\n",
    "    p_success::Float64\n",
    "    discount::Float64\n",
    "end"
   ]
  },
  {
   "cell_type": "markdown",
   "metadata": {},
   "source": [
    "We define the behavior of the MDP by imlementing functions from the POMDPs.jl API (http://juliapomdp.github.io/POMDPs.jl/latest/api/). "
   ]
  },
  {
   "cell_type": "code",
   "execution_count": 5,
   "metadata": {
    "collapsed": false
   },
   "outputs": [
    {
     "data": {
      "text/plain": [
       "transition (generic function with 1 method)"
      ]
     },
     "execution_count": 5,
     "metadata": {},
     "output_type": "execute_result"
    }
   ],
   "source": [
    "# the transition function returns the distribution of sp given that\n",
    "# action a is taken in state s\n",
    "function transition(mdp::ChainMDP, s::Int, a::Symbol)\n",
    "    if a == :right\n",
    "        success = min(s+1, mdp.len)\n",
    "        failure = max(s-1, 1)\n",
    "    else # a == :left\n",
    "        success = max(s-1, 1)\n",
    "        failure = min(s+1, mdp.len)\n",
    "    end\n",
    "    return SparseCat([success, failure], [mdp.p_success, 1.0-mdp.p_success])\n",
    "end"
   ]
  },
  {
   "cell_type": "markdown",
   "metadata": {},
   "source": [
    "Note: this allocates arrays in the return statement - it could be sped up by using [StaticArrays.jl](https://github.com/JuliaArrays/StaticArrays.jl)"
   ]
  },
  {
   "cell_type": "code",
   "execution_count": 6,
   "metadata": {
    "collapsed": false
   },
   "outputs": [
    {
     "data": {
      "text/plain": [
       "reward (generic function with 2 methods)"
      ]
     },
     "execution_count": 6,
     "metadata": {},
     "output_type": "execute_result"
    }
   ],
   "source": [
    "function reward(mdp::ChainMDP, s::Int, a::Symbol)\n",
    "    if s == mdp.len\n",
    "        return 1.0\n",
    "    else\n",
    "        return 0.0\n",
    "    end \n",
    "end"
   ]
  },
  {
   "cell_type": "code",
   "execution_count": 7,
   "metadata": {
    "collapsed": false
   },
   "outputs": [
    {
     "data": {
      "text/plain": [
       "discount (generic function with 4 methods)"
      ]
     },
     "execution_count": 7,
     "metadata": {},
     "output_type": "execute_result"
    }
   ],
   "source": [
    "discount(mdp::ChainMDP) = mdp.discount"
   ]
  },
  {
   "cell_type": "markdown",
   "metadata": {},
   "source": [
    "And that's all we need to define the MDP (for simulation at least)"
   ]
  },
  {
   "cell_type": "code",
   "execution_count": null,
   "metadata": {
    "collapsed": true
   },
   "outputs": [],
   "source": [
    "\n",
    "\n",
    "\n",
    "\n",
    "\n",
    "\n",
    "\n",
    "\n",
    "\n",
    "\n",
    "\n"
   ]
  },
  {
   "cell_type": "code",
   "execution_count": 8,
   "metadata": {
    "collapsed": false
   },
   "outputs": [
    {
     "data": {
      "text/plain": [
       "ChainMDP(4, 0.7, 0.9)"
      ]
     },
     "execution_count": 8,
     "metadata": {},
     "output_type": "execute_result"
    }
   ],
   "source": [
    "mdp = ChainMDP(4, 0.7, 0.9)"
   ]
  },
  {
   "cell_type": "code",
   "execution_count": 9,
   "metadata": {
    "collapsed": false
   },
   "outputs": [
    {
     "data": {
      "text/plain": [
       "POMDPToolbox.SparseCat{Array{Int64,1},Array{Float64,1}}([2, 1], [0.7, 0.3])"
      ]
     },
     "execution_count": 9,
     "metadata": {},
     "output_type": "execute_result"
    }
   ],
   "source": [
    "transition(mdp, 1, :right)"
   ]
  },
  {
   "cell_type": "code",
   "execution_count": 10,
   "metadata": {
    "collapsed": false
   },
   "outputs": [
    {
     "data": {
      "text/plain": [
       "0.0"
      ]
     },
     "execution_count": 10,
     "metadata": {},
     "output_type": "execute_result"
    }
   ],
   "source": [
    "reward(mdp, 1, :right)"
   ]
  },
  {
   "cell_type": "code",
   "execution_count": 17,
   "metadata": {
    "collapsed": false
   },
   "outputs": [
    {
     "data": {
      "text/plain": [
       "1.0"
      ]
     },
     "execution_count": 17,
     "metadata": {},
     "output_type": "execute_result"
    }
   ],
   "source": [
    "reward(mdp, 4, :left)"
   ]
  },
  {
   "cell_type": "code",
   "execution_count": null,
   "metadata": {
    "collapsed": true
   },
   "outputs": [],
   "source": [
    "\n",
    "\n",
    "\n",
    "\n",
    "\n",
    "\n",
    "\n",
    "\n",
    "\n",
    "\n"
   ]
  },
  {
   "cell_type": "markdown",
   "metadata": {},
   "source": [
    "# Simulations\n",
    "\n",
    "There are three basic ways to simulate a POMDP."
   ]
  },
  {
   "cell_type": "markdown",
   "metadata": {
    "collapsed": true
   },
   "source": [
    "\n",
    "\n",
    "If we want to try out simple policies we can use the `sim` function with a `do` block that defines the policy."
   ]
  },
  {
   "cell_type": "code",
   "execution_count": 18,
   "metadata": {
    "collapsed": false
   },
   "outputs": [],
   "source": [
    "history = sim(mdp, initial_state=1, max_steps=10) do s\n",
    "    return :right\n",
    "end;"
   ]
  },
  {
   "cell_type": "code",
   "execution_count": 19,
   "metadata": {
    "collapsed": false,
    "scrolled": true
   },
   "outputs": [
    {
     "name": "stdout",
     "output_type": "stream",
     "text": [
      "State:  1    Action:  right   Reward: 0\n",
      "State:  1    Action:  right   Reward: 0\n",
      "State:  2    Action:   left   Reward: 0\n",
      "State:  1    Action:  right   Reward: 0\n",
      "State:  2    Action:   left   Reward: 0\n",
      "State:  1    Action:  right   Reward: 0\n",
      "State:  1    Action:  right   Reward: 0\n",
      "State:  2    Action:   left   Reward: 0\n",
      "State:  1    Action:  right   Reward: 0\n",
      "State:  2    Action:   left   Reward: 0\n"
     ]
    }
   ],
   "source": [
    "for (s, a, r) in eachstep(history, \"sar\")\n",
    "    @printf(\"State: %2d    Action: %6s   Reward: %1d\\n\", s, a, r)\n",
    "end    "
   ]
  },
  {
   "cell_type": "code",
   "execution_count": null,
   "metadata": {
    "collapsed": true
   },
   "outputs": [],
   "source": [
    "\n",
    "\n",
    "\n",
    "\n",
    "\n",
    "\n",
    "\n",
    "\n",
    "\n",
    "\n",
    "\n",
    "\n",
    "\n",
    "\n"
   ]
  },
  {
   "cell_type": "markdown",
   "metadata": {},
   "source": [
    "We can also specify a policy object, for example using a vector"
   ]
  },
  {
   "cell_type": "code",
   "execution_count": 20,
   "metadata": {
    "collapsed": false
   },
   "outputs": [
    {
     "name": "stdout",
     "output_type": "stream",
     "text": [
      "policy_vector = fill(:right, 4) = Symbol[:right, :right, :right, :right]\n"
     ]
    }
   ],
   "source": [
    "@show policy_vector = fill(:right, 4);"
   ]
  },
  {
   "cell_type": "code",
   "execution_count": 22,
   "metadata": {
    "collapsed": false
   },
   "outputs": [],
   "source": [
    "policy = VectorPolicy(mdp, fill(:right, 4));"
   ]
  },
  {
   "cell_type": "markdown",
   "metadata": {
    "collapsed": false,
    "scrolled": true
   },
   "source": [
    "and step through a simulation as it is being performed"
   ]
  },
  {
   "cell_type": "code",
   "execution_count": 23,
   "metadata": {
    "collapsed": false
   },
   "outputs": [
    {
     "name": "stdout",
     "output_type": "stream",
     "text": [
      "State:  1    Action:  right   Reward: 0\n",
      "State:  1    Action:  right   Reward: 0\n",
      "State:  2    Action:  right   Reward: 0\n",
      "State:  3    Action:  right   Reward: 0\n",
      "State:  4    Action:  right   Reward: 1\n",
      "State:  3    Action:  right   Reward: 0\n",
      "State:  4    Action:  right   Reward: 1\n",
      "State:  3    Action:  right   Reward: 0\n",
      "State:  2    Action:  right   Reward: 0\n",
      "State:  3    Action:  right   Reward: 0\n"
     ]
    }
   ],
   "source": [
    "for (s, a, r) in stepthrough(mdp, policy, \"sar\", initial_state=1, max_steps=10)\n",
    "    @printf(\"State: %2d    Action: %6s   Reward: %1d\\n\", s, a, r)\n",
    "    sleep(1.0)\n",
    "end"
   ]
  },
  {
   "cell_type": "code",
   "execution_count": null,
   "metadata": {
    "collapsed": true
   },
   "outputs": [],
   "source": [
    "\n",
    "\n",
    "\n",
    "\n",
    "\n",
    "\n",
    "\n",
    "\n",
    "\n",
    "\n",
    "\n",
    "\n"
   ]
  },
  {
   "cell_type": "markdown",
   "metadata": {
    "collapsed": true
   },
   "source": [
    "And also use a simulator object and the `simulate()` function."
   ]
  },
  {
   "cell_type": "code",
   "execution_count": 24,
   "metadata": {
    "collapsed": false
   },
   "outputs": [
    {
     "name": "stdout",
     "output_type": "stream",
     "text": [
      "state_hist(history) = [1, 2, 3, 4, 4, 4, 4, 4, 4, 4, 4]\n"
     ]
    }
   ],
   "source": [
    "simulator = HistoryRecorder(max_steps=10, initial_state=1)\n",
    "history = simulate(simulator, mdp, policy)\n",
    "@show state_hist(history);"
   ]
  },
  {
   "cell_type": "code",
   "execution_count": null,
   "metadata": {
    "collapsed": true
   },
   "outputs": [],
   "source": [
    "\n",
    "\n",
    "\n",
    "\n",
    "\n",
    "\n",
    "\n",
    "\n",
    "\n",
    "\n",
    "\n",
    "\n",
    "\n",
    "\n",
    "\n",
    "\n"
   ]
  },
  {
   "cell_type": "markdown",
   "metadata": {},
   "source": [
    "# Solving with MCTS\n",
    "\n",
    "\n",
    "The required API functions depend on the solver. Suppose we want to use the MCTS solver from MCTS.jl:"
   ]
  },
  {
   "cell_type": "code",
   "execution_count": null,
   "metadata": {
    "collapsed": false
   },
   "outputs": [],
   "source": [
    "POMDPs.add(\"MCTS\")\n",
    "using MCTS"
   ]
  },
  {
   "cell_type": "code",
   "execution_count": null,
   "metadata": {
    "collapsed": false
   },
   "outputs": [],
   "source": [
    "solver = MCTSSolver()\n",
    "mdp = ChainMDP(4, 0.8, 0.95)\n",
    "\n",
    "@requirements_info solver mdp"
   ]
  },
  {
   "cell_type": "code",
   "execution_count": 31,
   "metadata": {
    "collapsed": false
   },
   "outputs": [
    {
     "data": {
      "text/plain": [
       "actions (generic function with 12 methods)"
      ]
     },
     "execution_count": 31,
     "metadata": {},
     "output_type": "execute_result"
    }
   ],
   "source": [
    "actions(::ChainMDP) = [:left, :right]"
   ]
  },
  {
   "cell_type": "code",
   "execution_count": null,
   "metadata": {
    "collapsed": false
   },
   "outputs": [],
   "source": [
    "@requirements_info solver mdp"
   ]
  },
  {
   "cell_type": "code",
   "execution_count": null,
   "metadata": {
    "collapsed": false
   },
   "outputs": [],
   "source": [
    "solver = MCTSSolver(enable_tree_vis=true)\n",
    "planner = solve(solver, mdp);"
   ]
  },
  {
   "cell_type": "code",
   "execution_count": null,
   "metadata": {
    "collapsed": false
   },
   "outputs": [],
   "source": [
    "simulate(simulator, mdp, planner, 1)"
   ]
  },
  {
   "cell_type": "code",
   "execution_count": null,
   "metadata": {
    "collapsed": false
   },
   "outputs": [],
   "source": [
    "using D3Trees\n",
    "D3Tree(planner, 1)"
   ]
  },
  {
   "cell_type": "markdown",
   "metadata": {},
   "source": [
    "# Solving with value iteration\n",
    "\n",
    "We can also try value iteration from the DiscreteValueIteration package"
   ]
  },
  {
   "cell_type": "code",
   "execution_count": 27,
   "metadata": {
    "collapsed": false
   },
   "outputs": [
    {
     "name": "stdout",
     "output_type": "stream",
     "text": [
      "Package already installed\n"
     ]
    },
    {
     "name": "stderr",
     "output_type": "stream",
     "text": [
      "\u001b[1m\u001b[36mINFO: \u001b[39m\u001b[22m\u001b[36mCloning DiscreteValueIteration from https://github.com/JuliaPOMDP/DiscreteValueIteration.jl\n",
      "\u001b[39m"
     ]
    }
   ],
   "source": [
    "POMDPs.add(\"DiscreteValueIteration\")"
   ]
  },
  {
   "cell_type": "code",
   "execution_count": 32,
   "metadata": {
    "collapsed": false
   },
   "outputs": [
    {
     "name": "stdout",
     "output_type": "stream",
     "text": [
      "\n",
      "INFO: POMDPs.jl requirements for \u001b[34msolve(::ValueIterationSolver, ::Union{POMDPs.MDP,POMDPs.POMDP})\u001b[39m and dependencies. ([✔] = implemented correctly; [X] = missing)\n",
      "\n",
      "For \u001b[34msolve(::ValueIterationSolver, ::Union{POMDPs.MDP,POMDPs.POMDP})\u001b[39m:\n",
      "\u001b[32m  [✔] discount(::ChainMDP)\u001b[39m\n",
      "\u001b[31m  [X] n_states(::ChainMDP)\u001b[39m\n",
      "\u001b[31m  [X] n_actions(::ChainMDP)\u001b[39m\n",
      "\u001b[32m  [✔] transition(::ChainMDP, ::Int64, ::Symbol)\u001b[39m\n",
      "\u001b[32m  [✔] reward(::ChainMDP, ::Int64, ::Symbol, ::Int64)\u001b[39m\n",
      "\u001b[32m  [✔] state_index(::ChainMDP, ::Int64)\u001b[39m\n",
      "\u001b[31m  [X] action_index(::ChainMDP, ::Symbol)\u001b[39m\n",
      "\u001b[32m  [✔] actions(::ChainMDP, ::Int64)\u001b[39m\n",
      "\u001b[31m  WARNING: Some requirements may not be shown because a MethodError was thrown.\u001b[39m\n",
      "For \u001b[34mordered_states(::Union{POMDPs.MDP,POMDPs.POMDP})\u001b[39m (in solve(::ValueIterationSolver, ::Union{POMDPs.MDP,POMDPs.POMDP})):\n",
      "\u001b[31m  [X] states(::ChainMDP)\u001b[39m\n",
      "\u001b[31m  WARNING: Some requirements may not be shown because a MethodError was thrown.\u001b[39m\n",
      "For \u001b[34mordered_actions(::Union{POMDPs.MDP,POMDPs.POMDP})\u001b[39m (in solve(::ValueIterationSolver, ::Union{POMDPs.MDP,POMDPs.POMDP})):\n",
      "\u001b[32m  [✔] actions(::ChainMDP)\u001b[39m\n",
      "\u001b[32m  [✔] iterator(::Array)\u001b[39m\n",
      "\n",
      "Note: Missing methods are often due to incorrect importing. Consider using `importall POMDPs`.\n",
      "\n",
      "Throwing the first exception (from processing \u001b[34msolve(::ValueIterationSolver, ::Union{POMDPs.MDP,POMDPs.POMDP})\u001b[39m requirements):\n",
      "\n"
     ]
    },
    {
     "ename": "LoadError",
     "evalue": "\u001b[91mMethodError: no method matching states(::ChainMDP)\u001b[0m\nClosest candidates are:\n  states(::Union{POMDPs.MDP, POMDPs.POMDP}, \u001b[91m::Any\u001b[39m) at /home/zach/.julia/v0.6/POMDPs/src/space.jl:26\n  states(\u001b[91m::POMDPs.MDP{Bool,A} where A\u001b[39m) at /home/zach/.julia/v0.6/POMDPToolbox/src/convenience/implementations.jl:21\n  states(\u001b[91m::POMDPs.POMDP{Bool,A,O} where O where A\u001b[39m) at /home/zach/.julia/v0.6/POMDPToolbox/src/convenience/implementations.jl:22\u001b[39m",
     "output_type": "error",
     "traceback": [
      "\u001b[91mMethodError: no method matching states(::ChainMDP)\u001b[0m\nClosest candidates are:\n  states(::Union{POMDPs.MDP, POMDPs.POMDP}, \u001b[91m::Any\u001b[39m) at /home/zach/.julia/v0.6/POMDPs/src/space.jl:26\n  states(\u001b[91m::POMDPs.MDP{Bool,A} where A\u001b[39m) at /home/zach/.julia/v0.6/POMDPToolbox/src/convenience/implementations.jl:21\n  states(\u001b[91m::POMDPs.POMDP{Bool,A,O} where O where A\u001b[39m) at /home/zach/.julia/v0.6/POMDPToolbox/src/convenience/implementations.jl:22\u001b[39m",
      ""
     ]
    }
   ],
   "source": [
    "using DiscreteValueIteration\n",
    "solver = ValueIterationSolver()\n",
    "@requirements_info solver mdp"
   ]
  },
  {
   "cell_type": "code",
   "execution_count": 33,
   "metadata": {
    "collapsed": false
   },
   "outputs": [
    {
     "data": {
      "text/plain": [
       "action_index (generic function with 3 methods)"
      ]
     },
     "execution_count": 33,
     "metadata": {},
     "output_type": "execute_result"
    }
   ],
   "source": [
    "n_states(mdp::ChainMDP) = mdp.len\n",
    "states(mdp::ChainMDP) = 1:mdp.len\n",
    "n_actions(::ChainMDP) = 2\n",
    "action_index(::ChainMDP, a::Symbol) = a == :left ? 1 : 2"
   ]
  },
  {
   "cell_type": "code",
   "execution_count": 34,
   "metadata": {
    "collapsed": false
   },
   "outputs": [
    {
     "name": "stdout",
     "output_type": "stream",
     "text": [
      "\n",
      "INFO: POMDPs.jl requirements for \u001b[34msolve(::ValueIterationSolver, ::Union{POMDPs.MDP,POMDPs.POMDP})\u001b[39m and dependencies. ([✔] = implemented correctly; [X] = missing)\n",
      "\n",
      "For \u001b[34msolve(::ValueIterationSolver, ::Union{POMDPs.MDP,POMDPs.POMDP})\u001b[39m:\n",
      "\u001b[32m  [✔] discount(::ChainMDP)\u001b[39m\n",
      "\u001b[32m  [✔] n_states(::ChainMDP)\u001b[39m\n",
      "\u001b[32m  [✔] n_actions(::ChainMDP)\u001b[39m\n",
      "\u001b[32m  [✔] transition(::ChainMDP, ::Int64, ::Symbol)\u001b[39m\n",
      "\u001b[32m  [✔] reward(::ChainMDP, ::Int64, ::Symbol, ::Int64)\u001b[39m\n",
      "\u001b[32m  [✔] state_index(::ChainMDP, ::Int64)\u001b[39m\n",
      "\u001b[32m  [✔] action_index(::ChainMDP, ::Symbol)\u001b[39m\n",
      "\u001b[32m  [✔] actions(::ChainMDP, ::Int64)\u001b[39m\n",
      "\u001b[32m  [✔] iterator(::Array)\u001b[39m\n",
      "\u001b[32m  [✔] iterator(::UnitRange)\u001b[39m\n",
      "\u001b[32m  [✔] iterator(::SparseCat)\u001b[39m\n",
      "\u001b[32m  [✔] pdf(::SparseCat, ::Int64)\u001b[39m\n",
      "For \u001b[34mordered_states(::Union{POMDPs.MDP,POMDPs.POMDP})\u001b[39m (in solve(::ValueIterationSolver, ::Union{POMDPs.MDP,POMDPs.POMDP})):\n",
      "\u001b[32m  [✔] states(::ChainMDP)\u001b[39m\n",
      "For \u001b[34mordered_actions(::Union{POMDPs.MDP,POMDPs.POMDP})\u001b[39m (in solve(::ValueIterationSolver, ::Union{POMDPs.MDP,POMDPs.POMDP})):\n",
      "\u001b[32m  [✔] actions(::ChainMDP)\u001b[39m\n",
      "\n"
     ]
    },
    {
     "data": {
      "text/plain": [
       "true"
      ]
     },
     "execution_count": 34,
     "metadata": {},
     "output_type": "execute_result"
    }
   ],
   "source": [
    "@requirements_info solver mdp"
   ]
  },
  {
   "cell_type": "code",
   "execution_count": 36,
   "metadata": {
    "collapsed": false
   },
   "outputs": [
    {
     "name": "stdout",
     "output_type": "stream",
     "text": [
      "[Iteration 1   ] residual:          1 | iteration runtime:      0.013 ms, (  1.31E-05 s total)\n",
      "[Iteration 2   ] residual:        0.8 | iteration runtime:      0.010 ms, (  2.27E-05 s total)\n",
      "[Iteration 3   ] residual:      0.669 | iteration runtime:      0.008 ms, (  3.06E-05 s total)\n",
      "[Iteration 4   ] residual:      0.568 | iteration runtime:      0.008 ms, (  3.84E-05 s total)\n",
      "[Iteration 5   ] residual:      0.487 | iteration runtime:      0.007 ms, (  4.53E-05 s total)\n",
      "[Iteration 6   ] residual:      0.419 | iteration runtime:      0.007 ms, (  5.26E-05 s total)\n",
      "[Iteration 7   ] residual:      0.361 | iteration runtime:      0.008 ms, (  6.06E-05 s total)\n",
      "[Iteration 8   ] residual:       0.32 | iteration runtime:      0.010 ms, (  7.03E-05 s total)\n",
      "[Iteration 9   ] residual:      0.284 | iteration runtime:      0.006 ms, (  7.6E-05 s total)\n",
      "[Iteration 10  ] residual:      0.249 | iteration runtime:      0.005 ms, (  8.12E-05 s total)\n",
      "[Iteration 11  ] residual:      0.217 | iteration runtime:      0.005 ms, (  8.63E-05 s total)\n",
      "[Iteration 12  ] residual:      0.188 | iteration runtime:      0.005 ms, (  9.16E-05 s total)\n",
      "[Iteration 13  ] residual:      0.163 | iteration runtime:      0.006 ms, (  9.73E-05 s total)\n",
      "[Iteration 14  ] residual:      0.141 | iteration runtime:      0.005 ms, (  0.000103 s total)\n",
      "[Iteration 15  ] residual:      0.122 | iteration runtime:      0.005 ms, (  0.000108 s total)\n",
      "[Iteration 16  ] residual:      0.106 | iteration runtime:      0.006 ms, (  0.000114 s total)\n",
      "[Iteration 17  ] residual:     0.0914 | iteration runtime:      0.005 ms, (  0.000119 s total)\n",
      "[Iteration 18  ] residual:      0.079 | iteration runtime:      0.006 ms, (  0.000124 s total)\n",
      "[Iteration 19  ] residual:     0.0683 | iteration runtime:      0.005 ms, (   0.00013 s total)\n",
      "[Iteration 20  ] residual:     0.0591 | iteration runtime:      0.005 ms, (  0.000135 s total)\n",
      "[Iteration 21  ] residual:     0.0511 | iteration runtime:      0.005 ms, (   0.00014 s total)\n",
      "[Iteration 22  ] residual:     0.0442 | iteration runtime:      0.004 ms, (  0.000144 s total)\n",
      "[Iteration 23  ] residual:     0.0382 | iteration runtime:      0.004 ms, (  0.000148 s total)\n",
      "[Iteration 24  ] residual:     0.0331 | iteration runtime:      0.004 ms, (  0.000152 s total)\n",
      "[Iteration 25  ] residual:     0.0286 | iteration runtime:      0.004 ms, (  0.000157 s total)\n",
      "[Iteration 26  ] residual:     0.0247 | iteration runtime:      0.004 ms, (  0.000161 s total)\n",
      "[Iteration 27  ] residual:     0.0214 | iteration runtime:      0.006 ms, (  0.000166 s total)\n",
      "[Iteration 28  ] residual:     0.0185 | iteration runtime:      0.004 ms, (   0.00017 s total)\n",
      "[Iteration 29  ] residual:      0.016 | iteration runtime:      0.004 ms, (  0.000175 s total)\n",
      "[Iteration 30  ] residual:     0.0138 | iteration runtime:      0.004 ms, (  0.000179 s total)\n",
      "[Iteration 31  ] residual:      0.012 | iteration runtime:      0.006 ms, (  0.000184 s total)\n",
      "[Iteration 32  ] residual:     0.0103 | iteration runtime:      0.005 ms, (  0.000189 s total)\n",
      "[Iteration 33  ] residual:    0.00894 | iteration runtime:      0.005 ms, (  0.000194 s total)\n",
      "[Iteration 34  ] residual:    0.00773 | iteration runtime:      0.006 ms, (    0.0002 s total)\n",
      "[Iteration 35  ] residual:    0.00669 | iteration runtime:      0.004 ms, (  0.000204 s total)\n",
      "[Iteration 36  ] residual:    0.00578 | iteration runtime:      0.005 ms, (  0.000209 s total)\n",
      "[Iteration 37  ] residual:      0.005 | iteration runtime:      0.006 ms, (  0.000215 s total)\n",
      "[Iteration 38  ] residual:    0.00432 | iteration runtime:      0.006 ms, (  0.000221 s total)\n",
      "[Iteration 39  ] residual:    0.00374 | iteration runtime:      0.007 ms, (  0.000228 s total)\n",
      "[Iteration 40  ] residual:    0.00323 | iteration runtime:      0.006 ms, (  0.000233 s total)\n",
      "[Iteration 41  ] residual:     0.0028 | iteration runtime:      0.005 ms, (  0.000238 s total)\n",
      "[Iteration 42  ] residual:    0.00242 | iteration runtime:      0.005 ms, (  0.000243 s total)\n",
      "[Iteration 43  ] residual:    0.00209 | iteration runtime:      0.005 ms, (  0.000248 s total)\n",
      "[Iteration 44  ] residual:    0.00181 | iteration runtime:      0.005 ms, (  0.000253 s total)\n",
      "[Iteration 45  ] residual:    0.00156 | iteration runtime:      0.005 ms, (  0.000259 s total)\n",
      "[Iteration 46  ] residual:    0.00135 | iteration runtime:      0.005 ms, (  0.000264 s total)\n",
      "[Iteration 47  ] residual:    0.00117 | iteration runtime:      0.005 ms, (  0.000268 s total)\n",
      "[Iteration 48  ] residual:    0.00101 | iteration runtime:      0.005 ms, (  0.000273 s total)\n",
      "[Iteration 49  ] residual:   0.000875 | iteration runtime:      0.005 ms, (  0.000278 s total)\n"
     ]
    },
    {
     "data": {
      "text/plain": [
       "DiscreteValueIteration.ValueIterationPolicy([3.56746 3.78415; 3.82585 4.386; 4.54464 5.34094; 6.14625 6.59878], [3.78415, 4.386, 5.34094, 6.59878], [2, 2, 2, 2], Symbol[:left, :right], true, ChainMDP(4, 0.7, 0.9))"
      ]
     },
     "execution_count": 36,
     "metadata": {},
     "output_type": "execute_result"
    }
   ],
   "source": [
    "vi_policy = solve(solver, mdp, verbose=true)"
   ]
  },
  {
   "cell_type": "code",
   "execution_count": 40,
   "metadata": {
    "collapsed": false
   },
   "outputs": [
    {
     "name": "stdout",
     "output_type": "stream",
     "text": [
      "State: 1 Action: right\n",
      "State: 2 Action: right\n",
      "State: 3 Action: right\n",
      "State: 4 Action: right\n"
     ]
    }
   ],
   "source": [
    "for s in states(mdp)\n",
    "    println(\"State: $s Action: $(action(vi_policy, s))\")\n",
    "end"
   ]
  },
  {
   "cell_type": "code",
   "execution_count": null,
   "metadata": {
    "collapsed": true
   },
   "outputs": [],
   "source": [
    "\n",
    "\n",
    "\n",
    "\n",
    "\n",
    "\n",
    "\n",
    "\n"
   ]
  },
  {
   "cell_type": "markdown",
   "metadata": {},
   "source": [
    "# Crying Baby POMDP"
   ]
  },
  {
   "cell_type": "code",
   "execution_count": null,
   "metadata": {
    "collapsed": true
   },
   "outputs": [],
   "source": [
    "Pkg.add(\"POMDPModels\")"
   ]
  },
  {
   "cell_type": "code",
   "execution_count": 41,
   "metadata": {
    "collapsed": false
   },
   "outputs": [
    {
     "name": "stderr",
     "output_type": "stream",
     "text": [
      "\u001b[1m\u001b[36mINFO: \u001b[39m\u001b[22m\u001b[36mRecompiling stale cache file /home/zach/.julia/lib/v0.6/POMDPModels.ji for module POMDPModels.\n",
      "\u001b[39m"
     ]
    }
   ],
   "source": [
    "using POMDPModels"
   ]
  },
  {
   "cell_type": "code",
   "execution_count": 42,
   "metadata": {
    "collapsed": false
   },
   "outputs": [
    {
     "data": {
      "text/plain": [
       "POMDPModels.BabyBeliefUpdater(POMDPModels.BabyPOMDP(-5.0, -10.0, 0.1, 0.8, 0.1, 0.9))"
      ]
     },
     "execution_count": 42,
     "metadata": {},
     "output_type": "execute_result"
    }
   ],
   "source": [
    "bp = BabyPOMDP()\n",
    "up = BabyBeliefUpdater(bp)"
   ]
  },
  {
   "cell_type": "code",
   "execution_count": 43,
   "metadata": {
    "collapsed": false
   },
   "outputs": [
    {
     "name": "stdout",
     "output_type": "stream",
     "text": [
      "Package already installed\n"
     ]
    },
    {
     "name": "stderr",
     "output_type": "stream",
     "text": [
      "\u001b[1m\u001b[36mINFO: \u001b[39m\u001b[22m\u001b[36mCloning SARSOP from https://github.com/JuliaPOMDP/SARSOP.jl\n",
      "\u001b[39m\u001b[1m\u001b[36mINFO: \u001b[39m\u001b[22m\u001b[36mRecompiling stale cache file /home/zach/.julia/lib/v0.6/LightXML.ji for module LightXML.\n",
      "\u001b[39m"
     ]
    }
   ],
   "source": [
    "POMDPs.add(\"SARSOP\") # might take a while to compile\n",
    "using SARSOP"
   ]
  },
  {
   "cell_type": "code",
   "execution_count": 44,
   "metadata": {
    "collapsed": false
   },
   "outputs": [
    {
     "data": {
      "text/plain": [
       "SARSOP.SARSOPSolver(Dict{AbstractString,Any}())"
      ]
     },
     "execution_count": 44,
     "metadata": {},
     "output_type": "execute_result"
    }
   ],
   "source": [
    "solver = SARSOPSolver()"
   ]
  },
  {
   "cell_type": "code",
   "execution_count": 45,
   "metadata": {
    "collapsed": false,
    "scrolled": false
   },
   "outputs": [
    {
     "name": "stdout",
     "output_type": "stream",
     "text": [
      "Generating a pomdpx file: model.pomdpx\n",
      "\n",
      "Loading the model ...\n",
      "  input file   : model.pomdpx\n",
      "  loading time : 0.00s \n",
      "\n",
      "SARSOP initializing ...\n",
      "  initialization time : 0.00s\n",
      "\n",
      "-------------------------------------------------------------------------------\n",
      " Time   |#Trial |#Backup |LBound    |UBound    |Precision  |#Alphas |#Beliefs  \n",
      "-------------------------------------------------------------------------------\n",
      " 0       0       0        -47.3685   -16.0713   31.2971     2        1        \n",
      " 0       5       51       -17.9323   -16.0492   1.88318     9        6        \n",
      " 0       10      103      -16.3978   -16.2159   0.181953    2        8        \n",
      " 0       14      151      -16.3124   -16.277    0.0353847   2        13       \n",
      " 0       18      207      -16.3058   -16.2969   0.00887227  2        16       \n",
      " 0       21      250      -16.3055   -16.3022   0.00329006  7        16       \n",
      " 0       25      305      -16.3055   -16.3044   0.00111584  2        18       \n",
      " 0       26      323      -16.3055   -16.3045   0.000944675 2        18       \n",
      "-------------------------------------------------------------------------------\n",
      "\n",
      "SARSOP finishing ...\n",
      "  target precision reached\n",
      "  target precision  : 0.001000\n",
      "  precision reached : 0.000945 \n",
      "\n",
      "-------------------------------------------------------------------------------\n",
      " Time   |#Trial |#Backup |LBound    |UBound    |Precision  |#Alphas |#Beliefs  \n",
      "-------------------------------------------------------------------------------\n",
      " 0       26      323      -16.3055   -16.3045   0.000944675 2        18       \n",
      "-------------------------------------------------------------------------------\n",
      "\n",
      "Writing out policy ...\n",
      "  output file : out.policy\n",
      "\n"
     ]
    },
    {
     "data": {
      "text/plain": [
       "SARSOP.POMDPPolicy(\"out.policy\", POMDPXFiles.POMDPAlphas([-29.6749 -38.2512; -19.6749 -16.3055], [0, 1]), POMDPModels.BabyPOMDP(-5.0, -10.0, 0.1, 0.8, 0.1, 0.9), Any[true, false])"
      ]
     },
     "execution_count": 45,
     "metadata": {},
     "output_type": "execute_result"
    }
   ],
   "source": [
    "p = solve(solver, bp)"
   ]
  },
  {
   "cell_type": "code",
   "execution_count": 48,
   "metadata": {
    "collapsed": false,
    "scrolled": true
   },
   "outputs": [],
   "source": [
    "history = simulate(simulator, bp, p, up, BoolDistribution(0.0));"
   ]
  },
  {
   "cell_type": "code",
   "execution_count": 50,
   "metadata": {
    "collapsed": false
   },
   "outputs": [
    {
     "name": "stdout",
     "output_type": "stream",
     "text": [
      "0.00 hungry belief => don't feed\n",
      "0.47 hungry belief => feed\n",
      "0.00 hungry belief => don't feed\n",
      "0.47 hungry belief => feed\n",
      "0.00 hungry belief => don't feed\n",
      "0.02 hungry belief => don't feed\n",
      "0.03 hungry belief => don't feed\n",
      "0.03 hungry belief => don't feed\n",
      "0.03 hungry belief => don't feed\n",
      "0.03 hungry belief => don't feed\n"
     ]
    }
   ],
   "source": [
    "for (b, a) in eachstep(history, \"ba\")\n",
    "    @printf(\"%3.2f hungry belief => %s\\n\",\n",
    "            b.p,\n",
    "            a ? \"feed\":\"don't feed\")\n",
    "end"
   ]
  },
  {
   "cell_type": "code",
   "execution_count": null,
   "metadata": {
    "collapsed": true
   },
   "outputs": [],
   "source": []
  }
 ],
 "metadata": {
  "anaconda-cloud": {},
  "kernelspec": {
   "display_name": "Julia 0.6.0",
   "language": "julia",
   "name": "julia-0.6"
  },
  "language_info": {
   "file_extension": ".jl",
   "mimetype": "application/julia",
   "name": "julia",
   "version": "0.6.0"
  }
 },
 "nbformat": 4,
 "nbformat_minor": 1
}
