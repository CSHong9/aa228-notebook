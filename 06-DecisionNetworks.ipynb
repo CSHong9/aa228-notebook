{
 "cells": [
  {
   "cell_type": "markdown",
   "metadata": {},
   "source": [
    "# Decision Networks"
   ]
  },
  {
   "cell_type": "code",
   "execution_count": 1,
   "metadata": {
    "collapsed": false
   },
   "outputs": [],
   "source": [
    "using BayesNets\n",
    "using DataFrames"
   ]
  },
  {
   "cell_type": "code",
   "execution_count": 2,
   "metadata": {
    "collapsed": false
   },
   "outputs": [
    {
     "data": {
      "image/svg+xml": [
       "<?xml version=\"1.0\" encoding=\"UTF-8\"?>\n",
       "<svg xmlns=\"http://www.w3.org/2000/svg\" xmlns:xlink=\"http://www.w3.org/1999/xlink\" width=\"76.066pt\" height=\"42.011pt\" viewBox=\"0 0 76.066 42.011\" version=\"1.1\">\n",
       "<defs>\n",
       "<g>\n",
       "<symbol overflow=\"visible\" id=\"glyph-1444539847892000-0-0\">\n",
       "<path style=\"stroke:none;\" d=\"\"/>\n",
       "</symbol>\n",
       "<symbol overflow=\"visible\" id=\"glyph-1444539847892000-0-1\">\n",
       "<path style=\"stroke:none;\" d=\"M 7.21875 -3.515625 C 7.21875 -5.40625 5.703125 -7.140625 4 -7.140625 L 0.171875 -7.140625 L 0.171875 -6.5 L 0.59375 -6.5 C 1.359375 -6.5 1.203125 -6.546875 1.203125 -6.1875 L 1.203125 -0.9375 C 1.203125 -0.578125 1.359375 -0.640625 0.59375 -0.640625 L 0.171875 -0.640625 L 0.171875 0 L 4 0 C 5.671875 0 7.21875 -1.640625 7.21875 -3.515625 Z M 5.875 -3.515625 C 5.875 -2.40625 5.734375 -1.921875 5.375 -1.4375 C 5.171875 -1.171875 4.734375 -0.640625 3.734375 -0.640625 L 2.71875 -0.640625 C 2.25 -0.640625 2.40625 -0.53125 2.40625 -0.875 L 2.40625 -6.265625 C 2.40625 -6.59375 2.25 -6.5 2.71875 -6.5 L 3.71875 -6.5 C 4.34375 -6.5 4.890625 -6.328125 5.40625 -5.625 C 5.828125 -5.03125 5.875 -4.28125 5.875 -3.515625 Z \"/>\n",
       "</symbol>\n",
       "<symbol overflow=\"visible\" id=\"glyph-1444539847892000-0-2\">\n",
       "<path style=\"stroke:none;\" d=\"M 7.359375 -3.53125 C 7.359375 -5.578125 5.6875 -7.359375 3.875 -7.359375 C 2.078125 -7.359375 0.375 -5.59375 0.375 -3.53125 C 0.375 -1.5 2.09375 0.21875 3.875 0.21875 C 5.6875 0.21875 7.359375 -1.53125 7.359375 -3.53125 Z M 5.984375 -3.671875 C 5.984375 -1.03125 4.796875 -0.375 3.875 -0.375 C 2.921875 -0.375 1.75 -1.078125 1.75 -3.671875 C 1.75 -6.265625 3.046875 -6.78125 3.875 -6.78125 C 4.734375 -6.78125 5.984375 -6.234375 5.984375 -3.671875 Z \"/>\n",
       "</symbol>\n",
       "<symbol overflow=\"visible\" id=\"glyph-1444539847892000-0-3\">\n",
       "<path style=\"stroke:none;\" d=\"M 4.46875 -2.0625 L 4.078125 -2.0625 C 4 -1.609375 3.984375 -1.28125 3.875 -1.125 C 3.8125 -1.046875 3.28125 -1.09375 3.0625 -1.09375 L 1.265625 -1.09375 L 1.390625 -0.8125 L 2.4375 -1.84375 C 4 -3.21875 4.640625 -3.875 4.640625 -4.859375 C 4.640625 -6 3.578125 -6.96875 2.359375 -6.96875 C 1.234375 -6.96875 0.3125 -5.875 0.3125 -5 C 0.3125 -4.4375 1 -4.28125 1.03125 -4.28125 C 1.203125 -4.28125 1.71875 -4.5625 1.71875 -4.96875 C 1.71875 -5.21875 1.359375 -5.65625 1.015625 -5.65625 C 0.9375 -5.65625 0.921875 -5.65625 1.140625 -5.734375 C 1.28125 -6.125 1.65625 -6.328125 2.234375 -6.328125 C 3.140625 -6.328125 3.390625 -5.6875 3.390625 -4.859375 C 3.390625 -4.0625 2.9375 -3.40625 2.390625 -2.78125 L 0.484375 -0.640625 C 0.375 -0.53125 0.3125 -0.40625 0.3125 0 L 4.34375 0 L 4.671875 -2.0625 Z \"/>\n",
       "</symbol>\n",
       "<symbol overflow=\"visible\" id=\"glyph-1444539847892000-0-4\">\n",
       "<path style=\"stroke:none;\" d=\"M 4.34375 -0.15625 L 4.34375 -0.640625 L 3.859375 -0.640625 C 2.953125 -0.640625 3.09375 -0.578125 3.09375 -0.953125 L 3.09375 -6.546875 C 3.09375 -6.78125 2.9375 -6.96875 2.625 -6.96875 C 1.953125 -6.28125 1.203125 -6.328125 0.703125 -6.328125 L 0.703125 -5.6875 C 1.09375 -5.6875 1.796875 -5.734375 2.015625 -5.859375 L 2.015625 -0.953125 C 2.015625 -0.59375 2.15625 -0.640625 1.265625 -0.640625 L 0.765625 -0.640625 L 0.765625 0.015625 C 1.296875 -0.03125 2.15625 -0.03125 2.5625 -0.03125 C 2.953125 -0.03125 3.828125 -0.03125 4.34375 0.015625 Z \"/>\n",
       "</symbol>\n",
       "<symbol overflow=\"visible\" id=\"glyph-1444539847892000-0-5\">\n",
       "<path style=\"stroke:none;\" d=\"M 4.71875 -1.859375 C 4.71875 -2.6875 3.921875 -3.625 2.890625 -3.84375 L 2.890625 -3.515625 C 3.703125 -3.78125 4.453125 -4.640625 4.453125 -5.421875 C 4.453125 -6.234375 3.40625 -6.96875 2.453125 -6.96875 C 1.453125 -6.96875 0.515625 -6.203125 0.515625 -5.4375 C 0.515625 -5.109375 0.90625 -4.765625 1.203125 -4.765625 C 1.5 -4.765625 1.875 -5.140625 1.875 -5.4375 C 1.875 -5.9375 1.234375 -6.09375 1.390625 -6.09375 C 1.515625 -6.3125 2.046875 -6.390625 2.40625 -6.390625 C 2.828125 -6.390625 3.1875 -6.328125 3.1875 -5.4375 C 3.1875 -5.3125 3.21875 -4.859375 2.953125 -4.421875 C 2.65625 -3.9375 2.453125 -3.953125 2.203125 -3.953125 C 2.125 -3.9375 1.890625 -3.921875 1.8125 -3.921875 C 1.734375 -3.90625 1.484375 -3.734375 1.484375 -3.625 C 1.484375 -3.515625 1.734375 -3.359375 1.90625 -3.359375 L 2.34375 -3.359375 C 3.15625 -3.359375 3.34375 -2.84375 3.34375 -1.859375 C 3.34375 -0.515625 2.84375 -0.390625 2.40625 -0.390625 C 1.96875 -0.390625 1.34375 -0.515625 1.203125 -0.765625 C 1.21875 -0.765625 1.703125 -1.140625 1.703125 -1.53125 C 1.703125 -1.890625 1.265625 -2.25 0.984375 -2.25 C 0.734375 -2.25 0.234375 -1.9375 0.234375 -1.5 C 0.234375 -0.59375 1.34375 0.21875 2.4375 0.21875 C 3.65625 0.21875 4.71875 -0.84375 4.71875 -1.859375 Z \"/>\n",
       "</symbol>\n",
       "</g>\n",
       "</defs>\n",
       "<g id=\"surface1\">\n",
       "<path style=\"fill:none;stroke-width:0.3985;stroke-linecap:butt;stroke-linejoin:miter;stroke:rgb(0%,0%,0%);stroke-opacity:1;stroke-miterlimit:10;\" d=\"M -6.923625 -6.921531 L -20.880656 -20.882469 \" transform=\"matrix(1,0,0,-1,38.033,6.723)\"/>\n",
       "<path style=\"fill:none;stroke-width:0.31879;stroke-linecap:round;stroke-linejoin:round;stroke:rgb(0%,0%,0%);stroke-opacity:1;stroke-miterlimit:10;\" d=\"M -1.195883 1.595069 C -1.096448 0.998437 0.000131529 0.10072 0.298446 0.00127954 C 0.000130123 -0.0981569 -1.096462 -0.995858 -1.195905 -1.592489 \" transform=\"matrix(-0.70709,0.7071,0.7071,0.70709,17.15153,27.60447)\"/>\n",
       "<path style=\"fill:none;stroke-width:0.3985;stroke-linecap:butt;stroke-linejoin:miter;stroke:rgb(0%,0%,0%);stroke-opacity:1;stroke-miterlimit:10;\" d=\"M -0.00175 -6.921531 L -0.00175 -20.74575 \" transform=\"matrix(1,0,0,-1,38.033,6.723)\"/>\n",
       "<path style=\"fill:none;stroke-width:0.31879;stroke-linecap:round;stroke-linejoin:round;stroke:rgb(0%,0%,0%);stroke-opacity:1;stroke-miterlimit:10;\" d=\"M -1.196802 1.595906 C -1.09524 0.994344 -0.00149 0.0998125 0.299291 -0.00175 C -0.00149 -0.0994063 -1.09524 -0.997844 -1.196802 -1.5955 \" transform=\"matrix(0,1,1,0,38.033,27.47024)\"/>\n",
       "<path style=\"fill:none;stroke-width:0.3985;stroke-linecap:butt;stroke-linejoin:miter;stroke:rgb(0%,0%,0%);stroke-opacity:1;stroke-miterlimit:10;\" d=\"M 6.924031 -6.921531 L 20.881062 -20.882469 \" transform=\"matrix(1,0,0,-1,38.033,6.723)\"/>\n",
       "<path style=\"fill:none;stroke-width:0.31879;stroke-linecap:round;stroke-linejoin:round;stroke:rgb(0%,0%,0%);stroke-opacity:1;stroke-miterlimit:10;\" d=\"M -1.195618 1.592776 C -1.096175 0.996146 0.000417388 0.0984442 0.298734 -0.000992273 C 0.000418794 -0.100433 -1.096161 -0.99815 -1.195595 -1.594782 \" transform=\"matrix(0.70709,0.7071,0.7071,-0.70709,58.91447,27.60447)\"/>\n",
       "<g style=\"fill:rgb(0%,0%,0%);fill-opacity:1;\">\n",
       "  <use xlink:href=\"#glyph-1444539847892000-0-1\" x=\"34.227\" y=\"10.125\"/>\n",
       "</g>\n",
       "<g style=\"fill:rgb(0%,0%,0%);fill-opacity:1;\">\n",
       "  <use xlink:href=\"#glyph-1444539847892000-0-2\" x=\"3.321\" y=\"38.471\"/>\n",
       "  <use xlink:href=\"#glyph-1444539847892000-0-3\" x=\"11.071934\" y=\"38.471\"/>\n",
       "</g>\n",
       "<g style=\"fill:rgb(0%,0%,0%);fill-opacity:1;\">\n",
       "  <use xlink:href=\"#glyph-1444539847892000-0-2\" x=\"31.667\" y=\"38.471\"/>\n",
       "  <use xlink:href=\"#glyph-1444539847892000-0-4\" x=\"39.417934\" y=\"38.471\"/>\n",
       "</g>\n",
       "<g style=\"fill:rgb(0%,0%,0%);fill-opacity:1;\">\n",
       "  <use xlink:href=\"#glyph-1444539847892000-0-2\" x=\"60.013\" y=\"38.471\"/>\n",
       "  <use xlink:href=\"#glyph-1444539847892000-0-5\" x=\"67.763934\" y=\"38.471\"/>\n",
       "</g>\n",
       "</g>\n",
       "</svg>\n",
       "\n"
      ],
      "text/plain": [
       "BayesNet({4, 3} directed graph,CPD[Bernoulli((anonymous function)),Bernoulli((anonymous function)),Bernoulli((anonymous function)),Bernoulli((anonymous function))],[:O3=>4,:D=>1,:O1=>2,:O2=>3],[:D,:O1,:O2,:O3],Domain[DiscreteDomain(Bool[false,true]),DiscreteDomain(Bool[false,true]),DiscreteDomain(Bool[false,true]),DiscreteDomain(Bool[false,true])])"
      ]
     },
     "execution_count": 2,
     "metadata": {},
     "output_type": "execute_result"
    }
   ],
   "source": [
    "b = BayesNet([:D, :O1, :O2, :O3])\n",
    "addEdges!(b, [(:D, :O1), (:D, :O2), (:D, :O3)])\n",
    "setCPD!(b, :D, CPDs.Bernoulli(0.01))\n",
    "setCPD!(b, :O1, CPDs.Bernoulli(a->(a[:D] ? 0.5 : 0.5))) # no real signal of whether disease is present\n",
    "setCPD!(b, :O2, CPDs.Bernoulli(a->(a[:D] ? 0.9 : 0.01))) \n",
    "setCPD!(b, :O3, CPDs.Bernoulli(a->(a[:D] ? 0.6 : 0.3)))\n",
    "b"
   ]
  },
  {
   "cell_type": "code",
   "execution_count": 3,
   "metadata": {
    "collapsed": false
   },
   "outputs": [
    {
     "data": {
      "text/html": [
       "<table class=\"data-frame\"><tr><th></th><th>T</th><th>D</th><th>U</th></tr><tr><th>1</th><td>false</td><td>false</td><td>0</td></tr><tr><th>2</th><td>false</td><td>true</td><td>-10</td></tr><tr><th>3</th><td>true</td><td>false</td><td>-1</td></tr><tr><th>4</th><td>true</td><td>true</td><td>-1</td></tr></table>"
      ],
      "text/plain": [
       "4x3 DataFrame\n",
       "| Row | T     | D     | U   |\n",
       "|-----|-------|-------|-----|\n",
       "| 1   | false | false | 0   |\n",
       "| 2   | false | true  | -10 |\n",
       "| 3   | true  | false | -1  |\n",
       "| 4   | true  | true  | -1  |"
      ]
     },
     "execution_count": 3,
     "metadata": {},
     "output_type": "execute_result"
    }
   ],
   "source": [
    "U = DataFrame()\n",
    "U[:T] = [false, false, true, true]\n",
    "U[:D] = [false, true, false, true]\n",
    "U[:U] = [0, -10, -1, -1]\n",
    "U"
   ]
  },
  {
   "cell_type": "code",
   "execution_count": 4,
   "metadata": {
    "collapsed": false
   },
   "outputs": [],
   "source": [
    "function BayesNets.estimate(b::BayesNet, node::NodeName, a::Assignment; numSamples = 10000)\n",
    "    srand(0)\n",
    "    t = estimate(randTableWeighted(b, numSamples=numSamples, consistentWith=a))\n",
    "    normalize(sumout(t, setdiff(b.names, [node])))\n",
    "end;"
   ]
  },
  {
   "cell_type": "code",
   "execution_count": 5,
   "metadata": {
    "collapsed": false
   },
   "outputs": [
    {
     "data": {
      "text/html": [
       "<table class=\"data-frame\"><tr><th></th><th>D</th><th>p</th></tr><tr><th>1</th><td>false</td><td>0.9899</td></tr><tr><th>2</th><td>true</td><td>0.010100000000000033</td></tr></table>"
      ],
      "text/plain": [
       "2x2 DataFrame\n",
       "| Row | D     | p      |\n",
       "|-----|-------|--------|\n",
       "| 1   | false | 0.9899 |\n",
       "| 2   | true  | 0.0101 |"
      ]
     },
     "execution_count": 5,
     "metadata": {},
     "output_type": "execute_result"
    }
   ],
   "source": [
    "D = estimate(b, :D, [:O1=>true])"
   ]
  },
  {
   "cell_type": "code",
   "execution_count": 6,
   "metadata": {
    "collapsed": false
   },
   "outputs": [
    {
     "data": {
      "text/html": [
       "<table class=\"data-frame\"><tr><th></th><th>T</th><th>D</th><th>U</th><th>p</th></tr><tr><th>1</th><td>false</td><td>false</td><td>0</td><td>0.9899</td></tr><tr><th>2</th><td>true</td><td>false</td><td>-1</td><td>0.9899</td></tr><tr><th>3</th><td>false</td><td>true</td><td>-10</td><td>0.010100000000000033</td></tr><tr><th>4</th><td>true</td><td>true</td><td>-1</td><td>0.010100000000000033</td></tr></table>"
      ],
      "text/plain": [
       "4x4 DataFrame\n",
       "| Row | T     | D     | U   | p      |\n",
       "|-----|-------|-------|-----|--------|\n",
       "| 1   | false | false | 0   | 0.9899 |\n",
       "| 2   | true  | false | -1  | 0.9899 |\n",
       "| 3   | false | true  | -10 | 0.0101 |\n",
       "| 4   | true  | true  | -1  | 0.0101 |"
      ]
     },
     "execution_count": 6,
     "metadata": {},
     "output_type": "execute_result"
    }
   ],
   "source": [
    "EU = join(U, D, on = :D)"
   ]
  },
  {
   "cell_type": "code",
   "execution_count": 7,
   "metadata": {
    "collapsed": false
   },
   "outputs": [
    {
     "data": {
      "text/html": [
       "<table class=\"data-frame\"><tr><th></th><th>T</th><th>x1</th></tr><tr><th>1</th><td>false</td><td>-0.10100000000000033</td></tr><tr><th>2</th><td>true</td><td>-1.0</td></tr></table>"
      ],
      "text/plain": [
       "2x2 DataFrame\n",
       "| Row | T     | x1     |\n",
       "|-----|-------|--------|\n",
       "| 1   | false | -0.101 |\n",
       "| 2   | true  | -1.0   |"
      ]
     },
     "execution_count": 7,
     "metadata": {},
     "output_type": "execute_result"
    }
   ],
   "source": [
    "by(EU, :T, df->dot(df[:U], df[:p]))"
   ]
  },
  {
   "cell_type": "code",
   "execution_count": 8,
   "metadata": {
    "collapsed": false
   },
   "outputs": [],
   "source": [
    "function diseaseEU(b::BayesNet, a::Assignment, U::DataFrame)\n",
    "    D = estimate(b, :D, a)\n",
    "    EU = join(U, D, on = :D)\n",
    "    t = by(EU, :T, df->dot(df[:U], df[:p]))\n",
    "    rename!(t, :x1, :EU)\n",
    "    t\n",
    "end;"
   ]
  },
  {
   "cell_type": "code",
   "execution_count": 9,
   "metadata": {
    "collapsed": false
   },
   "outputs": [
    {
     "data": {
      "text/html": [
       "<table class=\"data-frame\"><tr><th></th><th>T</th><th>EU</th></tr><tr><th>1</th><td>false</td><td>-0.10100000000000033</td></tr><tr><th>2</th><td>true</td><td>-1.0</td></tr></table>"
      ],
      "text/plain": [
       "2x2 DataFrame\n",
       "| Row | T     | EU     |\n",
       "|-----|-------|--------|\n",
       "| 1   | false | -0.101 |\n",
       "| 2   | true  | -1.0   |"
      ]
     },
     "execution_count": 9,
     "metadata": {},
     "output_type": "execute_result"
    }
   ],
   "source": [
    "diseaseEU(b, [:O1=>true], U)"
   ]
  },
  {
   "cell_type": "code",
   "execution_count": 10,
   "metadata": {
    "collapsed": false
   },
   "outputs": [
    {
     "data": {
      "text/html": [
       "<table class=\"data-frame\"><tr><th></th><th>T</th><th>EU</th></tr><tr><th>1</th><td>false</td><td>-0.10100000000000033</td></tr><tr><th>2</th><td>true</td><td>-1.0</td></tr></table>"
      ],
      "text/plain": [
       "2x2 DataFrame\n",
       "| Row | T     | EU     |\n",
       "|-----|-------|--------|\n",
       "| 1   | false | -0.101 |\n",
       "| 2   | true  | -1.0   |"
      ]
     },
     "execution_count": 10,
     "metadata": {},
     "output_type": "execute_result"
    }
   ],
   "source": [
    "diseaseEU(b, [:O1=>false], U)"
   ]
  },
  {
   "cell_type": "code",
   "execution_count": 11,
   "metadata": {
    "collapsed": false
   },
   "outputs": [
    {
     "data": {
      "text/html": [
       "<table class=\"data-frame\"><tr><th></th><th>T</th><th>EU</th></tr><tr><th>1</th><td>false</td><td>-4.786981936910852</td></tr><tr><th>2</th><td>true</td><td>-1.0</td></tr></table>"
      ],
      "text/plain": [
       "2x2 DataFrame\n",
       "| Row | T     | EU       |\n",
       "|-----|-------|----------|\n",
       "| 1   | false | -4.78698 |\n",
       "| 2   | true  | -1.0     |"
      ]
     },
     "execution_count": 11,
     "metadata": {},
     "output_type": "execute_result"
    }
   ],
   "source": [
    "diseaseEU(b, [:O2=>true], U)"
   ]
  },
  {
   "cell_type": "code",
   "execution_count": 12,
   "metadata": {
    "collapsed": false
   },
   "outputs": [
    {
     "data": {
      "text/html": [
       "<table class=\"data-frame\"><tr><th></th><th>T</th><th>EU</th></tr><tr><th>1</th><td>false</td><td>-0.19998019998019936</td></tr><tr><th>2</th><td>true</td><td>-1.0</td></tr></table>"
      ],
      "text/plain": [
       "2x2 DataFrame\n",
       "| Row | T     | EU       |\n",
       "|-----|-------|----------|\n",
       "| 1   | false | -0.19998 |\n",
       "| 2   | true  | -1.0     |"
      ]
     },
     "execution_count": 12,
     "metadata": {},
     "output_type": "execute_result"
    }
   ],
   "source": [
    "t = diseaseEU(b, [:O3=>true], U)"
   ]
  }
 ],
 "metadata": {
  "kernelspec": {
   "display_name": "Julia 0.3.11",
   "language": "julia",
   "name": "julia-0.3"
  },
  "language_info": {
   "file_extension": ".jl",
   "mimetype": "application/julia",
   "name": "julia",
   "version": "0.3.11"
  }
 },
 "nbformat": 4,
 "nbformat_minor": 0
}
