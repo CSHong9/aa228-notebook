{
 "metadata": {
  "language": "Julia",
  "name": "",
  "signature": "sha256:6c330072946792ea19c958d2d9e6c1b9d115284422aa0f7b5ae438dec5d66e2e"
 },
 "nbformat": 3,
 "nbformat_minor": 0,
 "worksheets": [
  {
   "cells": [
    {
     "cell_type": "heading",
     "level": 1,
     "metadata": {},
     "source": [
      "Decision Networks"
     ]
    },
    {
     "cell_type": "code",
     "collapsed": false,
     "input": [
      "using BayesNets\n",
      "using DataFrames"
     ],
     "language": "python",
     "metadata": {},
     "outputs": [],
     "prompt_number": 1
    },
    {
     "cell_type": "code",
     "collapsed": false,
     "input": [
      "b = BayesNet([:D, :O1, :O2, :O3])\n",
      "addEdges!(b, [(:D, :O1), (:D, :O2), (:D, :O3)])\n",
      "setCPD!(b, :D, CPDs.Bernoulli(0.01))\n",
      "setCPD!(b, :O1, CPDs.Bernoulli(a->(a[:D] ? 0.5 : 0.5))) # no real signal of whether disease is present\n",
      "setCPD!(b, :O2, CPDs.Bernoulli(a->(a[:D] ? 0.9 : 0.01))) \n",
      "setCPD!(b, :O3, CPDs.Bernoulli(a->(a[:D] ? 0.6 : 0.3)))\n",
      "b"
     ],
     "language": "python",
     "metadata": {},
     "outputs": [
      {
       "metadata": {},
       "output_type": "pyout",
       "prompt_number": 2,
       "svg": [
        "<?xml version=\"1.0\" encoding=\"UTF-8\"?>\n",
        "<svg xmlns=\"http://www.w3.org/2000/svg\" xmlns:xlink=\"http://www.w3.org/1999/xlink\" width=\"76.064pt\" height=\"41.795pt\" viewBox=\"0 0 76.064 41.795\" version=\"1.1\">\n",
        "<defs>\n",
        "<g>\n",
        "<symbol overflow=\"visible\" id=\"glyph-1201964991-0-0\">\n",
        "<path style=\"stroke:none;\" d=\"\"/>\n",
        "</symbol>\n",
        "<symbol overflow=\"visible\" id=\"glyph-1201964991-0-1\">\n",
        "<path style=\"stroke:none;\" d=\"M 0.34375 -6.8125 L 0.34375 -6.5 L 0.59375 -6.5 C 1.359375 -6.5 1.375 -6.390625 1.375 -6.03125 L 1.375 -0.78125 C 1.375 -0.421875 1.359375 -0.3125 0.59375 -0.3125 L 0.34375 -0.3125 L 0.34375 0 L 4 0 C 5.671875 0 7.046875 -1.46875 7.046875 -3.34375 C 7.046875 -5.25 5.703125 -6.8125 4 -6.8125 Z M 2.71875 -0.3125 C 2.25 -0.3125 2.234375 -0.375 2.234375 -0.703125 L 2.234375 -6.09375 C 2.234375 -6.4375 2.25 -6.5 2.71875 -6.5 L 3.71875 -6.5 C 4.34375 -6.5 5.03125 -6.28125 5.53125 -5.578125 C 5.96875 -4.984375 6.046875 -4.125 6.046875 -3.34375 C 6.046875 -2.25 5.859375 -1.640625 5.5 -1.15625 C 5.296875 -0.890625 4.734375 -0.3125 3.734375 -0.3125 Z \"/>\n",
        "</symbol>\n",
        "<symbol overflow=\"visible\" id=\"glyph-1201964991-0-2\">\n",
        "<path style=\"stroke:none;\" d=\"M 7.1875 -3.375 C 7.1875 -5.40625 5.6875 -7.03125 3.875 -7.03125 C 2.078125 -7.03125 0.5625 -5.4375 0.5625 -3.375 C 0.5625 -1.328125 2.09375 0.21875 3.875 0.21875 C 5.6875 0.21875 7.1875 -1.359375 7.1875 -3.375 Z M 3.875 -0.046875 C 2.921875 -0.046875 1.578125 -0.921875 1.578125 -3.515625 C 1.578125 -6.09375 3.046875 -6.78125 3.875 -6.78125 C 4.734375 -6.78125 6.15625 -6.078125 6.15625 -3.515625 C 6.15625 -0.875 4.796875 -0.046875 3.875 -0.046875 Z \"/>\n",
        "</symbol>\n",
        "<symbol overflow=\"visible\" id=\"glyph-1201964991-0-3\">\n",
        "<path style=\"stroke:none;\" d=\"M 2.9375 -6.375 C 2.9375 -6.625 2.9375 -6.640625 2.703125 -6.640625 C 2.078125 -6 1.203125 -6 0.890625 -6 L 0.890625 -5.6875 C 1.09375 -5.6875 1.671875 -5.6875 2.1875 -5.953125 L 2.1875 -0.78125 C 2.1875 -0.421875 2.15625 -0.3125 1.265625 -0.3125 L 0.953125 -0.3125 L 0.953125 0 C 1.296875 -0.03125 2.15625 -0.03125 2.5625 -0.03125 C 2.953125 -0.03125 3.828125 -0.03125 4.171875 0 L 4.171875 -0.3125 L 3.859375 -0.3125 C 2.953125 -0.3125 2.9375 -0.421875 2.9375 -0.78125 Z \"/>\n",
        "</symbol>\n",
        "<symbol overflow=\"visible\" id=\"glyph-1201964991-0-4\">\n",
        "<path style=\"stroke:none;\" d=\"M 1.265625 -0.765625 L 2.328125 -1.796875 C 3.875 -3.171875 4.46875 -3.703125 4.46875 -4.703125 C 4.46875 -5.84375 3.578125 -6.640625 2.359375 -6.640625 C 1.234375 -6.640625 0.5 -5.71875 0.5 -4.828125 C 0.5 -4.28125 1 -4.28125 1.03125 -4.28125 C 1.203125 -4.28125 1.546875 -4.390625 1.546875 -4.8125 C 1.546875 -5.0625 1.359375 -5.328125 1.015625 -5.328125 C 0.9375 -5.328125 0.921875 -5.328125 0.890625 -5.3125 C 1.109375 -5.96875 1.65625 -6.328125 2.234375 -6.328125 C 3.140625 -6.328125 3.5625 -5.515625 3.5625 -4.703125 C 3.5625 -3.90625 3.078125 -3.125 2.515625 -2.5 L 0.609375 -0.375 C 0.5 -0.265625 0.5 -0.234375 0.5 0 L 4.203125 0 L 4.46875 -1.734375 L 4.234375 -1.734375 C 4.171875 -1.4375 4.109375 -1 4 -0.84375 C 3.9375 -0.765625 3.28125 -0.765625 3.0625 -0.765625 Z \"/>\n",
        "</symbol>\n",
        "<symbol overflow=\"visible\" id=\"glyph-1201964991-0-5\">\n",
        "<path style=\"stroke:none;\" d=\"M 2.890625 -3.515625 C 3.703125 -3.78125 4.28125 -4.46875 4.28125 -5.265625 C 4.28125 -6.078125 3.40625 -6.640625 2.453125 -6.640625 C 1.453125 -6.640625 0.6875 -6.046875 0.6875 -5.28125 C 0.6875 -4.953125 0.90625 -4.765625 1.203125 -4.765625 C 1.5 -4.765625 1.703125 -4.984375 1.703125 -5.28125 C 1.703125 -5.765625 1.234375 -5.765625 1.09375 -5.765625 C 1.390625 -6.265625 2.046875 -6.390625 2.40625 -6.390625 C 2.828125 -6.390625 3.375 -6.171875 3.375 -5.28125 C 3.375 -5.15625 3.34375 -4.578125 3.09375 -4.140625 C 2.796875 -3.65625 2.453125 -3.625 2.203125 -3.625 C 2.125 -3.609375 1.890625 -3.59375 1.8125 -3.59375 C 1.734375 -3.578125 1.671875 -3.5625 1.671875 -3.46875 C 1.671875 -3.359375 1.734375 -3.359375 1.90625 -3.359375 L 2.34375 -3.359375 C 3.15625 -3.359375 3.53125 -2.6875 3.53125 -1.703125 C 3.53125 -0.34375 2.84375 -0.0625 2.40625 -0.0625 C 1.96875 -0.0625 1.21875 -0.234375 0.875 -0.8125 C 1.21875 -0.765625 1.53125 -0.984375 1.53125 -1.359375 C 1.53125 -1.71875 1.265625 -1.921875 0.984375 -1.921875 C 0.734375 -1.921875 0.421875 -1.78125 0.421875 -1.34375 C 0.421875 -0.4375 1.34375 0.21875 2.4375 0.21875 C 3.65625 0.21875 4.5625 -0.6875 4.5625 -1.703125 C 4.5625 -2.515625 3.921875 -3.296875 2.890625 -3.515625 Z \"/>\n",
        "</symbol>\n",
        "</g>\n",
        "</defs>\n",
        "<g id=\"surface1\">\n",
        "<path style=\"fill:none;stroke-width:0.3985;stroke-linecap:butt;stroke-linejoin:miter;stroke:rgb(0%,0%,0%);stroke-opacity:1;stroke-miterlimit:10;\" d=\"M -6.922625 -6.924437 L -21.098406 -21.100219 \" transform=\"matrix(1,0,0,-1,38.032,6.724)\"/>\n",
        "<path style=\"fill:none;stroke-width:0.31879;stroke-linecap:round;stroke-linejoin:round;stroke:rgb(0%,0%,0%);stroke-opacity:1;stroke-miterlimit:10;\" d=\"M -1.195539 1.594929 C -1.096084 0.998327 0.000487867 0.100695 0.298794 0.00127095 C 0.000494897 -0.0981739 -1.096013 -0.995884 -1.195426 -1.592493 \" transform=\"matrix(-0.70715,0.7071,0.7071,0.70715,16.93305,27.82298)\"/>\n",
        "<path style=\"fill:none;stroke-width:0.3985;stroke-linecap:butt;stroke-linejoin:miter;stroke:rgb(0%,0%,0%);stroke-opacity:1;stroke-miterlimit:10;\" d=\"M -0.00075 -6.924437 L -0.00075 -20.9635 \" transform=\"matrix(1,0,0,-1,38.032,6.724)\"/>\n",
        "<path style=\"fill:none;stroke-width:0.31879;stroke-linecap:round;stroke-linejoin:round;stroke:rgb(0%,0%,0%);stroke-opacity:1;stroke-miterlimit:10;\" d=\"M -1.196563 1.593 C -1.095 0.995344 -0.00125 0.100812 0.299531 -0.00075 C -0.00125 -0.0984063 -1.095 -0.996844 -1.196563 -1.5945 \" transform=\"matrix(0,1,1,0,38.032,27.68875)\"/>\n",
        "<path style=\"fill:none;stroke-width:0.3985;stroke-linecap:butt;stroke-linejoin:miter;stroke:rgb(0%,0%,0%);stroke-opacity:1;stroke-miterlimit:10;\" d=\"M 6.925031 -6.924437 L 21.100812 -21.100219 \" transform=\"matrix(1,0,0,-1,38.032,6.724)\"/>\n",
        "<path style=\"fill:none;stroke-width:0.31879;stroke-linecap:round;stroke-linejoin:round;stroke:rgb(0%,0%,0%);stroke-opacity:1;stroke-miterlimit:10;\" d=\"M -1.193725 1.594195 C -1.097074 0.994823 0.00219639 0.0998753 0.300496 0.000430423 C -0.000572804 -0.101755 -1.094382 -0.996626 -1.193837 -1.593228 \" transform=\"matrix(0.70715,0.7071,0.7071,-0.70715,59.13095,27.82298)\"/>\n",
        "<g style=\"fill:rgb(0%,0%,0%);fill-opacity:1;\">\n",
        "  <use xlink:href=\"#glyph-1201964991-0-1\" x=\"34.227\" y=\"10.128\"/>\n",
        "</g>\n",
        "<g style=\"fill:rgb(0%,0%,0%);fill-opacity:1;\">\n",
        "  <use xlink:href=\"#glyph-1201964991-0-2\" x=\"3.321\" y=\"38.474\"/>\n",
        "  <use xlink:href=\"#glyph-1201964991-0-3\" x=\"11.069941\" y=\"38.474\"/>\n",
        "</g>\n",
        "<g style=\"fill:rgb(0%,0%,0%);fill-opacity:1;\">\n",
        "  <use xlink:href=\"#glyph-1201964991-0-2\" x=\"31.667\" y=\"38.474\"/>\n",
        "  <use xlink:href=\"#glyph-1201964991-0-4\" x=\"39.415941\" y=\"38.474\"/>\n",
        "</g>\n",
        "<g style=\"fill:rgb(0%,0%,0%);fill-opacity:1;\">\n",
        "  <use xlink:href=\"#glyph-1201964991-0-2\" x=\"60.013\" y=\"38.474\"/>\n",
        "  <use xlink:href=\"#glyph-1201964991-0-5\" x=\"67.761941\" y=\"38.474\"/>\n",
        "</g>\n",
        "</g>\n",
        "</svg>\n",
        "\n"
       ],
       "text": [
        "BayesNet(Directed Graph (4 vertices, 3 edges),CPD[Bernoulli((anonymous function)),Bernoulli((anonymous function)),Bernoulli((anonymous function)),Bernoulli((anonymous function))],[:O3=>4,:D=>1,:O1=>2,:O2=>3],[:D,:O1,:O2,:O3],Domain[DiscreteDomain(Bool[false,true]),DiscreteDomain(Bool[false,true]),DiscreteDomain(Bool[false,true]),DiscreteDomain(Bool[false,true])])"
       ]
      }
     ],
     "prompt_number": 2
    },
    {
     "cell_type": "code",
     "collapsed": false,
     "input": [
      "U = DataFrame()\n",
      "U[:T] = [false, false, true, true]\n",
      "U[:D] = [false, true, false, true]\n",
      "U[:U] = [0, -10, -1, -1]\n",
      "U"
     ],
     "language": "python",
     "metadata": {},
     "outputs": [
      {
       "html": [
        "<table class=\"data-frame\"><tr><th></th><th>T</th><th>D</th><th>U</th></tr><tr><th>1</th><td>false</td><td>false</td><td>0</td></tr><tr><th>2</th><td>false</td><td>true</td><td>-10</td></tr><tr><th>3</th><td>true</td><td>false</td><td>-1</td></tr><tr><th>4</th><td>true</td><td>true</td><td>-1</td></tr></table>"
       ],
       "metadata": {},
       "output_type": "pyout",
       "prompt_number": 3,
       "text": [
        "4x3 DataFrame\n",
        "|-------|-------|-------|-----|\n",
        "| Row # | T     | D     | U   |\n",
        "| 1     | false | false | 0   |\n",
        "| 2     | false | true  | -10 |\n",
        "| 3     | true  | false | -1  |\n",
        "| 4     | true  | true  | -1  |"
       ]
      }
     ],
     "prompt_number": 3
    },
    {
     "cell_type": "code",
     "collapsed": false,
     "input": [
      "function BayesNets.estimate(b::BayesNet, node::NodeName, a::Assignment; numSamples = 10000)\n",
      "    srand(0)\n",
      "    t = estimate(randTableWeighted(b, numSamples=numSamples, consistentWith=a))\n",
      "    normalize(sumout(t, setdiff(b.names, [node])))\n",
      "end;"
     ],
     "language": "python",
     "metadata": {},
     "outputs": [],
     "prompt_number": 4
    },
    {
     "cell_type": "code",
     "collapsed": false,
     "input": [
      "D = estimate(b, :D, [:O1=>true])"
     ],
     "language": "python",
     "metadata": {},
     "outputs": [
      {
       "html": [
        "<table class=\"data-frame\"><tr><th></th><th>D</th><th>p</th></tr><tr><th>1</th><td>false</td><td>0.9899000000000001</td></tr><tr><th>2</th><td>true</td><td>0.010099999999999885</td></tr></table>"
       ],
       "metadata": {},
       "output_type": "pyout",
       "prompt_number": 5,
       "text": [
        "2x2 DataFrame\n",
        "|-------|-------|--------|\n",
        "| Row # | D     | p      |\n",
        "| 1     | false | 0.9899 |\n",
        "| 2     | true  | 0.0101 |"
       ]
      }
     ],
     "prompt_number": 5
    },
    {
     "cell_type": "code",
     "collapsed": false,
     "input": [
      "EU = join(U, D, on = :D)"
     ],
     "language": "python",
     "metadata": {},
     "outputs": [
      {
       "html": [
        "<table class=\"data-frame\"><tr><th></th><th>T</th><th>D</th><th>U</th><th>p</th></tr><tr><th>1</th><td>false</td><td>false</td><td>0</td><td>0.9899000000000001</td></tr><tr><th>2</th><td>true</td><td>false</td><td>-1</td><td>0.9899000000000001</td></tr><tr><th>3</th><td>false</td><td>true</td><td>-10</td><td>0.010099999999999885</td></tr><tr><th>4</th><td>true</td><td>true</td><td>-1</td><td>0.010099999999999885</td></tr></table>"
       ],
       "metadata": {},
       "output_type": "pyout",
       "prompt_number": 6,
       "text": [
        "4x4 DataFrame\n",
        "|-------|-------|-------|-----|--------|\n",
        "| Row # | T     | D     | U   | p      |\n",
        "| 1     | false | false | 0   | 0.9899 |\n",
        "| 2     | true  | false | -1  | 0.9899 |\n",
        "| 3     | false | true  | -10 | 0.0101 |\n",
        "| 4     | true  | true  | -1  | 0.0101 |"
       ]
      }
     ],
     "prompt_number": 6
    },
    {
     "cell_type": "code",
     "collapsed": false,
     "input": [
      "by(EU, :T, df->dot(df[:U], df[:p]))"
     ],
     "language": "python",
     "metadata": {},
     "outputs": [
      {
       "html": [
        "<table class=\"data-frame\"><tr><th></th><th>T</th><th>x1</th></tr><tr><th>1</th><td>false</td><td>-0.10099999999999885</td></tr><tr><th>2</th><td>true</td><td>-1.0</td></tr></table>"
       ],
       "metadata": {},
       "output_type": "pyout",
       "prompt_number": 7,
       "text": [
        "2x2 DataFrame\n",
        "|-------|-------|--------|\n",
        "| Row # | T     | x1     |\n",
        "| 1     | false | -0.101 |\n",
        "| 2     | true  | -1.0   |"
       ]
      }
     ],
     "prompt_number": 7
    },
    {
     "cell_type": "code",
     "collapsed": false,
     "input": [
      "function diseaseEU(b::BayesNet, a::Assignment, U::DataFrame)\n",
      "    D = estimate(b, :D, a)\n",
      "    EU = join(U, D, on = :D)\n",
      "    t = by(EU, :T, df->dot(df[:U], df[:p]))\n",
      "    rename!(t, :x1, :EU)\n",
      "    t\n",
      "end;"
     ],
     "language": "python",
     "metadata": {},
     "outputs": [],
     "prompt_number": 8
    },
    {
     "cell_type": "code",
     "collapsed": false,
     "input": [
      "diseaseEU(b, [:O1=>true], U)"
     ],
     "language": "python",
     "metadata": {},
     "outputs": [
      {
       "html": [
        "<table class=\"data-frame\"><tr><th></th><th>T</th><th>EU</th></tr><tr><th>1</th><td>false</td><td>-0.10099999999999885</td></tr><tr><th>2</th><td>true</td><td>-1.0</td></tr></table>"
       ],
       "metadata": {},
       "output_type": "pyout",
       "prompt_number": 9,
       "text": [
        "2x2 DataFrame\n",
        "|-------|-------|--------|\n",
        "| Row # | T     | EU     |\n",
        "| 1     | false | -0.101 |\n",
        "| 2     | true  | -1.0   |"
       ]
      }
     ],
     "prompt_number": 9
    },
    {
     "cell_type": "code",
     "collapsed": false,
     "input": [
      "diseaseEU(b, [:O1=>false], U)"
     ],
     "language": "python",
     "metadata": {},
     "outputs": [
      {
       "html": [
        "<table class=\"data-frame\"><tr><th></th><th>T</th><th>EU</th></tr><tr><th>1</th><td>false</td><td>-0.10099999999999885</td></tr><tr><th>2</th><td>true</td><td>-1.0</td></tr></table>"
       ],
       "metadata": {},
       "output_type": "pyout",
       "prompt_number": 10,
       "text": [
        "2x2 DataFrame\n",
        "|-------|-------|--------|\n",
        "| Row # | T     | EU     |\n",
        "| 1     | false | -0.101 |\n",
        "| 2     | true  | -1.0   |"
       ]
      }
     ],
     "prompt_number": 10
    },
    {
     "cell_type": "code",
     "collapsed": false,
     "input": [
      "diseaseEU(b, [:O2=>true], U)"
     ],
     "language": "python",
     "metadata": {},
     "outputs": [
      {
       "html": [
        "<table class=\"data-frame\"><tr><th></th><th>T</th><th>EU</th></tr><tr><th>1</th><td>false</td><td>-4.786981936910851</td></tr><tr><th>2</th><td>true</td><td>-1.0</td></tr></table>"
       ],
       "metadata": {},
       "output_type": "pyout",
       "prompt_number": 11,
       "text": [
        "2x2 DataFrame\n",
        "|-------|-------|----------|\n",
        "| Row # | T     | EU       |\n",
        "| 1     | false | -4.78698 |\n",
        "| 2     | true  | -1.0     |"
       ]
      }
     ],
     "prompt_number": 11
    },
    {
     "cell_type": "code",
     "collapsed": false,
     "input": [
      "t = diseaseEU(b, [:O3=>true], U)"
     ],
     "language": "python",
     "metadata": {},
     "outputs": [
      {
       "html": [
        "<table class=\"data-frame\"><tr><th></th><th>T</th><th>EU</th></tr><tr><th>1</th><td>false</td><td>-0.1999801999802013</td></tr><tr><th>2</th><td>true</td><td>-1.0</td></tr></table>"
       ],
       "metadata": {},
       "output_type": "pyout",
       "prompt_number": 12,
       "text": [
        "2x2 DataFrame\n",
        "|-------|-------|----------|\n",
        "| Row # | T     | EU       |\n",
        "| 1     | false | -0.19998 |\n",
        "| 2     | true  | -1.0     |"
       ]
      }
     ],
     "prompt_number": 12
    }
   ],
   "metadata": {}
  }
 ]
}